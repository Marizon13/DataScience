{
 "cells": [
  {
   "cell_type": "markdown",
   "metadata": {},
   "source": [
    "# Estatística\n",
    "- Arquivo de apoio para a apresentação"
   ]
  },
  {
   "cell_type": "code",
   "execution_count": 7,
   "metadata": {},
   "outputs": [],
   "source": [
    "# !pip install ipywidgets"
   ]
  },
  {
   "cell_type": "code",
   "execution_count": 1,
   "metadata": {},
   "outputs": [],
   "source": [
    "import pandas as pd \n",
    "import numpy as np\n",
    "import ipywidgets as widgets\n",
    "import matplotlib.pyplot as plt\n",
    "from scipy import stats"
   ]
  },
  {
   "cell_type": "markdown",
   "metadata": {},
   "source": [
    "# A importância da estatística descritiva"
   ]
  },
  {
   "cell_type": "code",
   "execution_count": 2,
   "metadata": {},
   "outputs": [
    {
     "name": "stdout",
     "output_type": "stream",
     "text": [
      "média: 4.233333333333333\n",
      "mediana: 4.1\n",
      "moda: 4.7\n"
     ]
    },
    {
     "data": {
      "image/png": "[encoded data removed]",
      "text/plain": [
       "<Figure size 432x288 with 1 Axes>"
      ]
     },
     "metadata": {
      "needs_background": "light"
     },
     "output_type": "display_data"
    }
   ],
   "source": [
    "salarios = {\n",
    "    \"pessoas\": ['Jorge','Pedro','Marina','Renato','Bia','Renata','Yasmin','Lucas','Pablo','Glaucia','Maria','Gabriel'],\n",
    "    \"salarios\": [3,5,4,2,5.5,4.7,4.2,2.4,3.3,9.8,2.2,4.7]       \n",
    "}\n",
    "\n",
    "salarios = pd.DataFrame(salarios)\n",
    "\n",
    "print('média: ' + str(salarios.salarios.mean()))\n",
    "print('mediana: ' + str(salarios.salarios.median()))\n",
    "print('moda: ' + str(salarios.salarios.mode()[0]))\n",
    "\n",
    "salarios.salarios.hist();"
   ]
  },
  {
   "cell_type": "markdown",
   "metadata": {},
   "source": [
    "# Tabela de frequência e histograma"
   ]
  },
  {
   "cell_type": "code",
   "execution_count": 3,
   "metadata": {},
   "outputs": [
    {
     "name": "stdout",
     "output_type": "stream",
     "text": [
      "col_0   contagem\n",
      "idades          \n",
      "16             4\n",
      "17             8\n",
      "18             7\n",
      "19             1\n",
      "21             1\n"
     ]
    }
   ],
   "source": [
    "base_alunos = {\n",
    "    \"id_aluno\": [1,2,3,4,5,6,7,8,9,10,11,12,13,14,15,16,17,18,19,20,21],\n",
    "    \"idades\": [16,16,16,16,17,17,17,17,17,17,17,17,18,18,18,18,18,18,18,19,21]\n",
    "}\n",
    "\n",
    "base_alunos = pd.DataFrame(base_alunos)\n",
    "\n",
    "print(pd.crosstab(index=base_alunos.idades,columns=\"contagem\"))"
   ]
  },
  {
   "cell_type": "code",
   "execution_count": 4,
   "metadata": {},
   "outputs": [
    {
     "data": {
      "image/png": "[encoded data removed]",
      "text/plain": [
       "<Figure size 432x288 with 1 Axes>"
      ]
     },
     "metadata": {
      "needs_background": "light"
     },
     "output_type": "display_data"
    }
   ],
   "source": [
    "base_alunos.idades.hist();"
   ]
  },
  {
   "cell_type": "markdown",
   "metadata": {},
   "source": [
    "# Média, mediana e moda"
   ]
  },
  {
   "cell_type": "code",
   "execution_count": 5,
   "metadata": {},
   "outputs": [
    {
     "name": "stdout",
     "output_type": "stream",
     "text": [
      "valores    30.25\n",
      "dtype: float64\n"
     ]
    }
   ],
   "source": [
    "base = {\n",
    "    \"valores\": [5,7,9,100]\n",
    "}\n",
    "\n",
    "base = pd.DataFrame(base)\n",
    "\n",
    "print(base.mean())"
   ]
  },
  {
   "cell_type": "code",
   "execution_count": 6,
   "metadata": {},
   "outputs": [
    {
     "name": "stdout",
     "output_type": "stream",
     "text": [
      "valores    8.0\n",
      "dtype: float64\n"
     ]
    }
   ],
   "source": [
    "base = {\n",
    "    \"valores\": [5,7,9,100]\n",
    "}\n",
    "\n",
    "base = pd.DataFrame(base)\n",
    "\n",
    "print(base.median())"
   ]
  },
  {
   "cell_type": "markdown",
   "metadata": {},
   "source": [
    "## Analisando as avaliações de uma empresa"
   ]
  },
  {
   "cell_type": "code",
   "execution_count": 7,
   "metadata": {},
   "outputs": [],
   "source": [
    "notas = np.array([1,1,2,2,2,2,3,3,3,3,3,3,3,3,3,4,4,4,4,4,4,4,4,4,4,4,4,4,4,4,5,5,5,5,5,5,5,5,5,5,5,5,5,5,5,5,5,5,5,6,6,6,6,6,6,6,6,6,6,6,6,6,6,7,7,7,7,7,7,7,7,7,7,8,8,8,8,9,9,9])"
   ]
  },
  {
   "cell_type": "code",
   "execution_count": 8,
   "metadata": {},
   "outputs": [
    {
     "data": {
      "text/plain": [
       "(array([1, 2, 3, 4, 5, 6, 7, 8, 9]),\n",
       " array([ 2,  4,  9, 15, 19, 14, 10,  4,  3], dtype=int64))"
      ]
     },
     "execution_count": 8,
     "metadata": {},
     "output_type": "execute_result"
    }
   ],
   "source": [
    "np.unique(notas,return_counts=True)"
   ]
  },
  {
   "cell_type": "code",
   "execution_count": 9,
   "metadata": {},
   "outputs": [],
   "source": [
    "#                 1 2 3 4 5 6 7 8 9 1011  \n",
    "notas2 = np.array([5,5,5,5,5,5,5,5,5,5,5,6,6,6,6,6,6,6,6,6,6,6])"
   ]
  },
  {
   "cell_type": "code",
   "execution_count": 10,
   "metadata": {},
   "outputs": [
    {
     "name": "stdout",
     "output_type": "stream",
     "text": [
      "5.5\n",
      "5.5\n",
      "22\n"
     ]
    }
   ],
   "source": [
    "print(np.median(notas2))\n",
    "print(np.mean(notas2))\n",
    "print(len(notas2))"
   ]
  },
  {
   "cell_type": "code",
   "execution_count": 11,
   "metadata": {},
   "outputs": [
    {
     "name": "stdout",
     "output_type": "stream",
     "text": [
      "média: 5.0625\n",
      "mediana: 5.0\n"
     ]
    },
    {
     "data": {
      "image/png": "[encoded data removed]",
      "text/plain": [
       "<Figure size 432x288 with 1 Axes>"
      ]
     },
     "metadata": {
      "needs_background": "light"
     },
     "output_type": "display_data"
    }
   ],
   "source": [
    "valores = np.unique(notas,return_counts=True)[0]\n",
    "contagem = np.unique(notas,return_counts=True)[1]\n",
    "\n",
    "media_inicial = np.mean(notas)\n",
    "mediana_inicial = np.median(notas)\n",
    "\n",
    "\n",
    "print('média: ' + str(media_inicial))\n",
    "print('mediana: ' + str(mediana_inicial))\n",
    "\n",
    "plt.bar(x=valores,height=contagem);\n",
    "plt.axvline(x=media_inicial, color='g', linestyle='-');\n",
    "plt.axvline(x=mediana_inicial, color='r', linestyle='-');"
   ]
  },
  {
   "cell_type": "markdown",
   "metadata": {},
   "source": [
    "### Como novos valores alteram a média e a mediana"
   ]
  },
  {
   "cell_type": "code",
   "execution_count": 12,
   "metadata": {},
   "outputs": [],
   "source": [
    "notas = np.array([1,1,2,2,2,2,3,3,3,3,3,3,3,3,3,4,4,4,4,4,4,4,4,4,4,4,4,4,4,4,5,5,5,5,5,5,5,5,5,5,5,5,5,5,5,5,5,5,5,6,6,6,6,6,6,6,6,6,6,6,6,6,6,7,7,7,7,7,7,7,7,7,7,8,8,8,8,9,9,9])"
   ]
  },
  {
   "cell_type": "code",
   "execution_count": 13,
   "metadata": {},
   "outputs": [],
   "source": [
    "def plot_grafico(quantidade,valor):\n",
    "    \n",
    "    novo_notas = notas\n",
    "    while quantidade > 0:\n",
    "        novo_notas = np.append(novo_notas,valor)\n",
    "        quantidade -= 1\n",
    "        \n",
    "    valores = np.unique(novo_notas,return_counts=True)[0]\n",
    "    contagem = np.unique(novo_notas,return_counts=True)[1]\n",
    "\n",
    "    media = np.mean(novo_notas)\n",
    "    mediana = np.median(novo_notas)\n",
    "\n",
    "    plt.bar(x=valores,height=contagem);\n",
    "    plt.axvline(x=media, color='g', linestyle='-')\n",
    "    plt.axvline(x=mediana, color='r', linestyle='-')\n",
    "    \n",
    "    print('média: ' + str(round(media,2)) + ' / média inicial: ' + str(round(media_inicial,2)))\n",
    "    print('mediana: ' + str(mediana) + ' / mediana inicial: ' + str(mediana_inicial))"
   ]
  },
  {
   "cell_type": "code",
   "execution_count": 14,
   "metadata": {},
   "outputs": [
    {
     "data": {
      "application/vnd.jupyter.widget-view+json": {
       "model_id": "38d07e8122df42288470a95a227a391e",
       "version_major": 2,
       "version_minor": 0
      },
      "text/plain": [
       "interactive(children=(IntSlider(value=0, description='quantidade'), IntSlider(value=50, description='valor'), …"
      ]
     },
     "metadata": {},
     "output_type": "display_data"
    }
   ],
   "source": [
    "widgets.interact_manual(plot_grafico,quantidade=widgets.IntSlider(min=0, max=100,value=0),valor=(0,100));"
   ]
  },
  {
   "cell_type": "markdown",
   "metadata": {},
   "source": [
    "### (Explicando os conceitos de média e mediana)"
   ]
  },
  {
   "cell_type": "code",
   "execution_count": 15,
   "metadata": {},
   "outputs": [
    {
     "data": {
      "application/vnd.jupyter.widget-view+json": {
       "model_id": "9c88bb6139f54c95b350d06d89ed99b0",
       "version_major": 2,
       "version_minor": 0
      },
      "text/plain": [
       "interactive(children=(IntSlider(value=0, description='quantidade'), IntSlider(value=50, description='valor'), …"
      ]
     },
     "metadata": {},
     "output_type": "display_data"
    }
   ],
   "source": [
    "notas = np.array([1,1,2,2,3])\n",
    "media_inicial = np.mean(notas)\n",
    "mediana_inicial = np.median(notas)\n",
    "\n",
    "widgets.interact_manual(plot_grafico,quantidade=widgets.IntSlider(min=0, max=100,value=0),valor=(0,100));"
   ]
  },
  {
   "cell_type": "markdown",
   "metadata": {},
   "source": [
    "### Analisando também a moda"
   ]
  },
  {
   "cell_type": "code",
   "execution_count": 16,
   "metadata": {},
   "outputs": [],
   "source": [
    "notas = np.array([1,1,2,2,2,2,3,3,3,3,3,3,3,3,3,4,4,4,4,4,4,4,4,4,4,4,4,4,4,4,5,5,5,5,5,5,5,5,5,5,5,5,5,5,5,5,5,5,5,6,6,6,6,6,6,6,6,6,6,6,6,6,6,7,7,7,7,7,7,7,7,7,7,8,8,8,8,9,9,9])"
   ]
  },
  {
   "cell_type": "code",
   "execution_count": 17,
   "metadata": {},
   "outputs": [],
   "source": [
    "media_inicial = np.mean(notas)\n",
    "mediana_inicial = np.median(notas)\n",
    "moda_inicial = stats.mode(notas).mode[0]"
   ]
  },
  {
   "cell_type": "code",
   "execution_count": 18,
   "metadata": {},
   "outputs": [],
   "source": [
    "def plot_grafico2(quantidade,valor):\n",
    "    \n",
    "    novo_notas = notas\n",
    "    while quantidade > 0:\n",
    "        novo_notas = np.append(novo_notas,valor)\n",
    "        quantidade -= 1\n",
    "        \n",
    "    valores = np.unique(novo_notas,return_counts=True)[0]\n",
    "    contagem = np.unique(novo_notas,return_counts=True)[1]\n",
    "\n",
    "    media = np.mean(novo_notas)\n",
    "    mediana = np.median(novo_notas)\n",
    "    moda = stats.mode(novo_notas)\n",
    "\n",
    "    plt.bar(x=valores,height=contagem);\n",
    "    plt.axvline(x=media, color='g', linestyle='-')\n",
    "    plt.axvline(x=mediana, color='r', linestyle='-')\n",
    "    plt.axvline(x=moda.mode[0], color='y', linestyle='-')\n",
    "    \n",
    "    print('média: ' + str(round(media,2)) + ' / média inicial: ' + str(round(media_inicial,2)))\n",
    "    print('mediana: ' + str(mediana) + ' / mediana inicial: ' + str(mediana_inicial))\n",
    "    print('moda: ' + str(moda.mode[0]) + ' / moda inicial: ' + str(moda_inicial))"
   ]
  },
  {
   "cell_type": "code",
   "execution_count": 19,
   "metadata": {},
   "outputs": [
    {
     "data": {
      "application/vnd.jupyter.widget-view+json": {
       "model_id": "e3e4f899a6c64c39a9e82e01e12c1019",
       "version_major": 2,
       "version_minor": 0
      },
      "text/plain": [
       "interactive(children=(IntSlider(value=0, description='quantidade'), IntSlider(value=50, description='valor'), …"
      ]
     },
     "metadata": {},
     "output_type": "display_data"
    }
   ],
   "source": [
    "widgets.interact_manual(plot_grafico2,quantidade=widgets.IntSlider(min=0, max=100,value=0),valor=(0,100));"
   ]
  },
  {
   "cell_type": "markdown",
   "metadata": {},
   "source": [
    "### (Explicando os conceitos de média, mediana e moda)"
   ]
  },
  {
   "cell_type": "code",
   "execution_count": 20,
   "metadata": {},
   "outputs": [
    {
     "data": {
      "application/vnd.jupyter.widget-view+json": {
       "model_id": "85227f1a0acb44018db702ba013ed8f0",
       "version_major": 2,
       "version_minor": 0
      },
      "text/plain": [
       "interactive(children=(IntSlider(value=0, description='quantidade', max=10), IntSlider(value=5, description='va…"
      ]
     },
     "metadata": {},
     "output_type": "display_data"
    }
   ],
   "source": [
    "notas = np.array([1,1,1,2,2,3])\n",
    "media_inicial = np.mean(notas)\n",
    "mediana_inicial = np.median(notas)\n",
    "moda_inicial = stats.mode(notas).mode[0]\n",
    "\n",
    "widgets.interact_manual(plot_grafico2,quantidade=widgets.IntSlider(min=0, max=10,value=0),valor=(0,10));"
   ]
  },
  {
   "cell_type": "markdown",
   "metadata": {},
   "source": [
    "# Usando média, mediana e moda para avaliar produtos"
   ]
  },
  {
   "cell_type": "code",
   "execution_count": 21,
   "metadata": {},
   "outputs": [],
   "source": [
    "# Importando a base do excel\n",
    "base = pd.read_csv(\"10. Introdução à Estatística.csv\")\n",
    "base = base.drop([\"Unnamed: 0\"],axis=1)"
   ]
  },
  {
   "cell_type": "code",
   "execution_count": 22,
   "metadata": {},
   "outputs": [
    {
     "data": {
      "text/html": [
       "<div>\n",
       "<style scoped>\n",
       "    .dataframe tbody tr th:only-of-type {\n",
       "        vertical-align: middle;\n",
       "    }\n",
       "\n",
       "    .dataframe tbody tr th {\n",
       "        vertical-align: top;\n",
       "    }\n",
       "\n",
       "    .dataframe thead th {\n",
       "        text-align: right;\n",
       "    }\n",
       "</style>\n",
       "<table border=\"1\" class=\"dataframe\">\n",
       "  <thead>\n",
       "    <tr style=\"text-align: right;\">\n",
       "      <th></th>\n",
       "      <th>Produto1</th>\n",
       "      <th>Produto2</th>\n",
       "      <th>Produto3</th>\n",
       "      <th>Produto4</th>\n",
       "      <th>Produto5</th>\n",
       "      <th>Produto6</th>\n",
       "    </tr>\n",
       "  </thead>\n",
       "  <tbody>\n",
       "    <tr>\n",
       "      <th>0</th>\n",
       "      <td>6.0</td>\n",
       "      <td>3.0</td>\n",
       "      <td>5.0</td>\n",
       "      <td>9.0</td>\n",
       "      <td>1.0</td>\n",
       "      <td>2.0</td>\n",
       "    </tr>\n",
       "    <tr>\n",
       "      <th>1</th>\n",
       "      <td>6.0</td>\n",
       "      <td>4.0</td>\n",
       "      <td>6.0</td>\n",
       "      <td>NaN</td>\n",
       "      <td>1.0</td>\n",
       "      <td>NaN</td>\n",
       "    </tr>\n",
       "    <tr>\n",
       "      <th>2</th>\n",
       "      <td>6.0</td>\n",
       "      <td>4.0</td>\n",
       "      <td>7.0</td>\n",
       "      <td>NaN</td>\n",
       "      <td>1.0</td>\n",
       "      <td>NaN</td>\n",
       "    </tr>\n",
       "    <tr>\n",
       "      <th>3</th>\n",
       "      <td>6.0</td>\n",
       "      <td>5.0</td>\n",
       "      <td>7.0</td>\n",
       "      <td>NaN</td>\n",
       "      <td>2.0</td>\n",
       "      <td>NaN</td>\n",
       "    </tr>\n",
       "    <tr>\n",
       "      <th>4</th>\n",
       "      <td>7.0</td>\n",
       "      <td>5.0</td>\n",
       "      <td>7.0</td>\n",
       "      <td>NaN</td>\n",
       "      <td>2.0</td>\n",
       "      <td>NaN</td>\n",
       "    </tr>\n",
       "    <tr>\n",
       "      <th>5</th>\n",
       "      <td>7.0</td>\n",
       "      <td>9.0</td>\n",
       "      <td>7.0</td>\n",
       "      <td>NaN</td>\n",
       "      <td>2.0</td>\n",
       "      <td>NaN</td>\n",
       "    </tr>\n",
       "    <tr>\n",
       "      <th>6</th>\n",
       "      <td>7.0</td>\n",
       "      <td>9.0</td>\n",
       "      <td>8.0</td>\n",
       "      <td>NaN</td>\n",
       "      <td>2.0</td>\n",
       "      <td>NaN</td>\n",
       "    </tr>\n",
       "    <tr>\n",
       "      <th>7</th>\n",
       "      <td>8.0</td>\n",
       "      <td>9.0</td>\n",
       "      <td>9.0</td>\n",
       "      <td>NaN</td>\n",
       "      <td>3.0</td>\n",
       "      <td>NaN</td>\n",
       "    </tr>\n",
       "    <tr>\n",
       "      <th>8</th>\n",
       "      <td>8.0</td>\n",
       "      <td>9.0</td>\n",
       "      <td>9.0</td>\n",
       "      <td>NaN</td>\n",
       "      <td>4.0</td>\n",
       "      <td>NaN</td>\n",
       "    </tr>\n",
       "    <tr>\n",
       "      <th>9</th>\n",
       "      <td>8.0</td>\n",
       "      <td>10.0</td>\n",
       "      <td>9.0</td>\n",
       "      <td>NaN</td>\n",
       "      <td>10.0</td>\n",
       "      <td>NaN</td>\n",
       "    </tr>\n",
       "  </tbody>\n",
       "</table>\n",
       "</div>"
      ],
      "text/plain": [
       "   Produto1  Produto2  Produto3  Produto4  Produto5  Produto6\n",
       "0       6.0       3.0       5.0       9.0       1.0       2.0\n",
       "1       6.0       4.0       6.0       NaN       1.0       NaN\n",
       "2       6.0       4.0       7.0       NaN       1.0       NaN\n",
       "3       6.0       5.0       7.0       NaN       2.0       NaN\n",
       "4       7.0       5.0       7.0       NaN       2.0       NaN\n",
       "5       7.0       9.0       7.0       NaN       2.0       NaN\n",
       "6       7.0       9.0       8.0       NaN       2.0       NaN\n",
       "7       8.0       9.0       9.0       NaN       3.0       NaN\n",
       "8       8.0       9.0       9.0       NaN       4.0       NaN\n",
       "9       8.0      10.0       9.0       NaN      10.0       NaN"
      ]
     },
     "metadata": {},
     "output_type": "display_data"
    }
   ],
   "source": [
    "display(base)"
   ]
  },
  {
   "cell_type": "code",
   "execution_count": 23,
   "metadata": {},
   "outputs": [
    {
     "data": {
      "text/plain": [
       "Produto1    6.9\n",
       "Produto2    6.7\n",
       "Produto3    7.4\n",
       "Produto4    9.0\n",
       "Produto5    2.8\n",
       "Produto6    2.0\n",
       "dtype: float64"
      ]
     },
     "execution_count": 23,
     "metadata": {},
     "output_type": "execute_result"
    }
   ],
   "source": [
    "base.mean()"
   ]
  },
  {
   "cell_type": "code",
   "execution_count": 24,
   "metadata": {},
   "outputs": [
    {
     "data": {
      "text/html": [
       "<div>\n",
       "<style scoped>\n",
       "    .dataframe tbody tr th:only-of-type {\n",
       "        vertical-align: middle;\n",
       "    }\n",
       "\n",
       "    .dataframe tbody tr th {\n",
       "        vertical-align: top;\n",
       "    }\n",
       "\n",
       "    .dataframe thead th {\n",
       "        text-align: right;\n",
       "    }\n",
       "</style>\n",
       "<table border=\"1\" class=\"dataframe\">\n",
       "  <thead>\n",
       "    <tr style=\"text-align: right;\">\n",
       "      <th></th>\n",
       "      <th>produtos</th>\n",
       "      <th>média</th>\n",
       "    </tr>\n",
       "  </thead>\n",
       "  <tbody>\n",
       "    <tr>\n",
       "      <th>0</th>\n",
       "      <td>Produto1</td>\n",
       "      <td>6.9</td>\n",
       "    </tr>\n",
       "    <tr>\n",
       "      <th>1</th>\n",
       "      <td>Produto2</td>\n",
       "      <td>6.7</td>\n",
       "    </tr>\n",
       "    <tr>\n",
       "      <th>2</th>\n",
       "      <td>Produto3</td>\n",
       "      <td>7.4</td>\n",
       "    </tr>\n",
       "    <tr>\n",
       "      <th>3</th>\n",
       "      <td>Produto4</td>\n",
       "      <td>9.0</td>\n",
       "    </tr>\n",
       "    <tr>\n",
       "      <th>4</th>\n",
       "      <td>Produto5</td>\n",
       "      <td>2.8</td>\n",
       "    </tr>\n",
       "    <tr>\n",
       "      <th>5</th>\n",
       "      <td>Produto6</td>\n",
       "      <td>2.0</td>\n",
       "    </tr>\n",
       "  </tbody>\n",
       "</table>\n",
       "</div>"
      ],
      "text/plain": [
       "   produtos  média\n",
       "0  Produto1    6.9\n",
       "1  Produto2    6.7\n",
       "2  Produto3    7.4\n",
       "3  Produto4    9.0\n",
       "4  Produto5    2.8\n",
       "5  Produto6    2.0"
      ]
     },
     "execution_count": 24,
     "metadata": {},
     "output_type": "execute_result"
    }
   ],
   "source": [
    "base_resumo = pd.DataFrame()\n",
    "base_resumo['produtos'] = base.columns\n",
    "base_resumo['média'] = base.mean().values\n",
    "base_resumo"
   ]
  },
  {
   "cell_type": "code",
   "execution_count": 25,
   "metadata": {},
   "outputs": [
    {
     "data": {
      "text/html": [
       "<div>\n",
       "<style scoped>\n",
       "    .dataframe tbody tr th:only-of-type {\n",
       "        vertical-align: middle;\n",
       "    }\n",
       "\n",
       "    .dataframe tbody tr th {\n",
       "        vertical-align: top;\n",
       "    }\n",
       "\n",
       "    .dataframe thead th {\n",
       "        text-align: right;\n",
       "    }\n",
       "</style>\n",
       "<table border=\"1\" class=\"dataframe\">\n",
       "  <thead>\n",
       "    <tr style=\"text-align: right;\">\n",
       "      <th></th>\n",
       "      <th>produtos</th>\n",
       "      <th>média</th>\n",
       "      <th>mediana</th>\n",
       "      <th>moda</th>\n",
       "    </tr>\n",
       "  </thead>\n",
       "  <tbody>\n",
       "    <tr>\n",
       "      <th>0</th>\n",
       "      <td>Produto1</td>\n",
       "      <td>6.9</td>\n",
       "      <td>7.0</td>\n",
       "      <td>6.0</td>\n",
       "    </tr>\n",
       "    <tr>\n",
       "      <th>1</th>\n",
       "      <td>Produto2</td>\n",
       "      <td>6.7</td>\n",
       "      <td>7.0</td>\n",
       "      <td>9.0</td>\n",
       "    </tr>\n",
       "    <tr>\n",
       "      <th>2</th>\n",
       "      <td>Produto3</td>\n",
       "      <td>7.4</td>\n",
       "      <td>7.0</td>\n",
       "      <td>7.0</td>\n",
       "    </tr>\n",
       "    <tr>\n",
       "      <th>3</th>\n",
       "      <td>Produto4</td>\n",
       "      <td>9.0</td>\n",
       "      <td>9.0</td>\n",
       "      <td>9.0</td>\n",
       "    </tr>\n",
       "    <tr>\n",
       "      <th>4</th>\n",
       "      <td>Produto5</td>\n",
       "      <td>2.8</td>\n",
       "      <td>2.0</td>\n",
       "      <td>2.0</td>\n",
       "    </tr>\n",
       "    <tr>\n",
       "      <th>5</th>\n",
       "      <td>Produto6</td>\n",
       "      <td>2.0</td>\n",
       "      <td>2.0</td>\n",
       "      <td>2.0</td>\n",
       "    </tr>\n",
       "  </tbody>\n",
       "</table>\n",
       "</div>"
      ],
      "text/plain": [
       "   produtos  média  mediana  moda\n",
       "0  Produto1    6.9      7.0   6.0\n",
       "1  Produto2    6.7      7.0   9.0\n",
       "2  Produto3    7.4      7.0   7.0\n",
       "3  Produto4    9.0      9.0   9.0\n",
       "4  Produto5    2.8      2.0   2.0\n",
       "5  Produto6    2.0      2.0   2.0"
      ]
     },
     "execution_count": 25,
     "metadata": {},
     "output_type": "execute_result"
    }
   ],
   "source": [
    "base_resumo['mediana'] = base.median().values\n",
    "base_resumo['moda'] = base.mode().iloc[0].values\n",
    "base_resumo"
   ]
  },
  {
   "cell_type": "code",
   "execution_count": 26,
   "metadata": {},
   "outputs": [
    {
     "data": {
      "text/html": [
       "<div>\n",
       "<style scoped>\n",
       "    .dataframe tbody tr th:only-of-type {\n",
       "        vertical-align: middle;\n",
       "    }\n",
       "\n",
       "    .dataframe tbody tr th {\n",
       "        vertical-align: top;\n",
       "    }\n",
       "\n",
       "    .dataframe thead th {\n",
       "        text-align: right;\n",
       "    }\n",
       "</style>\n",
       "<table border=\"1\" class=\"dataframe\">\n",
       "  <thead>\n",
       "    <tr style=\"text-align: right;\">\n",
       "      <th></th>\n",
       "      <th>produtos</th>\n",
       "      <th>média</th>\n",
       "      <th>mediana</th>\n",
       "      <th>moda</th>\n",
       "      <th>registros</th>\n",
       "      <th>mínimo</th>\n",
       "      <th>máximo</th>\n",
       "    </tr>\n",
       "  </thead>\n",
       "  <tbody>\n",
       "    <tr>\n",
       "      <th>0</th>\n",
       "      <td>Produto1</td>\n",
       "      <td>6.9</td>\n",
       "      <td>7.0</td>\n",
       "      <td>6.0</td>\n",
       "      <td>10</td>\n",
       "      <td>6.0</td>\n",
       "      <td>8.0</td>\n",
       "    </tr>\n",
       "    <tr>\n",
       "      <th>1</th>\n",
       "      <td>Produto2</td>\n",
       "      <td>6.7</td>\n",
       "      <td>7.0</td>\n",
       "      <td>9.0</td>\n",
       "      <td>10</td>\n",
       "      <td>3.0</td>\n",
       "      <td>10.0</td>\n",
       "    </tr>\n",
       "    <tr>\n",
       "      <th>2</th>\n",
       "      <td>Produto3</td>\n",
       "      <td>7.4</td>\n",
       "      <td>7.0</td>\n",
       "      <td>7.0</td>\n",
       "      <td>10</td>\n",
       "      <td>5.0</td>\n",
       "      <td>9.0</td>\n",
       "    </tr>\n",
       "    <tr>\n",
       "      <th>3</th>\n",
       "      <td>Produto4</td>\n",
       "      <td>9.0</td>\n",
       "      <td>9.0</td>\n",
       "      <td>9.0</td>\n",
       "      <td>1</td>\n",
       "      <td>9.0</td>\n",
       "      <td>9.0</td>\n",
       "    </tr>\n",
       "    <tr>\n",
       "      <th>4</th>\n",
       "      <td>Produto5</td>\n",
       "      <td>2.8</td>\n",
       "      <td>2.0</td>\n",
       "      <td>2.0</td>\n",
       "      <td>10</td>\n",
       "      <td>1.0</td>\n",
       "      <td>10.0</td>\n",
       "    </tr>\n",
       "    <tr>\n",
       "      <th>5</th>\n",
       "      <td>Produto6</td>\n",
       "      <td>2.0</td>\n",
       "      <td>2.0</td>\n",
       "      <td>2.0</td>\n",
       "      <td>1</td>\n",
       "      <td>2.0</td>\n",
       "      <td>2.0</td>\n",
       "    </tr>\n",
       "  </tbody>\n",
       "</table>\n",
       "</div>"
      ],
      "text/plain": [
       "   produtos  média  mediana  moda  registros  mínimo  máximo\n",
       "0  Produto1    6.9      7.0   6.0         10     6.0     8.0\n",
       "1  Produto2    6.7      7.0   9.0         10     3.0    10.0\n",
       "2  Produto3    7.4      7.0   7.0         10     5.0     9.0\n",
       "3  Produto4    9.0      9.0   9.0          1     9.0     9.0\n",
       "4  Produto5    2.8      2.0   2.0         10     1.0    10.0\n",
       "5  Produto6    2.0      2.0   2.0          1     2.0     2.0"
      ]
     },
     "execution_count": 26,
     "metadata": {},
     "output_type": "execute_result"
    }
   ],
   "source": [
    "base_resumo['registros'] = base.count().values\n",
    "base_resumo['mínimo'] = base.min().values\n",
    "base_resumo['máximo'] = base.max().values\n",
    "base_resumo"
   ]
  },
  {
   "cell_type": "markdown",
   "metadata": {},
   "source": [
    "## Considerando um exemplo sem um limite de range"
   ]
  },
  {
   "cell_type": "code",
   "execution_count": 27,
   "metadata": {},
   "outputs": [],
   "source": [
    "# Base de salários de 13 pessoas\n",
    "empresa1 = {\n",
    "    'assistente1': 1000,\n",
    "    'assistente2': 1080,\n",
    "    'analista1': 1500,\n",
    "    'analista2': 1520,\n",
    "    'analista3': 1600,\n",
    "    'analista4': 1670,\n",
    "    'coordenador1': 2640,\n",
    "    'coordenador2': 2730,\n",
    "    'coordenador3': 2710,\n",
    "    'gerente1': 5000,\n",
    "    'gerente2': 5000,\n",
    "    'CEO': 57000\n",
    "}\n",
    "\n",
    "empresa2 = {\n",
    "    'assistente1': 3000,\n",
    "    'assistente2': 3000,\n",
    "    'analista1': 4200,\n",
    "    'analista2': 4200,\n",
    "    'analista3': 4200,\n",
    "    'analista4': 4200,\n",
    "    'coordenador1': 6000,\n",
    "    'coordenador2': 6000,\n",
    "    'coordenador3': 6000,\n",
    "    'gerente1': 8000,\n",
    "    'gerente2': 8000,\n",
    "    'CEO': 15000\n",
    "}\n",
    "\n",
    "empresa1 = pd.DataFrame(empresa1.items(), columns=['Cargo', 'Salário'])\n",
    "empresa2 = pd.DataFrame(empresa2.items(), columns=['Cargo', 'Salário'])"
   ]
  },
  {
   "cell_type": "code",
   "execution_count": 28,
   "metadata": {},
   "outputs": [
    {
     "data": {
      "text/html": [
       "<div>\n",
       "<style scoped>\n",
       "    .dataframe tbody tr th:only-of-type {\n",
       "        vertical-align: middle;\n",
       "    }\n",
       "\n",
       "    .dataframe tbody tr th {\n",
       "        vertical-align: top;\n",
       "    }\n",
       "\n",
       "    .dataframe thead th {\n",
       "        text-align: right;\n",
       "    }\n",
       "</style>\n",
       "<table border=\"1\" class=\"dataframe\">\n",
       "  <thead>\n",
       "    <tr style=\"text-align: right;\">\n",
       "      <th></th>\n",
       "      <th>empresas</th>\n",
       "      <th>média</th>\n",
       "      <th>mediana</th>\n",
       "      <th>moda</th>\n",
       "      <th>registros</th>\n",
       "      <th>mínimo</th>\n",
       "      <th>máximo</th>\n",
       "    </tr>\n",
       "  </thead>\n",
       "  <tbody>\n",
       "    <tr>\n",
       "      <th>0</th>\n",
       "      <td>1</td>\n",
       "      <td>6954.2</td>\n",
       "      <td>2155.0</td>\n",
       "      <td>5000</td>\n",
       "      <td>12</td>\n",
       "      <td>1000</td>\n",
       "      <td>57000</td>\n",
       "    </tr>\n",
       "    <tr>\n",
       "      <th>1</th>\n",
       "      <td>2</td>\n",
       "      <td>5983.3</td>\n",
       "      <td>5100.0</td>\n",
       "      <td>4200</td>\n",
       "      <td>12</td>\n",
       "      <td>3000</td>\n",
       "      <td>15000</td>\n",
       "    </tr>\n",
       "  </tbody>\n",
       "</table>\n",
       "</div>"
      ],
      "text/plain": [
       "   empresas   média  mediana  moda  registros  mínimo  máximo\n",
       "0         1  6954.2   2155.0  5000         12    1000   57000\n",
       "1         2  5983.3   5100.0  4200         12    3000   15000"
      ]
     },
     "execution_count": 28,
     "metadata": {},
     "output_type": "execute_result"
    }
   ],
   "source": [
    "base_resumo = pd.DataFrame()\n",
    "base_resumo['empresas'] = [1,2]\n",
    "base_resumo['média'] = [round(empresa1.Salário.mean(),1),round(empresa2.Salário.mean(),1)]\n",
    "base_resumo['mediana'] = [round(empresa1.Salário.median(),1),round(empresa2.Salário.median(),1)]\n",
    "base_resumo['moda'] = [round(empresa1.Salário.mode()[0],1),round(empresa2.Salário.mode()[0],1)]\n",
    "base_resumo['registros'] = [round(empresa1.Salário.count(),1),round(empresa2.Salário.count(),1)]\n",
    "base_resumo['mínimo'] = [round(empresa1.Salário.min(),1),round(empresa2.Salário.min(),1)]\n",
    "base_resumo['máximo'] = [round(empresa1.Salário.max(),1),round(empresa2.Salário.max(),1)]\n",
    "base_resumo"
   ]
  },
  {
   "cell_type": "code",
   "execution_count": 29,
   "metadata": {},
   "outputs": [
    {
     "data": {
      "image/png": "[encoded data removed]",
      "text/plain": [
       "<Figure size 432x288 with 1 Axes>"
      ]
     },
     "metadata": {
      "needs_background": "light"
     },
     "output_type": "display_data"
    }
   ],
   "source": [
    "# Base de salários de 13 pessoas\n",
    "salarios = {\n",
    "    'funcionario': [1,2,3,4,5,6,7,8,9,10,11,12],\n",
    "    'cargos': ['assistente1','assistente2','analista1','analista2','analista3','analista4','coordenador1','coordenador2','coordenador3','gerente1','gerente2','CEO'],\n",
    "    'empresa1': [1000,1080,1500,1520,1600,1670,2640,2730,2710,5000,5000,57000],\n",
    "    'empresa2': [3000,3000,4200,4200,4200,4200,6000,6000,6000,8000,8000,15000]\n",
    "}\n",
    "\n",
    "salarios = pd.DataFrame(salarios)\n",
    "\n",
    "salarios.empresa2.plot();\n",
    "salarios.empresa1.plot();"
   ]
  },
  {
   "cell_type": "code",
   "execution_count": 30,
   "metadata": {},
   "outputs": [
    {
     "data": {
      "image/png": "[encoded data removed]",
      "text/plain": [
       "<Figure size 432x288 with 1 Axes>"
      ]
     },
     "metadata": {
      "needs_background": "light"
     },
     "output_type": "display_data"
    }
   ],
   "source": [
    "# Base de salários de 13 pessoas\n",
    "salarios = {\n",
    "    'funcionario': [1,2,3,4,5,6,7,8,9,10,11],\n",
    "    'cargos': ['assistente1','assistente2','analista1','analista2','analista3','analista4','coordenador1','coordenador2','coordenador3','gerente1','gerente2'],\n",
    "    'empresa1': [1000,1080,1500,1520,1600,1670,2640,2730,2710,5000,5000],\n",
    "    'empresa2': [3000,3000,4200,4200,4200,4200,6000,6000,6000,8000,8000]\n",
    "}\n",
    "\n",
    "salarios = pd.DataFrame(salarios)\n",
    "\n",
    "salarios.empresa2.plot();\n",
    "salarios.empresa1.plot();"
   ]
  },
  {
   "cell_type": "markdown",
   "metadata": {},
   "source": [
    "### (Entendendo a relação entre média, mediana e moda)"
   ]
  },
  {
   "cell_type": "code",
   "execution_count": 31,
   "metadata": {},
   "outputs": [],
   "source": [
    "def ajustes_grafico(n1=0,n2=0,n3=0,n4=0,n5=0,n6=0,n7=0,n8=0,n9=0):\n",
    "    \n",
    "    novo_notas = notas\n",
    "        \n",
    "    novo_notas = np.append(novo_notas,np.repeat(1,n1))\n",
    "    novo_notas = np.append(novo_notas,np.repeat(2,n2))\n",
    "    novo_notas = np.append(novo_notas,np.repeat(3,n3))\n",
    "    novo_notas = np.append(novo_notas,np.repeat(4,n4))\n",
    "    novo_notas = np.append(novo_notas,np.repeat(5,n5))\n",
    "    novo_notas = np.append(novo_notas,np.repeat(6,n6))\n",
    "    novo_notas = np.append(novo_notas,np.repeat(7,n7))\n",
    "    novo_notas = np.append(novo_notas,np.repeat(8,n8))\n",
    "    novo_notas = np.append(novo_notas,np.repeat(9,n9))\n",
    "        \n",
    "    valores = np.unique(novo_notas,return_counts=True)[0]\n",
    "    contagem = np.unique(novo_notas,return_counts=True)[1]\n",
    "\n",
    "    media = np.mean(novo_notas)\n",
    "    mediana = np.median(novo_notas)\n",
    "    moda = stats.mode(novo_notas)\n",
    "\n",
    "    plt.bar(x=valores,height=contagem);\n",
    "    plt.axvline(x=media, color='g', linestyle='-')\n",
    "    plt.axvline(x=mediana, color='r', linestyle='-')\n",
    "    plt.axvline(x=moda.mode[0], color='y', linestyle='-')\n",
    "    \n",
    "    print('registros: '+ str(len(novo_notas)))\n",
    "    print('média: ' + str(round(media,2)) + ' / média inicial: ' + str(round(media_inicial,2)))\n",
    "    print('mediana: ' + str(mediana) + ' / mediana inicial: ' + str(mediana_inicial))\n",
    "    print('moda: ' + str(moda.mode[0]) + ' / moda inicial: ' + str(moda_inicial))"
   ]
  },
  {
   "cell_type": "code",
   "execution_count": 32,
   "metadata": {},
   "outputs": [
    {
     "data": {
      "application/vnd.jupyter.widget-view+json": {
       "model_id": "b8a07af2aee84166928fa62c2d9b9eb8",
       "version_major": 2,
       "version_minor": 0
      },
      "text/plain": [
       "interactive(children=(IntSlider(value=0, description='n1', max=40), IntSlider(value=0, description='n2', max=4…"
      ]
     },
     "metadata": {},
     "output_type": "display_data"
    }
   ],
   "source": [
    "widgets.interact_manual(ajustes_grafico,n1=(0,40),n2=(0,40),n3=(0,40),n4=(0,40),n5=(0,40),n6=(0,40), \\\n",
    "                        n7=(0,40),n8=(0,40),n9=(0,40));"
   ]
  },
  {
   "cell_type": "code",
   "execution_count": null,
   "metadata": {},
   "outputs": [],
   "source": []
  }
 ],
 "metadata": {
  "kernelspec": {
   "display_name": "Python 3 (ipykernel)",
   "language": "python",
   "name": "python3"
  },
  "language_info": {
   "codemirror_mode": {
    "name": "ipython",
    "version": 3
   },
   "file_extension": ".py",
   "mimetype": "text/x-python",
   "name": "python",
   "nbconvert_exporter": "python",
   "pygments_lexer": "ipython3",
   "version": "3.9.7"
  }
 },
 "nbformat": 4,
 "nbformat_minor": 4
}
