{
 "cells": [
  {
   "cell_type": "markdown",
   "metadata": {},
   "source": [
    "# Criando uma apresentação executiva\n",
    "- Vamos usar a base de vendas do kaggle disponível em:\n",
    "    - https://www.kaggle.com/datasets/rohitsahoo/sales-forecasting\n",
    "\n",
    "### O que queremos responder?\n",
    "- Como foi a **venda** nesse período?\n",
    "- Qual foi a **categoria mais vendida**?\n",
    "- Qual foi o **item mais vendido**?\n"
   ]
  },
  {
   "cell_type": "markdown",
   "metadata": {},
   "source": [
    "### 1. Importando e visualizando a base\n",
    "- Base: \"Criando uma apresentação executiva.csv\""
   ]
  },
  {
   "cell_type": "code",
   "execution_count": 1,
   "metadata": {},
   "outputs": [
    {
     "data": {
      "text/html": [
       "<div>\n",
       "<style scoped>\n",
       "    .dataframe tbody tr th:only-of-type {\n",
       "        vertical-align: middle;\n",
       "    }\n",
       "\n",
       "    .dataframe tbody tr th {\n",
       "        vertical-align: top;\n",
       "    }\n",
       "\n",
       "    .dataframe thead th {\n",
       "        text-align: right;\n",
       "    }\n",
       "</style>\n",
       "<table border=\"1\" class=\"dataframe\">\n",
       "  <thead>\n",
       "    <tr style=\"text-align: right;\">\n",
       "      <th></th>\n",
       "      <th>Row ID</th>\n",
       "      <th>Order ID</th>\n",
       "      <th>Order Date</th>\n",
       "      <th>Ship Date</th>\n",
       "      <th>Ship Mode</th>\n",
       "      <th>Customer ID</th>\n",
       "      <th>Customer Name</th>\n",
       "      <th>Segment</th>\n",
       "      <th>Country</th>\n",
       "      <th>City</th>\n",
       "      <th>State</th>\n",
       "      <th>Postal Code</th>\n",
       "      <th>Region</th>\n",
       "      <th>Product ID</th>\n",
       "      <th>Category</th>\n",
       "      <th>Sub-Category</th>\n",
       "      <th>Product Name</th>\n",
       "      <th>Sales</th>\n",
       "    </tr>\n",
       "  </thead>\n",
       "  <tbody>\n",
       "    <tr>\n",
       "      <th>0</th>\n",
       "      <td>1</td>\n",
       "      <td>CA-2017-152156</td>\n",
       "      <td>08/11/2017</td>\n",
       "      <td>11/11/2017</td>\n",
       "      <td>Second Class</td>\n",
       "      <td>CG-12520</td>\n",
       "      <td>Claire Gute</td>\n",
       "      <td>Consumer</td>\n",
       "      <td>United States</td>\n",
       "      <td>Henderson</td>\n",
       "      <td>Kentucky</td>\n",
       "      <td>42420.0</td>\n",
       "      <td>South</td>\n",
       "      <td>FUR-BO-10001798</td>\n",
       "      <td>Furniture</td>\n",
       "      <td>Bookcases</td>\n",
       "      <td>Bush Somerset Collection Bookcase</td>\n",
       "      <td>261.9600</td>\n",
       "    </tr>\n",
       "    <tr>\n",
       "      <th>1</th>\n",
       "      <td>2</td>\n",
       "      <td>CA-2017-152156</td>\n",
       "      <td>08/11/2017</td>\n",
       "      <td>11/11/2017</td>\n",
       "      <td>Second Class</td>\n",
       "      <td>CG-12520</td>\n",
       "      <td>Claire Gute</td>\n",
       "      <td>Consumer</td>\n",
       "      <td>United States</td>\n",
       "      <td>Henderson</td>\n",
       "      <td>Kentucky</td>\n",
       "      <td>42420.0</td>\n",
       "      <td>South</td>\n",
       "      <td>FUR-CH-10000454</td>\n",
       "      <td>Furniture</td>\n",
       "      <td>Chairs</td>\n",
       "      <td>Hon Deluxe Fabric Upholstered Stacking Chairs,...</td>\n",
       "      <td>731.9400</td>\n",
       "    </tr>\n",
       "    <tr>\n",
       "      <th>2</th>\n",
       "      <td>3</td>\n",
       "      <td>CA-2017-138688</td>\n",
       "      <td>12/06/2017</td>\n",
       "      <td>16/06/2017</td>\n",
       "      <td>Second Class</td>\n",
       "      <td>DV-13045</td>\n",
       "      <td>Darrin Van Huff</td>\n",
       "      <td>Corporate</td>\n",
       "      <td>United States</td>\n",
       "      <td>Los Angeles</td>\n",
       "      <td>California</td>\n",
       "      <td>90036.0</td>\n",
       "      <td>West</td>\n",
       "      <td>OFF-LA-10000240</td>\n",
       "      <td>Office Supplies</td>\n",
       "      <td>Labels</td>\n",
       "      <td>Self-Adhesive Address Labels for Typewriters b...</td>\n",
       "      <td>14.6200</td>\n",
       "    </tr>\n",
       "    <tr>\n",
       "      <th>3</th>\n",
       "      <td>4</td>\n",
       "      <td>US-2016-108966</td>\n",
       "      <td>11/10/2016</td>\n",
       "      <td>18/10/2016</td>\n",
       "      <td>Standard Class</td>\n",
       "      <td>SO-20335</td>\n",
       "      <td>Sean O'Donnell</td>\n",
       "      <td>Consumer</td>\n",
       "      <td>United States</td>\n",
       "      <td>Fort Lauderdale</td>\n",
       "      <td>Florida</td>\n",
       "      <td>33311.0</td>\n",
       "      <td>South</td>\n",
       "      <td>FUR-TA-10000577</td>\n",
       "      <td>Furniture</td>\n",
       "      <td>Tables</td>\n",
       "      <td>Bretford CR4500 Series Slim Rectangular Table</td>\n",
       "      <td>957.5775</td>\n",
       "    </tr>\n",
       "    <tr>\n",
       "      <th>4</th>\n",
       "      <td>5</td>\n",
       "      <td>US-2016-108966</td>\n",
       "      <td>11/10/2016</td>\n",
       "      <td>18/10/2016</td>\n",
       "      <td>Standard Class</td>\n",
       "      <td>SO-20335</td>\n",
       "      <td>Sean O'Donnell</td>\n",
       "      <td>Consumer</td>\n",
       "      <td>United States</td>\n",
       "      <td>Fort Lauderdale</td>\n",
       "      <td>Florida</td>\n",
       "      <td>33311.0</td>\n",
       "      <td>South</td>\n",
       "      <td>OFF-ST-10000760</td>\n",
       "      <td>Office Supplies</td>\n",
       "      <td>Storage</td>\n",
       "      <td>Eldon Fold 'N Roll Cart System</td>\n",
       "      <td>22.3680</td>\n",
       "    </tr>\n",
       "    <tr>\n",
       "      <th>...</th>\n",
       "      <td>...</td>\n",
       "      <td>...</td>\n",
       "      <td>...</td>\n",
       "      <td>...</td>\n",
       "      <td>...</td>\n",
       "      <td>...</td>\n",
       "      <td>...</td>\n",
       "      <td>...</td>\n",
       "      <td>...</td>\n",
       "      <td>...</td>\n",
       "      <td>...</td>\n",
       "      <td>...</td>\n",
       "      <td>...</td>\n",
       "      <td>...</td>\n",
       "      <td>...</td>\n",
       "      <td>...</td>\n",
       "      <td>...</td>\n",
       "      <td>...</td>\n",
       "    </tr>\n",
       "    <tr>\n",
       "      <th>9795</th>\n",
       "      <td>9796</td>\n",
       "      <td>CA-2017-125920</td>\n",
       "      <td>21/05/2017</td>\n",
       "      <td>28/05/2017</td>\n",
       "      <td>Standard Class</td>\n",
       "      <td>SH-19975</td>\n",
       "      <td>Sally Hughsby</td>\n",
       "      <td>Corporate</td>\n",
       "      <td>United States</td>\n",
       "      <td>Chicago</td>\n",
       "      <td>Illinois</td>\n",
       "      <td>60610.0</td>\n",
       "      <td>Central</td>\n",
       "      <td>OFF-BI-10003429</td>\n",
       "      <td>Office Supplies</td>\n",
       "      <td>Binders</td>\n",
       "      <td>Cardinal HOLDit! Binder Insert Strips,Extra St...</td>\n",
       "      <td>3.7980</td>\n",
       "    </tr>\n",
       "    <tr>\n",
       "      <th>9796</th>\n",
       "      <td>9797</td>\n",
       "      <td>CA-2016-128608</td>\n",
       "      <td>12/01/2016</td>\n",
       "      <td>17/01/2016</td>\n",
       "      <td>Standard Class</td>\n",
       "      <td>CS-12490</td>\n",
       "      <td>Cindy Schnelling</td>\n",
       "      <td>Corporate</td>\n",
       "      <td>United States</td>\n",
       "      <td>Toledo</td>\n",
       "      <td>Ohio</td>\n",
       "      <td>43615.0</td>\n",
       "      <td>East</td>\n",
       "      <td>OFF-AR-10001374</td>\n",
       "      <td>Office Supplies</td>\n",
       "      <td>Art</td>\n",
       "      <td>BIC Brite Liner Highlighters, Chisel Tip</td>\n",
       "      <td>10.3680</td>\n",
       "    </tr>\n",
       "    <tr>\n",
       "      <th>9797</th>\n",
       "      <td>9798</td>\n",
       "      <td>CA-2016-128608</td>\n",
       "      <td>12/01/2016</td>\n",
       "      <td>17/01/2016</td>\n",
       "      <td>Standard Class</td>\n",
       "      <td>CS-12490</td>\n",
       "      <td>Cindy Schnelling</td>\n",
       "      <td>Corporate</td>\n",
       "      <td>United States</td>\n",
       "      <td>Toledo</td>\n",
       "      <td>Ohio</td>\n",
       "      <td>43615.0</td>\n",
       "      <td>East</td>\n",
       "      <td>TEC-PH-10004977</td>\n",
       "      <td>Technology</td>\n",
       "      <td>Phones</td>\n",
       "      <td>GE 30524EE4</td>\n",
       "      <td>235.1880</td>\n",
       "    </tr>\n",
       "    <tr>\n",
       "      <th>9798</th>\n",
       "      <td>9799</td>\n",
       "      <td>CA-2016-128608</td>\n",
       "      <td>12/01/2016</td>\n",
       "      <td>17/01/2016</td>\n",
       "      <td>Standard Class</td>\n",
       "      <td>CS-12490</td>\n",
       "      <td>Cindy Schnelling</td>\n",
       "      <td>Corporate</td>\n",
       "      <td>United States</td>\n",
       "      <td>Toledo</td>\n",
       "      <td>Ohio</td>\n",
       "      <td>43615.0</td>\n",
       "      <td>East</td>\n",
       "      <td>TEC-PH-10000912</td>\n",
       "      <td>Technology</td>\n",
       "      <td>Phones</td>\n",
       "      <td>Anker 24W Portable Micro USB Car Charger</td>\n",
       "      <td>26.3760</td>\n",
       "    </tr>\n",
       "    <tr>\n",
       "      <th>9799</th>\n",
       "      <td>9800</td>\n",
       "      <td>CA-2016-128608</td>\n",
       "      <td>12/01/2016</td>\n",
       "      <td>17/01/2016</td>\n",
       "      <td>Standard Class</td>\n",
       "      <td>CS-12490</td>\n",
       "      <td>Cindy Schnelling</td>\n",
       "      <td>Corporate</td>\n",
       "      <td>United States</td>\n",
       "      <td>Toledo</td>\n",
       "      <td>Ohio</td>\n",
       "      <td>43615.0</td>\n",
       "      <td>East</td>\n",
       "      <td>TEC-AC-10000487</td>\n",
       "      <td>Technology</td>\n",
       "      <td>Accessories</td>\n",
       "      <td>SanDisk Cruzer 4 GB USB Flash Drive</td>\n",
       "      <td>10.3840</td>\n",
       "    </tr>\n",
       "  </tbody>\n",
       "</table>\n",
       "<p>9800 rows × 18 columns</p>\n",
       "</div>"
      ],
      "text/plain": [
       "      Row ID        Order ID  Order Date   Ship Date       Ship Mode  \\\n",
       "0          1  CA-2017-152156  08/11/2017  11/11/2017    Second Class   \n",
       "1          2  CA-2017-152156  08/11/2017  11/11/2017    Second Class   \n",
       "2          3  CA-2017-138688  12/06/2017  16/06/2017    Second Class   \n",
       "3          4  US-2016-108966  11/10/2016  18/10/2016  Standard Class   \n",
       "4          5  US-2016-108966  11/10/2016  18/10/2016  Standard Class   \n",
       "...      ...             ...         ...         ...             ...   \n",
       "9795    9796  CA-2017-125920  21/05/2017  28/05/2017  Standard Class   \n",
       "9796    9797  CA-2016-128608  12/01/2016  17/01/2016  Standard Class   \n",
       "9797    9798  CA-2016-128608  12/01/2016  17/01/2016  Standard Class   \n",
       "9798    9799  CA-2016-128608  12/01/2016  17/01/2016  Standard Class   \n",
       "9799    9800  CA-2016-128608  12/01/2016  17/01/2016  Standard Class   \n",
       "\n",
       "     Customer ID     Customer Name    Segment        Country             City  \\\n",
       "0       CG-12520       Claire Gute   Consumer  United States        Henderson   \n",
       "1       CG-12520       Claire Gute   Consumer  United States        Henderson   \n",
       "2       DV-13045   Darrin Van Huff  Corporate  United States      Los Angeles   \n",
       "3       SO-20335    Sean O'Donnell   Consumer  United States  Fort Lauderdale   \n",
       "4       SO-20335    Sean O'Donnell   Consumer  United States  Fort Lauderdale   \n",
       "...          ...               ...        ...            ...              ...   \n",
       "9795    SH-19975     Sally Hughsby  Corporate  United States          Chicago   \n",
       "9796    CS-12490  Cindy Schnelling  Corporate  United States           Toledo   \n",
       "9797    CS-12490  Cindy Schnelling  Corporate  United States           Toledo   \n",
       "9798    CS-12490  Cindy Schnelling  Corporate  United States           Toledo   \n",
       "9799    CS-12490  Cindy Schnelling  Corporate  United States           Toledo   \n",
       "\n",
       "           State  Postal Code   Region       Product ID         Category  \\\n",
       "0       Kentucky      42420.0    South  FUR-BO-10001798        Furniture   \n",
       "1       Kentucky      42420.0    South  FUR-CH-10000454        Furniture   \n",
       "2     California      90036.0     West  OFF-LA-10000240  Office Supplies   \n",
       "3        Florida      33311.0    South  FUR-TA-10000577        Furniture   \n",
       "4        Florida      33311.0    South  OFF-ST-10000760  Office Supplies   \n",
       "...          ...          ...      ...              ...              ...   \n",
       "9795    Illinois      60610.0  Central  OFF-BI-10003429  Office Supplies   \n",
       "9796        Ohio      43615.0     East  OFF-AR-10001374  Office Supplies   \n",
       "9797        Ohio      43615.0     East  TEC-PH-10004977       Technology   \n",
       "9798        Ohio      43615.0     East  TEC-PH-10000912       Technology   \n",
       "9799        Ohio      43615.0     East  TEC-AC-10000487       Technology   \n",
       "\n",
       "     Sub-Category                                       Product Name     Sales  \n",
       "0       Bookcases                  Bush Somerset Collection Bookcase  261.9600  \n",
       "1          Chairs  Hon Deluxe Fabric Upholstered Stacking Chairs,...  731.9400  \n",
       "2          Labels  Self-Adhesive Address Labels for Typewriters b...   14.6200  \n",
       "3          Tables      Bretford CR4500 Series Slim Rectangular Table  957.5775  \n",
       "4         Storage                     Eldon Fold 'N Roll Cart System   22.3680  \n",
       "...           ...                                                ...       ...  \n",
       "9795      Binders  Cardinal HOLDit! Binder Insert Strips,Extra St...    3.7980  \n",
       "9796          Art           BIC Brite Liner Highlighters, Chisel Tip   10.3680  \n",
       "9797       Phones                                        GE 30524EE4  235.1880  \n",
       "9798       Phones           Anker 24W Portable Micro USB Car Charger   26.3760  \n",
       "9799  Accessories                SanDisk Cruzer 4 GB USB Flash Drive   10.3840  \n",
       "\n",
       "[9800 rows x 18 columns]"
      ]
     },
     "metadata": {},
     "output_type": "display_data"
    }
   ],
   "source": [
    "# Importando as bibliotecas e a base\n",
    "\n",
    "import pandas as pd\n",
    "import numpy as np\n",
    "\n",
    "base = pd.read_csv(\"Criando uma apresentação executiva.csv\")\n",
    "\n",
    "\n",
    "display(base)"
   ]
  },
  {
   "cell_type": "markdown",
   "metadata": {},
   "source": [
    "### 2. Entendendo e tratando a base"
   ]
  },
  {
   "cell_type": "code",
   "execution_count": 2,
   "metadata": {},
   "outputs": [
    {
     "name": "stdout",
     "output_type": "stream",
     "text": [
      "<class 'pandas.core.frame.DataFrame'>\n",
      "RangeIndex: 9800 entries, 0 to 9799\n",
      "Data columns (total 18 columns):\n",
      " #   Column         Non-Null Count  Dtype  \n",
      "---  ------         --------------  -----  \n",
      " 0   Row ID         9800 non-null   int64  \n",
      " 1   Order ID       9800 non-null   object \n",
      " 2   Order Date     9800 non-null   object \n",
      " 3   Ship Date      9800 non-null   object \n",
      " 4   Ship Mode      9800 non-null   object \n",
      " 5   Customer ID    9800 non-null   object \n",
      " 6   Customer Name  9800 non-null   object \n",
      " 7   Segment        9800 non-null   object \n",
      " 8   Country        9800 non-null   object \n",
      " 9   City           9800 non-null   object \n",
      " 10  State          9800 non-null   object \n",
      " 11  Postal Code    9789 non-null   float64\n",
      " 12  Region         9800 non-null   object \n",
      " 13  Product ID     9800 non-null   object \n",
      " 14  Category       9800 non-null   object \n",
      " 15  Sub-Category   9800 non-null   object \n",
      " 16  Product Name   9800 non-null   object \n",
      " 17  Sales          9800 non-null   float64\n",
      "dtypes: float64(2), int64(1), object(15)\n",
      "memory usage: 1.3+ MB\n"
     ]
    }
   ],
   "source": [
    "# Visualizando as informações da base\n",
    "\n",
    "base.info()"
   ]
  },
  {
   "cell_type": "markdown",
   "metadata": {},
   "source": [
    "**Apenas código postal possui valores nulos, podemos visualizar quais linhas não possuem esse valor**"
   ]
  },
  {
   "cell_type": "code",
   "execution_count": 3,
   "metadata": {},
   "outputs": [
    {
     "data": {
      "text/html": [
       "<div>\n",
       "<style scoped>\n",
       "    .dataframe tbody tr th:only-of-type {\n",
       "        vertical-align: middle;\n",
       "    }\n",
       "\n",
       "    .dataframe tbody tr th {\n",
       "        vertical-align: top;\n",
       "    }\n",
       "\n",
       "    .dataframe thead th {\n",
       "        text-align: right;\n",
       "    }\n",
       "</style>\n",
       "<table border=\"1\" class=\"dataframe\">\n",
       "  <thead>\n",
       "    <tr style=\"text-align: right;\">\n",
       "      <th></th>\n",
       "      <th>Row ID</th>\n",
       "      <th>Order ID</th>\n",
       "      <th>Order Date</th>\n",
       "      <th>Ship Date</th>\n",
       "      <th>Ship Mode</th>\n",
       "      <th>Customer ID</th>\n",
       "      <th>Customer Name</th>\n",
       "      <th>Segment</th>\n",
       "      <th>Country</th>\n",
       "      <th>City</th>\n",
       "      <th>State</th>\n",
       "      <th>Postal Code</th>\n",
       "      <th>Region</th>\n",
       "      <th>Product ID</th>\n",
       "      <th>Category</th>\n",
       "      <th>Sub-Category</th>\n",
       "      <th>Product Name</th>\n",
       "      <th>Sales</th>\n",
       "    </tr>\n",
       "  </thead>\n",
       "  <tbody>\n",
       "    <tr>\n",
       "      <th>2234</th>\n",
       "      <td>2235</td>\n",
       "      <td>CA-2018-104066</td>\n",
       "      <td>05/12/2018</td>\n",
       "      <td>10/12/2018</td>\n",
       "      <td>Standard Class</td>\n",
       "      <td>QJ-19255</td>\n",
       "      <td>Quincy Jones</td>\n",
       "      <td>Corporate</td>\n",
       "      <td>United States</td>\n",
       "      <td>Burlington</td>\n",
       "      <td>Vermont</td>\n",
       "      <td>NaN</td>\n",
       "      <td>East</td>\n",
       "      <td>TEC-AC-10001013</td>\n",
       "      <td>Technology</td>\n",
       "      <td>Accessories</td>\n",
       "      <td>Logitech ClearChat Comfort/USB Headset H390</td>\n",
       "      <td>205.03</td>\n",
       "    </tr>\n",
       "    <tr>\n",
       "      <th>5274</th>\n",
       "      <td>5275</td>\n",
       "      <td>CA-2016-162887</td>\n",
       "      <td>07/11/2016</td>\n",
       "      <td>09/11/2016</td>\n",
       "      <td>Second Class</td>\n",
       "      <td>SV-20785</td>\n",
       "      <td>Stewart Visinsky</td>\n",
       "      <td>Consumer</td>\n",
       "      <td>United States</td>\n",
       "      <td>Burlington</td>\n",
       "      <td>Vermont</td>\n",
       "      <td>NaN</td>\n",
       "      <td>East</td>\n",
       "      <td>FUR-CH-10000595</td>\n",
       "      <td>Furniture</td>\n",
       "      <td>Chairs</td>\n",
       "      <td>Safco Contoured Stacking Chairs</td>\n",
       "      <td>715.20</td>\n",
       "    </tr>\n",
       "    <tr>\n",
       "      <th>8798</th>\n",
       "      <td>8799</td>\n",
       "      <td>US-2017-150140</td>\n",
       "      <td>06/04/2017</td>\n",
       "      <td>10/04/2017</td>\n",
       "      <td>Standard Class</td>\n",
       "      <td>VM-21685</td>\n",
       "      <td>Valerie Mitchum</td>\n",
       "      <td>Home Office</td>\n",
       "      <td>United States</td>\n",
       "      <td>Burlington</td>\n",
       "      <td>Vermont</td>\n",
       "      <td>NaN</td>\n",
       "      <td>East</td>\n",
       "      <td>TEC-PH-10002555</td>\n",
       "      <td>Technology</td>\n",
       "      <td>Phones</td>\n",
       "      <td>Nortel Meridian M5316 Digital phone</td>\n",
       "      <td>1294.75</td>\n",
       "    </tr>\n",
       "    <tr>\n",
       "      <th>9146</th>\n",
       "      <td>9147</td>\n",
       "      <td>US-2017-165505</td>\n",
       "      <td>23/01/2017</td>\n",
       "      <td>27/01/2017</td>\n",
       "      <td>Standard Class</td>\n",
       "      <td>CB-12535</td>\n",
       "      <td>Claudia Bergmann</td>\n",
       "      <td>Corporate</td>\n",
       "      <td>United States</td>\n",
       "      <td>Burlington</td>\n",
       "      <td>Vermont</td>\n",
       "      <td>NaN</td>\n",
       "      <td>East</td>\n",
       "      <td>TEC-AC-10002926</td>\n",
       "      <td>Technology</td>\n",
       "      <td>Accessories</td>\n",
       "      <td>Logitech Wireless Marathon Mouse M705</td>\n",
       "      <td>99.98</td>\n",
       "    </tr>\n",
       "    <tr>\n",
       "      <th>9147</th>\n",
       "      <td>9148</td>\n",
       "      <td>US-2017-165505</td>\n",
       "      <td>23/01/2017</td>\n",
       "      <td>27/01/2017</td>\n",
       "      <td>Standard Class</td>\n",
       "      <td>CB-12535</td>\n",
       "      <td>Claudia Bergmann</td>\n",
       "      <td>Corporate</td>\n",
       "      <td>United States</td>\n",
       "      <td>Burlington</td>\n",
       "      <td>Vermont</td>\n",
       "      <td>NaN</td>\n",
       "      <td>East</td>\n",
       "      <td>OFF-AR-10003477</td>\n",
       "      <td>Office Supplies</td>\n",
       "      <td>Art</td>\n",
       "      <td>4009 Highlighters</td>\n",
       "      <td>8.04</td>\n",
       "    </tr>\n",
       "    <tr>\n",
       "      <th>9148</th>\n",
       "      <td>9149</td>\n",
       "      <td>US-2017-165505</td>\n",
       "      <td>23/01/2017</td>\n",
       "      <td>27/01/2017</td>\n",
       "      <td>Standard Class</td>\n",
       "      <td>CB-12535</td>\n",
       "      <td>Claudia Bergmann</td>\n",
       "      <td>Corporate</td>\n",
       "      <td>United States</td>\n",
       "      <td>Burlington</td>\n",
       "      <td>Vermont</td>\n",
       "      <td>NaN</td>\n",
       "      <td>East</td>\n",
       "      <td>OFF-ST-10001526</td>\n",
       "      <td>Office Supplies</td>\n",
       "      <td>Storage</td>\n",
       "      <td>Iceberg Mobile Mega Data/Printer Cart</td>\n",
       "      <td>1564.29</td>\n",
       "    </tr>\n",
       "    <tr>\n",
       "      <th>9386</th>\n",
       "      <td>9387</td>\n",
       "      <td>US-2018-127292</td>\n",
       "      <td>19/01/2018</td>\n",
       "      <td>23/01/2018</td>\n",
       "      <td>Standard Class</td>\n",
       "      <td>RM-19375</td>\n",
       "      <td>Raymond Messe</td>\n",
       "      <td>Consumer</td>\n",
       "      <td>United States</td>\n",
       "      <td>Burlington</td>\n",
       "      <td>Vermont</td>\n",
       "      <td>NaN</td>\n",
       "      <td>East</td>\n",
       "      <td>OFF-PA-10000157</td>\n",
       "      <td>Office Supplies</td>\n",
       "      <td>Paper</td>\n",
       "      <td>Xerox 191</td>\n",
       "      <td>79.92</td>\n",
       "    </tr>\n",
       "    <tr>\n",
       "      <th>9387</th>\n",
       "      <td>9388</td>\n",
       "      <td>US-2018-127292</td>\n",
       "      <td>19/01/2018</td>\n",
       "      <td>23/01/2018</td>\n",
       "      <td>Standard Class</td>\n",
       "      <td>RM-19375</td>\n",
       "      <td>Raymond Messe</td>\n",
       "      <td>Consumer</td>\n",
       "      <td>United States</td>\n",
       "      <td>Burlington</td>\n",
       "      <td>Vermont</td>\n",
       "      <td>NaN</td>\n",
       "      <td>East</td>\n",
       "      <td>OFF-PA-10001970</td>\n",
       "      <td>Office Supplies</td>\n",
       "      <td>Paper</td>\n",
       "      <td>Xerox 1881</td>\n",
       "      <td>12.28</td>\n",
       "    </tr>\n",
       "    <tr>\n",
       "      <th>9388</th>\n",
       "      <td>9389</td>\n",
       "      <td>US-2018-127292</td>\n",
       "      <td>19/01/2018</td>\n",
       "      <td>23/01/2018</td>\n",
       "      <td>Standard Class</td>\n",
       "      <td>RM-19375</td>\n",
       "      <td>Raymond Messe</td>\n",
       "      <td>Consumer</td>\n",
       "      <td>United States</td>\n",
       "      <td>Burlington</td>\n",
       "      <td>Vermont</td>\n",
       "      <td>NaN</td>\n",
       "      <td>East</td>\n",
       "      <td>OFF-AP-10000828</td>\n",
       "      <td>Office Supplies</td>\n",
       "      <td>Appliances</td>\n",
       "      <td>Avanti 4.4 Cu. Ft. Refrigerator</td>\n",
       "      <td>542.94</td>\n",
       "    </tr>\n",
       "    <tr>\n",
       "      <th>9389</th>\n",
       "      <td>9390</td>\n",
       "      <td>US-2018-127292</td>\n",
       "      <td>19/01/2018</td>\n",
       "      <td>23/01/2018</td>\n",
       "      <td>Standard Class</td>\n",
       "      <td>RM-19375</td>\n",
       "      <td>Raymond Messe</td>\n",
       "      <td>Consumer</td>\n",
       "      <td>United States</td>\n",
       "      <td>Burlington</td>\n",
       "      <td>Vermont</td>\n",
       "      <td>NaN</td>\n",
       "      <td>East</td>\n",
       "      <td>OFF-EN-10001509</td>\n",
       "      <td>Office Supplies</td>\n",
       "      <td>Envelopes</td>\n",
       "      <td>Poly String Tie Envelopes</td>\n",
       "      <td>2.04</td>\n",
       "    </tr>\n",
       "    <tr>\n",
       "      <th>9741</th>\n",
       "      <td>9742</td>\n",
       "      <td>CA-2016-117086</td>\n",
       "      <td>08/11/2016</td>\n",
       "      <td>12/11/2016</td>\n",
       "      <td>Standard Class</td>\n",
       "      <td>QJ-19255</td>\n",
       "      <td>Quincy Jones</td>\n",
       "      <td>Corporate</td>\n",
       "      <td>United States</td>\n",
       "      <td>Burlington</td>\n",
       "      <td>Vermont</td>\n",
       "      <td>NaN</td>\n",
       "      <td>East</td>\n",
       "      <td>FUR-BO-10004834</td>\n",
       "      <td>Furniture</td>\n",
       "      <td>Bookcases</td>\n",
       "      <td>Riverside Palais Royal Lawyers Bookcase, Royal...</td>\n",
       "      <td>4404.90</td>\n",
       "    </tr>\n",
       "  </tbody>\n",
       "</table>\n",
       "</div>"
      ],
      "text/plain": [
       "      Row ID        Order ID  Order Date   Ship Date       Ship Mode  \\\n",
       "2234    2235  CA-2018-104066  05/12/2018  10/12/2018  Standard Class   \n",
       "5274    5275  CA-2016-162887  07/11/2016  09/11/2016    Second Class   \n",
       "8798    8799  US-2017-150140  06/04/2017  10/04/2017  Standard Class   \n",
       "9146    9147  US-2017-165505  23/01/2017  27/01/2017  Standard Class   \n",
       "9147    9148  US-2017-165505  23/01/2017  27/01/2017  Standard Class   \n",
       "9148    9149  US-2017-165505  23/01/2017  27/01/2017  Standard Class   \n",
       "9386    9387  US-2018-127292  19/01/2018  23/01/2018  Standard Class   \n",
       "9387    9388  US-2018-127292  19/01/2018  23/01/2018  Standard Class   \n",
       "9388    9389  US-2018-127292  19/01/2018  23/01/2018  Standard Class   \n",
       "9389    9390  US-2018-127292  19/01/2018  23/01/2018  Standard Class   \n",
       "9741    9742  CA-2016-117086  08/11/2016  12/11/2016  Standard Class   \n",
       "\n",
       "     Customer ID     Customer Name      Segment        Country        City  \\\n",
       "2234    QJ-19255      Quincy Jones    Corporate  United States  Burlington   \n",
       "5274    SV-20785  Stewart Visinsky     Consumer  United States  Burlington   \n",
       "8798    VM-21685   Valerie Mitchum  Home Office  United States  Burlington   \n",
       "9146    CB-12535  Claudia Bergmann    Corporate  United States  Burlington   \n",
       "9147    CB-12535  Claudia Bergmann    Corporate  United States  Burlington   \n",
       "9148    CB-12535  Claudia Bergmann    Corporate  United States  Burlington   \n",
       "9386    RM-19375     Raymond Messe     Consumer  United States  Burlington   \n",
       "9387    RM-19375     Raymond Messe     Consumer  United States  Burlington   \n",
       "9388    RM-19375     Raymond Messe     Consumer  United States  Burlington   \n",
       "9389    RM-19375     Raymond Messe     Consumer  United States  Burlington   \n",
       "9741    QJ-19255      Quincy Jones    Corporate  United States  Burlington   \n",
       "\n",
       "        State  Postal Code Region       Product ID         Category  \\\n",
       "2234  Vermont          NaN   East  TEC-AC-10001013       Technology   \n",
       "5274  Vermont          NaN   East  FUR-CH-10000595        Furniture   \n",
       "8798  Vermont          NaN   East  TEC-PH-10002555       Technology   \n",
       "9146  Vermont          NaN   East  TEC-AC-10002926       Technology   \n",
       "9147  Vermont          NaN   East  OFF-AR-10003477  Office Supplies   \n",
       "9148  Vermont          NaN   East  OFF-ST-10001526  Office Supplies   \n",
       "9386  Vermont          NaN   East  OFF-PA-10000157  Office Supplies   \n",
       "9387  Vermont          NaN   East  OFF-PA-10001970  Office Supplies   \n",
       "9388  Vermont          NaN   East  OFF-AP-10000828  Office Supplies   \n",
       "9389  Vermont          NaN   East  OFF-EN-10001509  Office Supplies   \n",
       "9741  Vermont          NaN   East  FUR-BO-10004834        Furniture   \n",
       "\n",
       "     Sub-Category                                       Product Name    Sales  \n",
       "2234  Accessories        Logitech ClearChat Comfort/USB Headset H390   205.03  \n",
       "5274       Chairs                    Safco Contoured Stacking Chairs   715.20  \n",
       "8798       Phones                Nortel Meridian M5316 Digital phone  1294.75  \n",
       "9146  Accessories              Logitech Wireless Marathon Mouse M705    99.98  \n",
       "9147          Art                                  4009 Highlighters     8.04  \n",
       "9148      Storage              Iceberg Mobile Mega Data/Printer Cart  1564.29  \n",
       "9386        Paper                                          Xerox 191    79.92  \n",
       "9387        Paper                                         Xerox 1881    12.28  \n",
       "9388   Appliances                    Avanti 4.4 Cu. Ft. Refrigerator   542.94  \n",
       "9389    Envelopes                          Poly String Tie Envelopes     2.04  \n",
       "9741    Bookcases  Riverside Palais Royal Lawyers Bookcase, Royal...  4404.90  "
      ]
     },
     "execution_count": 3,
     "metadata": {},
     "output_type": "execute_result"
    }
   ],
   "source": [
    "# Verificando os registros com Postal Code vazio\n",
    "\n",
    "base[base['Postal Code'].isnull()]"
   ]
  },
  {
   "cell_type": "markdown",
   "metadata": {},
   "source": [
    "**Todos os registros sem código postal são da cidade de Burlington, em Vermont. Será que algum registro dessa cidade possui código postal?**"
   ]
  },
  {
   "cell_type": "code",
   "execution_count": 4,
   "metadata": {},
   "outputs": [
    {
     "data": {
      "text/html": [
       "<div>\n",
       "<style scoped>\n",
       "    .dataframe tbody tr th:only-of-type {\n",
       "        vertical-align: middle;\n",
       "    }\n",
       "\n",
       "    .dataframe tbody tr th {\n",
       "        vertical-align: top;\n",
       "    }\n",
       "\n",
       "    .dataframe thead th {\n",
       "        text-align: right;\n",
       "    }\n",
       "</style>\n",
       "<table border=\"1\" class=\"dataframe\">\n",
       "  <thead>\n",
       "    <tr style=\"text-align: right;\">\n",
       "      <th></th>\n",
       "      <th>Row ID</th>\n",
       "      <th>Order ID</th>\n",
       "      <th>Order Date</th>\n",
       "      <th>Ship Date</th>\n",
       "      <th>Ship Mode</th>\n",
       "      <th>Customer ID</th>\n",
       "      <th>Customer Name</th>\n",
       "      <th>Segment</th>\n",
       "      <th>Country</th>\n",
       "      <th>City</th>\n",
       "      <th>State</th>\n",
       "      <th>Postal Code</th>\n",
       "      <th>Region</th>\n",
       "      <th>Product ID</th>\n",
       "      <th>Category</th>\n",
       "      <th>Sub-Category</th>\n",
       "      <th>Product Name</th>\n",
       "      <th>Sales</th>\n",
       "    </tr>\n",
       "  </thead>\n",
       "  <tbody>\n",
       "  </tbody>\n",
       "</table>\n",
       "</div>"
      ],
      "text/plain": [
       "Empty DataFrame\n",
       "Columns: [Row ID, Order ID, Order Date, Ship Date, Ship Mode, Customer ID, Customer Name, Segment, Country, City, State, Postal Code, Region, Product ID, Category, Sub-Category, Product Name, Sales]\n",
       "Index: []"
      ]
     },
     "execution_count": 4,
     "metadata": {},
     "output_type": "execute_result"
    }
   ],
   "source": [
    "# Verificando se existe algum registro de Burlington, Vermont com Postal Code\n",
    "base[(base.City == 'Burlington') & (base.State == 'Vermont') & (base['Postal Code'].notnull())]"
   ]
  },
  {
   "cell_type": "markdown",
   "metadata": {},
   "source": [
    "**Podemos ir diretamente no google para buscar essa informação**"
   ]
  },
  {
   "attachments": {
    "13.%20Criando%20uma%20apresentac%CC%A7a%CC%83o%20executiva.png": {
     "image/png": "[encoded data removed]"
    }
   },
   "cell_type": "markdown",
   "metadata": {},
   "source": [
    "![13.%20Criando%20uma%20apresentac%CC%A7a%CC%83o%20executiva.png](attachment:13.%20Criando%20uma%20apresentac%CC%A7a%CC%83o%20executiva.png)"
   ]
  },
  {
   "cell_type": "code",
   "execution_count": 5,
   "metadata": {},
   "outputs": [
    {
     "data": {
      "text/plain": [
       "2234   NaN\n",
       "5274   NaN\n",
       "8798   NaN\n",
       "9146   NaN\n",
       "9147   NaN\n",
       "9148   NaN\n",
       "9386   NaN\n",
       "9387   NaN\n",
       "9388   NaN\n",
       "9389   NaN\n",
       "9741   NaN\n",
       "Name: Postal Code, dtype: float64"
      ]
     },
     "execution_count": 5,
     "metadata": {},
     "output_type": "execute_result"
    }
   ],
   "source": [
    "# Verificando se existe algum registro de Burlington, Vermont com Postal Code\n",
    "base[(base.City == 'Burlington') & (base.State == 'Vermont') & (base['Postal Code'].isnull())]['Postal Code']"
   ]
  },
  {
   "cell_type": "code",
   "execution_count": 6,
   "metadata": {},
   "outputs": [],
   "source": [
    "# Atualizando essa informação usando loc\n",
    "\n",
    "base.loc[(base.City == 'Burlington') & (base.State == 'Vermont') & (base['Postal Code'].isnull()),\"Postal Code\"] = 5401"
   ]
  },
  {
   "cell_type": "code",
   "execution_count": 7,
   "metadata": {},
   "outputs": [
    {
     "name": "stdout",
     "output_type": "stream",
     "text": [
      "<class 'pandas.core.frame.DataFrame'>\n",
      "RangeIndex: 9800 entries, 0 to 9799\n",
      "Data columns (total 18 columns):\n",
      " #   Column         Non-Null Count  Dtype  \n",
      "---  ------         --------------  -----  \n",
      " 0   Row ID         9800 non-null   int64  \n",
      " 1   Order ID       9800 non-null   object \n",
      " 2   Order Date     9800 non-null   object \n",
      " 3   Ship Date      9800 non-null   object \n",
      " 4   Ship Mode      9800 non-null   object \n",
      " 5   Customer ID    9800 non-null   object \n",
      " 6   Customer Name  9800 non-null   object \n",
      " 7   Segment        9800 non-null   object \n",
      " 8   Country        9800 non-null   object \n",
      " 9   City           9800 non-null   object \n",
      " 10  State          9800 non-null   object \n",
      " 11  Postal Code    9800 non-null   float64\n",
      " 12  Region         9800 non-null   object \n",
      " 13  Product ID     9800 non-null   object \n",
      " 14  Category       9800 non-null   object \n",
      " 15  Sub-Category   9800 non-null   object \n",
      " 16  Product Name   9800 non-null   object \n",
      " 17  Sales          9800 non-null   float64\n",
      "dtypes: float64(2), int64(1), object(15)\n",
      "memory usage: 1.3+ MB\n"
     ]
    }
   ],
   "source": [
    "# Verificando se ainda existe algum valor nulo\n",
    "base.info()"
   ]
  },
  {
   "cell_type": "code",
   "execution_count": 8,
   "metadata": {},
   "outputs": [
    {
     "data": {
      "text/html": [
       "<div>\n",
       "<style scoped>\n",
       "    .dataframe tbody tr th:only-of-type {\n",
       "        vertical-align: middle;\n",
       "    }\n",
       "\n",
       "    .dataframe tbody tr th {\n",
       "        vertical-align: top;\n",
       "    }\n",
       "\n",
       "    .dataframe thead th {\n",
       "        text-align: right;\n",
       "    }\n",
       "</style>\n",
       "<table border=\"1\" class=\"dataframe\">\n",
       "  <thead>\n",
       "    <tr style=\"text-align: right;\">\n",
       "      <th></th>\n",
       "      <th>Row ID</th>\n",
       "      <th>Order ID</th>\n",
       "      <th>Order Date</th>\n",
       "      <th>Ship Date</th>\n",
       "      <th>Ship Mode</th>\n",
       "      <th>Customer ID</th>\n",
       "      <th>Customer Name</th>\n",
       "      <th>Segment</th>\n",
       "      <th>Country</th>\n",
       "      <th>City</th>\n",
       "      <th>State</th>\n",
       "      <th>Postal Code</th>\n",
       "      <th>Region</th>\n",
       "      <th>Product ID</th>\n",
       "      <th>Category</th>\n",
       "      <th>Sub-Category</th>\n",
       "      <th>Product Name</th>\n",
       "      <th>Sales</th>\n",
       "    </tr>\n",
       "  </thead>\n",
       "  <tbody>\n",
       "  </tbody>\n",
       "</table>\n",
       "</div>"
      ],
      "text/plain": [
       "Empty DataFrame\n",
       "Columns: [Row ID, Order ID, Order Date, Ship Date, Ship Mode, Customer ID, Customer Name, Segment, Country, City, State, Postal Code, Region, Product ID, Category, Sub-Category, Product Name, Sales]\n",
       "Index: []"
      ]
     },
     "execution_count": 8,
     "metadata": {},
     "output_type": "execute_result"
    }
   ],
   "source": [
    "# Visualizando novamente as informações da base\n",
    "\n",
    "base[(base.City == 'Burlington') & (base.State == 'Vermont') & (base['Postal Code'].isnull())]"
   ]
  },
  {
   "cell_type": "markdown",
   "metadata": {},
   "source": [
    "## ou posso apagar a coluna caso não queira tratar como \n",
    "\n",
    "##### base2 = base.drop('Postal Code', axis = 1)"
   ]
  },
  {
   "cell_type": "markdown",
   "metadata": {},
   "source": [
    "### 3. <font color=\"blue\"> Como foi a venda nesse período? </font>\n",
    "Aqui temos 2 questões que precisamos pensar:\n",
    "- **Quais <font color=\"blue\">colunas</font> vamos usar?**\n",
    "    - Podemos verificar a venda na coluna \"Sales\"\"\n",
    "    - O período nós podemos usar a coluna \"Order Date\", mas precisamos entender melhor essa coluna\n",
    "- **Qual o <font color=\"blue\">período</font> queremos exibir?**"
   ]
  },
  {
   "cell_type": "code",
   "execution_count": 9,
   "metadata": {},
   "outputs": [
    {
     "data": {
      "text/html": [
       "<div>\n",
       "<style scoped>\n",
       "    .dataframe tbody tr th:only-of-type {\n",
       "        vertical-align: middle;\n",
       "    }\n",
       "\n",
       "    .dataframe tbody tr th {\n",
       "        vertical-align: top;\n",
       "    }\n",
       "\n",
       "    .dataframe thead th {\n",
       "        text-align: right;\n",
       "    }\n",
       "</style>\n",
       "<table border=\"1\" class=\"dataframe\">\n",
       "  <thead>\n",
       "    <tr style=\"text-align: right;\">\n",
       "      <th></th>\n",
       "      <th>Row ID</th>\n",
       "      <th>Order ID</th>\n",
       "      <th>Order Date</th>\n",
       "      <th>Ship Date</th>\n",
       "      <th>Ship Mode</th>\n",
       "      <th>Customer ID</th>\n",
       "      <th>Customer Name</th>\n",
       "      <th>Segment</th>\n",
       "      <th>Country</th>\n",
       "      <th>City</th>\n",
       "      <th>State</th>\n",
       "      <th>Postal Code</th>\n",
       "      <th>Region</th>\n",
       "      <th>Product ID</th>\n",
       "      <th>Category</th>\n",
       "      <th>Sub-Category</th>\n",
       "      <th>Product Name</th>\n",
       "      <th>Sales</th>\n",
       "    </tr>\n",
       "  </thead>\n",
       "  <tbody>\n",
       "    <tr>\n",
       "      <th>0</th>\n",
       "      <td>1</td>\n",
       "      <td>CA-2017-152156</td>\n",
       "      <td>08/11/2017</td>\n",
       "      <td>11/11/2017</td>\n",
       "      <td>Second Class</td>\n",
       "      <td>CG-12520</td>\n",
       "      <td>Claire Gute</td>\n",
       "      <td>Consumer</td>\n",
       "      <td>United States</td>\n",
       "      <td>Henderson</td>\n",
       "      <td>Kentucky</td>\n",
       "      <td>42420.0</td>\n",
       "      <td>South</td>\n",
       "      <td>FUR-BO-10001798</td>\n",
       "      <td>Furniture</td>\n",
       "      <td>Bookcases</td>\n",
       "      <td>Bush Somerset Collection Bookcase</td>\n",
       "      <td>261.9600</td>\n",
       "    </tr>\n",
       "    <tr>\n",
       "      <th>1</th>\n",
       "      <td>2</td>\n",
       "      <td>CA-2017-152156</td>\n",
       "      <td>08/11/2017</td>\n",
       "      <td>11/11/2017</td>\n",
       "      <td>Second Class</td>\n",
       "      <td>CG-12520</td>\n",
       "      <td>Claire Gute</td>\n",
       "      <td>Consumer</td>\n",
       "      <td>United States</td>\n",
       "      <td>Henderson</td>\n",
       "      <td>Kentucky</td>\n",
       "      <td>42420.0</td>\n",
       "      <td>South</td>\n",
       "      <td>FUR-CH-10000454</td>\n",
       "      <td>Furniture</td>\n",
       "      <td>Chairs</td>\n",
       "      <td>Hon Deluxe Fabric Upholstered Stacking Chairs,...</td>\n",
       "      <td>731.9400</td>\n",
       "    </tr>\n",
       "    <tr>\n",
       "      <th>2</th>\n",
       "      <td>3</td>\n",
       "      <td>CA-2017-138688</td>\n",
       "      <td>12/06/2017</td>\n",
       "      <td>16/06/2017</td>\n",
       "      <td>Second Class</td>\n",
       "      <td>DV-13045</td>\n",
       "      <td>Darrin Van Huff</td>\n",
       "      <td>Corporate</td>\n",
       "      <td>United States</td>\n",
       "      <td>Los Angeles</td>\n",
       "      <td>California</td>\n",
       "      <td>90036.0</td>\n",
       "      <td>West</td>\n",
       "      <td>OFF-LA-10000240</td>\n",
       "      <td>Office Supplies</td>\n",
       "      <td>Labels</td>\n",
       "      <td>Self-Adhesive Address Labels for Typewriters b...</td>\n",
       "      <td>14.6200</td>\n",
       "    </tr>\n",
       "    <tr>\n",
       "      <th>3</th>\n",
       "      <td>4</td>\n",
       "      <td>US-2016-108966</td>\n",
       "      <td>11/10/2016</td>\n",
       "      <td>18/10/2016</td>\n",
       "      <td>Standard Class</td>\n",
       "      <td>SO-20335</td>\n",
       "      <td>Sean O'Donnell</td>\n",
       "      <td>Consumer</td>\n",
       "      <td>United States</td>\n",
       "      <td>Fort Lauderdale</td>\n",
       "      <td>Florida</td>\n",
       "      <td>33311.0</td>\n",
       "      <td>South</td>\n",
       "      <td>FUR-TA-10000577</td>\n",
       "      <td>Furniture</td>\n",
       "      <td>Tables</td>\n",
       "      <td>Bretford CR4500 Series Slim Rectangular Table</td>\n",
       "      <td>957.5775</td>\n",
       "    </tr>\n",
       "    <tr>\n",
       "      <th>4</th>\n",
       "      <td>5</td>\n",
       "      <td>US-2016-108966</td>\n",
       "      <td>11/10/2016</td>\n",
       "      <td>18/10/2016</td>\n",
       "      <td>Standard Class</td>\n",
       "      <td>SO-20335</td>\n",
       "      <td>Sean O'Donnell</td>\n",
       "      <td>Consumer</td>\n",
       "      <td>United States</td>\n",
       "      <td>Fort Lauderdale</td>\n",
       "      <td>Florida</td>\n",
       "      <td>33311.0</td>\n",
       "      <td>South</td>\n",
       "      <td>OFF-ST-10000760</td>\n",
       "      <td>Office Supplies</td>\n",
       "      <td>Storage</td>\n",
       "      <td>Eldon Fold 'N Roll Cart System</td>\n",
       "      <td>22.3680</td>\n",
       "    </tr>\n",
       "  </tbody>\n",
       "</table>\n",
       "</div>"
      ],
      "text/plain": [
       "   Row ID        Order ID  Order Date   Ship Date       Ship Mode Customer ID  \\\n",
       "0       1  CA-2017-152156  08/11/2017  11/11/2017    Second Class    CG-12520   \n",
       "1       2  CA-2017-152156  08/11/2017  11/11/2017    Second Class    CG-12520   \n",
       "2       3  CA-2017-138688  12/06/2017  16/06/2017    Second Class    DV-13045   \n",
       "3       4  US-2016-108966  11/10/2016  18/10/2016  Standard Class    SO-20335   \n",
       "4       5  US-2016-108966  11/10/2016  18/10/2016  Standard Class    SO-20335   \n",
       "\n",
       "     Customer Name    Segment        Country             City       State  \\\n",
       "0      Claire Gute   Consumer  United States        Henderson    Kentucky   \n",
       "1      Claire Gute   Consumer  United States        Henderson    Kentucky   \n",
       "2  Darrin Van Huff  Corporate  United States      Los Angeles  California   \n",
       "3   Sean O'Donnell   Consumer  United States  Fort Lauderdale     Florida   \n",
       "4   Sean O'Donnell   Consumer  United States  Fort Lauderdale     Florida   \n",
       "\n",
       "   Postal Code Region       Product ID         Category Sub-Category  \\\n",
       "0      42420.0  South  FUR-BO-10001798        Furniture    Bookcases   \n",
       "1      42420.0  South  FUR-CH-10000454        Furniture       Chairs   \n",
       "2      90036.0   West  OFF-LA-10000240  Office Supplies       Labels   \n",
       "3      33311.0  South  FUR-TA-10000577        Furniture       Tables   \n",
       "4      33311.0  South  OFF-ST-10000760  Office Supplies      Storage   \n",
       "\n",
       "                                        Product Name     Sales  \n",
       "0                  Bush Somerset Collection Bookcase  261.9600  \n",
       "1  Hon Deluxe Fabric Upholstered Stacking Chairs,...  731.9400  \n",
       "2  Self-Adhesive Address Labels for Typewriters b...   14.6200  \n",
       "3      Bretford CR4500 Series Slim Rectangular Table  957.5775  \n",
       "4                     Eldon Fold 'N Roll Cart System   22.3680  "
      ]
     },
     "execution_count": 9,
     "metadata": {},
     "output_type": "execute_result"
    }
   ],
   "source": [
    "base.head()"
   ]
  },
  {
   "cell_type": "code",
   "execution_count": 10,
   "metadata": {},
   "outputs": [
    {
     "data": {
      "text/plain": [
       "'01/01/2018'"
      ]
     },
     "execution_count": 10,
     "metadata": {},
     "output_type": "execute_result"
    }
   ],
   "source": [
    "# Para entender a data, podemos ver de qual período estamos falando\n",
    "\n",
    "base['Order Date'].min()"
   ]
  },
  {
   "cell_type": "markdown",
   "metadata": {},
   "source": [
    "**<font color=\"red\">CUIDADO:</font> Se a coluna de data estiver como texto e não como data, a ordenação vai ser pelo texto e não pela data!**"
   ]
  },
  {
   "cell_type": "markdown",
   "metadata": {},
   "source": [
    "**Podemos converter uma coluna para data usando o to_datetime do pandas**\n",
    "<br><br>\n",
    "base[\"coluna\"] = pd.**to_datetime(**base[\"coluna\"]**)**\n",
    "- No datetime, caso tenha apenas a data, a hora ficaria como 00:00:00\n",
    "- Se quisermos considerar apenas a data, podemos usar o **.date** da biblioteca **datetime**"
   ]
  },
  {
   "cell_type": "code",
   "execution_count": 11,
   "metadata": {},
   "outputs": [],
   "source": [
    "import datetime as dt"
   ]
  },
  {
   "cell_type": "code",
   "execution_count": 12,
   "metadata": {},
   "outputs": [],
   "source": [
    "# Convertendo as colunas de data para datetime\n",
    "\n",
    "base[\"Order Date\"] = pd.to_datetime(base[\"Order Date\"])\n",
    "base[\"Ship Date\"] = pd.to_datetime(base[\"Ship Date\"])"
   ]
  },
  {
   "cell_type": "code",
   "execution_count": 13,
   "metadata": {},
   "outputs": [
    {
     "name": "stdout",
     "output_type": "stream",
     "text": [
      "<class 'pandas.core.frame.DataFrame'>\n",
      "RangeIndex: 9800 entries, 0 to 9799\n",
      "Data columns (total 18 columns):\n",
      " #   Column         Non-Null Count  Dtype         \n",
      "---  ------         --------------  -----         \n",
      " 0   Row ID         9800 non-null   int64         \n",
      " 1   Order ID       9800 non-null   object        \n",
      " 2   Order Date     9800 non-null   datetime64[ns]\n",
      " 3   Ship Date      9800 non-null   datetime64[ns]\n",
      " 4   Ship Mode      9800 non-null   object        \n",
      " 5   Customer ID    9800 non-null   object        \n",
      " 6   Customer Name  9800 non-null   object        \n",
      " 7   Segment        9800 non-null   object        \n",
      " 8   Country        9800 non-null   object        \n",
      " 9   City           9800 non-null   object        \n",
      " 10  State          9800 non-null   object        \n",
      " 11  Postal Code    9800 non-null   float64       \n",
      " 12  Region         9800 non-null   object        \n",
      " 13  Product ID     9800 non-null   object        \n",
      " 14  Category       9800 non-null   object        \n",
      " 15  Sub-Category   9800 non-null   object        \n",
      " 16  Product Name   9800 non-null   object        \n",
      " 17  Sales          9800 non-null   float64       \n",
      "dtypes: datetime64[ns](2), float64(2), int64(1), object(13)\n",
      "memory usage: 1.3+ MB\n"
     ]
    }
   ],
   "source": [
    "# Para entender a data, podemos ver de qual período estamos falando\n",
    "\n",
    "base.info()"
   ]
  },
  {
   "cell_type": "code",
   "execution_count": 14,
   "metadata": {},
   "outputs": [
    {
     "data": {
      "text/plain": [
       "Timestamp('2018-12-30 00:00:00')"
      ]
     },
     "execution_count": 14,
     "metadata": {},
     "output_type": "execute_result"
    }
   ],
   "source": [
    "# Buscando o máximo da data\n",
    "\n",
    "base['Order Date'].max()"
   ]
  },
  {
   "cell_type": "markdown",
   "metadata": {},
   "source": [
    "- Estamos falando de 4 anos de análise, começando em jan/2015 e indo até dez/2018"
   ]
  },
  {
   "cell_type": "markdown",
   "metadata": {},
   "source": [
    "#### Como estamos falando de um período grande de anos, podemos começar a visualização pelos anos\n",
    "- Para isso, podemos usar o **.year** da biblioteca datetime para criar uma nova coluna apenas com o ano dessa base"
   ]
  },
  {
   "cell_type": "markdown",
   "metadata": {},
   "source": [
    "# Venda por ano"
   ]
  },
  {
   "cell_type": "code",
   "execution_count": 15,
   "metadata": {},
   "outputs": [],
   "source": [
    "# Criando uma coluna com o ano\n",
    "\n",
    "base['Ano'] = base['Order Date'].dt.year"
   ]
  },
  {
   "cell_type": "code",
   "execution_count": 16,
   "metadata": {},
   "outputs": [
    {
     "data": {
      "text/html": [
       "<div>\n",
       "<style scoped>\n",
       "    .dataframe tbody tr th:only-of-type {\n",
       "        vertical-align: middle;\n",
       "    }\n",
       "\n",
       "    .dataframe tbody tr th {\n",
       "        vertical-align: top;\n",
       "    }\n",
       "\n",
       "    .dataframe thead th {\n",
       "        text-align: right;\n",
       "    }\n",
       "</style>\n",
       "<table border=\"1\" class=\"dataframe\">\n",
       "  <thead>\n",
       "    <tr style=\"text-align: right;\">\n",
       "      <th></th>\n",
       "      <th>Row ID</th>\n",
       "      <th>Order ID</th>\n",
       "      <th>Order Date</th>\n",
       "      <th>Ship Date</th>\n",
       "      <th>Ship Mode</th>\n",
       "      <th>Customer ID</th>\n",
       "      <th>Customer Name</th>\n",
       "      <th>Segment</th>\n",
       "      <th>Country</th>\n",
       "      <th>City</th>\n",
       "      <th>State</th>\n",
       "      <th>Postal Code</th>\n",
       "      <th>Region</th>\n",
       "      <th>Product ID</th>\n",
       "      <th>Category</th>\n",
       "      <th>Sub-Category</th>\n",
       "      <th>Product Name</th>\n",
       "      <th>Sales</th>\n",
       "      <th>Ano</th>\n",
       "    </tr>\n",
       "  </thead>\n",
       "  <tbody>\n",
       "    <tr>\n",
       "      <th>0</th>\n",
       "      <td>1</td>\n",
       "      <td>CA-2017-152156</td>\n",
       "      <td>2017-08-11</td>\n",
       "      <td>2017-11-11</td>\n",
       "      <td>Second Class</td>\n",
       "      <td>CG-12520</td>\n",
       "      <td>Claire Gute</td>\n",
       "      <td>Consumer</td>\n",
       "      <td>United States</td>\n",
       "      <td>Henderson</td>\n",
       "      <td>Kentucky</td>\n",
       "      <td>42420.0</td>\n",
       "      <td>South</td>\n",
       "      <td>FUR-BO-10001798</td>\n",
       "      <td>Furniture</td>\n",
       "      <td>Bookcases</td>\n",
       "      <td>Bush Somerset Collection Bookcase</td>\n",
       "      <td>261.9600</td>\n",
       "      <td>2017</td>\n",
       "    </tr>\n",
       "    <tr>\n",
       "      <th>1</th>\n",
       "      <td>2</td>\n",
       "      <td>CA-2017-152156</td>\n",
       "      <td>2017-08-11</td>\n",
       "      <td>2017-11-11</td>\n",
       "      <td>Second Class</td>\n",
       "      <td>CG-12520</td>\n",
       "      <td>Claire Gute</td>\n",
       "      <td>Consumer</td>\n",
       "      <td>United States</td>\n",
       "      <td>Henderson</td>\n",
       "      <td>Kentucky</td>\n",
       "      <td>42420.0</td>\n",
       "      <td>South</td>\n",
       "      <td>FUR-CH-10000454</td>\n",
       "      <td>Furniture</td>\n",
       "      <td>Chairs</td>\n",
       "      <td>Hon Deluxe Fabric Upholstered Stacking Chairs,...</td>\n",
       "      <td>731.9400</td>\n",
       "      <td>2017</td>\n",
       "    </tr>\n",
       "    <tr>\n",
       "      <th>2</th>\n",
       "      <td>3</td>\n",
       "      <td>CA-2017-138688</td>\n",
       "      <td>2017-12-06</td>\n",
       "      <td>2017-06-16</td>\n",
       "      <td>Second Class</td>\n",
       "      <td>DV-13045</td>\n",
       "      <td>Darrin Van Huff</td>\n",
       "      <td>Corporate</td>\n",
       "      <td>United States</td>\n",
       "      <td>Los Angeles</td>\n",
       "      <td>California</td>\n",
       "      <td>90036.0</td>\n",
       "      <td>West</td>\n",
       "      <td>OFF-LA-10000240</td>\n",
       "      <td>Office Supplies</td>\n",
       "      <td>Labels</td>\n",
       "      <td>Self-Adhesive Address Labels for Typewriters b...</td>\n",
       "      <td>14.6200</td>\n",
       "      <td>2017</td>\n",
       "    </tr>\n",
       "    <tr>\n",
       "      <th>3</th>\n",
       "      <td>4</td>\n",
       "      <td>US-2016-108966</td>\n",
       "      <td>2016-11-10</td>\n",
       "      <td>2016-10-18</td>\n",
       "      <td>Standard Class</td>\n",
       "      <td>SO-20335</td>\n",
       "      <td>Sean O'Donnell</td>\n",
       "      <td>Consumer</td>\n",
       "      <td>United States</td>\n",
       "      <td>Fort Lauderdale</td>\n",
       "      <td>Florida</td>\n",
       "      <td>33311.0</td>\n",
       "      <td>South</td>\n",
       "      <td>FUR-TA-10000577</td>\n",
       "      <td>Furniture</td>\n",
       "      <td>Tables</td>\n",
       "      <td>Bretford CR4500 Series Slim Rectangular Table</td>\n",
       "      <td>957.5775</td>\n",
       "      <td>2016</td>\n",
       "    </tr>\n",
       "    <tr>\n",
       "      <th>4</th>\n",
       "      <td>5</td>\n",
       "      <td>US-2016-108966</td>\n",
       "      <td>2016-11-10</td>\n",
       "      <td>2016-10-18</td>\n",
       "      <td>Standard Class</td>\n",
       "      <td>SO-20335</td>\n",
       "      <td>Sean O'Donnell</td>\n",
       "      <td>Consumer</td>\n",
       "      <td>United States</td>\n",
       "      <td>Fort Lauderdale</td>\n",
       "      <td>Florida</td>\n",
       "      <td>33311.0</td>\n",
       "      <td>South</td>\n",
       "      <td>OFF-ST-10000760</td>\n",
       "      <td>Office Supplies</td>\n",
       "      <td>Storage</td>\n",
       "      <td>Eldon Fold 'N Roll Cart System</td>\n",
       "      <td>22.3680</td>\n",
       "      <td>2016</td>\n",
       "    </tr>\n",
       "  </tbody>\n",
       "</table>\n",
       "</div>"
      ],
      "text/plain": [
       "   Row ID        Order ID Order Date  Ship Date       Ship Mode Customer ID  \\\n",
       "0       1  CA-2017-152156 2017-08-11 2017-11-11    Second Class    CG-12520   \n",
       "1       2  CA-2017-152156 2017-08-11 2017-11-11    Second Class    CG-12520   \n",
       "2       3  CA-2017-138688 2017-12-06 2017-06-16    Second Class    DV-13045   \n",
       "3       4  US-2016-108966 2016-11-10 2016-10-18  Standard Class    SO-20335   \n",
       "4       5  US-2016-108966 2016-11-10 2016-10-18  Standard Class    SO-20335   \n",
       "\n",
       "     Customer Name    Segment        Country             City       State  \\\n",
       "0      Claire Gute   Consumer  United States        Henderson    Kentucky   \n",
       "1      Claire Gute   Consumer  United States        Henderson    Kentucky   \n",
       "2  Darrin Van Huff  Corporate  United States      Los Angeles  California   \n",
       "3   Sean O'Donnell   Consumer  United States  Fort Lauderdale     Florida   \n",
       "4   Sean O'Donnell   Consumer  United States  Fort Lauderdale     Florida   \n",
       "\n",
       "   Postal Code Region       Product ID         Category Sub-Category  \\\n",
       "0      42420.0  South  FUR-BO-10001798        Furniture    Bookcases   \n",
       "1      42420.0  South  FUR-CH-10000454        Furniture       Chairs   \n",
       "2      90036.0   West  OFF-LA-10000240  Office Supplies       Labels   \n",
       "3      33311.0  South  FUR-TA-10000577        Furniture       Tables   \n",
       "4      33311.0  South  OFF-ST-10000760  Office Supplies      Storage   \n",
       "\n",
       "                                        Product Name     Sales   Ano  \n",
       "0                  Bush Somerset Collection Bookcase  261.9600  2017  \n",
       "1  Hon Deluxe Fabric Upholstered Stacking Chairs,...  731.9400  2017  \n",
       "2  Self-Adhesive Address Labels for Typewriters b...   14.6200  2017  \n",
       "3      Bretford CR4500 Series Slim Rectangular Table  957.5775  2016  \n",
       "4                     Eldon Fold 'N Roll Cart System   22.3680  2016  "
      ]
     },
     "execution_count": 16,
     "metadata": {},
     "output_type": "execute_result"
    }
   ],
   "source": [
    "base.head()"
   ]
  },
  {
   "cell_type": "markdown",
   "metadata": {},
   "source": [
    "#### Lembram do groupby()?"
   ]
  },
  {
   "cell_type": "code",
   "execution_count": 17,
   "metadata": {},
   "outputs": [
    {
     "data": {
      "image/png": "[encoded data removed]",
      "text/plain": [
       "<Figure size 432x288 with 1 Axes>"
      ]
     },
     "metadata": {
      "needs_background": "light"
     },
     "output_type": "display_data"
    }
   ],
   "source": [
    "# Usando essa coluna no group by e criando um plot de barras\n",
    "\n",
    "base.groupby('Ano')['Sales'].sum().plot.bar();"
   ]
  },
  {
   "cell_type": "markdown",
   "metadata": {},
   "source": [
    "## Melhorando o visual desse gráfico\n",
    "- Como já vimos no último tópico, podemos melhorar muito a visualização desse gráfico. Vamos fazer isso!\n",
    "- Primeiramente vamos traçar um gráfico usando o que aprendemos de matplotlib\n",
    "    - https://matplotlib.org/stable/plot_types/basic/plot.html#sphx-glr-plot-types-basic-plot-py\n",
    "    - Sugestão de cor: `#84ba5b`"
   ]
  },
  {
   "cell_type": "code",
   "execution_count": 18,
   "metadata": {},
   "outputs": [],
   "source": [
    "import matplotlib.pyplot as plt\n",
    "import numpy as np"
   ]
  },
  {
   "cell_type": "code",
   "execution_count": 19,
   "metadata": {},
   "outputs": [
    {
     "data": {
      "image/png": "[encoded data removed]",
      "text/plain": [
       "<Figure size 648x432 with 1 Axes>"
      ]
     },
     "metadata": {
      "needs_background": "light"
     },
     "output_type": "display_data"
    }
   ],
   "source": [
    "# plot - Criando um gráfico com o matplotlib usando o groupby\n",
    "\n",
    "fig, ax = plt.subplots(figsize=(9,6))# tamanho da figura\n",
    "\n",
    "ax.bar(base.groupby('Ano')['Sales'].sum().index, base.groupby('Ano')['Sales'].sum().values, linewidth=2.0, color='#84ba5b')\n",
    "\n",
    "\n",
    "\n",
    "plt.show()"
   ]
  },
  {
   "cell_type": "markdown",
   "metadata": {},
   "source": [
    "**Adicionando o título e melhorando os textos do eixo**\n",
    "- Vamos adicionar o título e melhorar o eixo x\n",
    "    - O `.set_title` vai permitir colocar título e ajustar os parâmetros desse títulos\n",
    "        - fontsize: Tamanho da fonte\n",
    "        - fontweight: Espessura da fonte\n",
    "        - color: Cor da fonte\n",
    "    - O `xaxis.set_ticks` vai definir os valores mostrados no eixo x\n",
    "    - O `.tick_params(axis='x')` vai ajustar o parâmetro do eixo x\n",
    "        - labelsize: tamanho do label"
   ]
  },
  {
   "cell_type": "code",
   "execution_count": 20,
   "metadata": {},
   "outputs": [
    {
     "data": {
      "image/png": "[encoded data removed]",
      "text/plain": [
       "<Figure size 648x288 with 1 Axes>"
      ]
     },
     "metadata": {
      "needs_background": "light"
     },
     "output_type": "display_data"
    }
   ],
   "source": [
    "fig,ax = plt.subplots(\n",
    "            figsize = (9,4) # Tamanho da figura\n",
    "         \n",
    "    \n",
    "        )\n",
    "\n",
    "soma_ano = base.groupby(\"Ano\")[\"Sales\"].sum() # Valores que vamos usar para criar o nosso gráfico\n",
    "\n",
    "ax.bar(soma_ano.index,soma_ano.values,\n",
    "       color=\"#84ba5b\") # Cor das barras\n",
    "       \n",
    "ax.set_title('Vendas por ano',\n",
    "            fontsize=20, fontweight='bold', color='#84ba5b')\n",
    "\n",
    "for i in range (0,4):\n",
    "    ax.xaxis.set_ticks([i])\n",
    "\n",
    "\n",
    "\n",
    "plt.show()"
   ]
  },
  {
   "cell_type": "markdown",
   "metadata": {},
   "source": [
    "**Adicionando o rótulo de dados**\n",
    "- Para adicionar rótulo de dados, vamos usar o `.annotate` como vimos na última aula"
   ]
  },
  {
   "cell_type": "code",
   "execution_count": 21,
   "metadata": {},
   "outputs": [],
   "source": [
    "import numpy as np"
   ]
  },
  {
   "cell_type": "code",
   "execution_count": 22,
   "metadata": {},
   "outputs": [
    {
     "data": {
      "image/png": "[encoded data removed]",
      "text/plain": [
       "<Figure size 648x288 with 1 Axes>"
      ]
     },
     "metadata": {
      "needs_background": "light"
     },
     "output_type": "display_data"
    }
   ],
   "source": [
    "fig,ax = plt.subplots(\n",
    "            figsize = (9,4) # Tamanho da figura\n",
    "        )\n",
    "\n",
    "soma_ano = base.groupby(\"Ano\")[\"Sales\"].sum() # Valores que vamos usar para criar o nosso gráfico\n",
    "\n",
    "ax.bar(soma_ano.index,soma_ano.values,\n",
    "       color=\"#84ba5b\" # Cor das barras\n",
    "      )\n",
    "\n",
    "ax.set_title(\"VENDAS POR ANO\", # Título do gráfico\n",
    "             fontsize=20, # Tamanho da fonte\n",
    "             fontweight='bold', # Espessura da fonte\n",
    "             color='#00b247' # Cor da fonte\n",
    "            )\n",
    "\n",
    "ax.xaxis.set_ticks([2015,2016,2017,2018]) # Ajustando os valores de x\n",
    "ax.tick_params(axis='x',labelsize=15) # Melhorando o visual do eixo x\n",
    "\n",
    "for i in range (0,4):\n",
    "            ax.annotate(soma_ano.values[i],(soma_ano.index[i],soma_ano.values[i]))\n",
    "\n",
    "plt.show()"
   ]
  },
  {
   "cell_type": "code",
   "execution_count": 23,
   "metadata": {},
   "outputs": [
    {
     "data": {
      "text/plain": [
       "Ano\n",
       "2015    479856.2081\n",
       "2016    459436.0054\n",
       "2017    600192.5500\n",
       "2018    722052.0192\n",
       "Name: Sales, dtype: float64"
      ]
     },
     "execution_count": 23,
     "metadata": {},
     "output_type": "execute_result"
    }
   ],
   "source": [
    "soma_ano"
   ]
  },
  {
   "cell_type": "markdown",
   "metadata": {},
   "source": [
    "**Melhorando a visualização do gráfico**\n",
    "- Para o eixo y, podemos fazer igual fizemos para o eixo x\n",
    "    - Com o `.set_yticks` vamos ajustar os valores do eixo y\n",
    "    - O `.yaxis.set_visible(False)` permite retirar os valores do eixo y, tornando nosso visual mais claro\n",
    "- Já para retirar as bordas do gráfico, basta usar o `.spines['top'].set_visible(False)`"
   ]
  },
  {
   "cell_type": "code",
   "execution_count": 24,
   "metadata": {},
   "outputs": [
    {
     "data": {
      "image/png": "[encoded data removed]",
      "text/plain": [
       "<Figure size 648x288 with 1 Axes>"
      ]
     },
     "metadata": {
      "needs_background": "light"
     },
     "output_type": "display_data"
    }
   ],
   "source": [
    "fig,ax = plt.subplots(\n",
    "            figsize = (9,4) # Tamanho da figura\n",
    "        )\n",
    "\n",
    "soma_ano = base.groupby(\"Ano\")[\"Sales\"].sum() # Valores que vamos usar para criar o nosso gráfico\n",
    "\n",
    "ax.bar(soma_ano.index,soma_ano.values,\n",
    "       color=\"#84ba5b\" # Cor das barras\n",
    "      )\n",
    "\n",
    "ax.set_title(\"VENDAS POR ANO\", # Título do gráfico\n",
    "             fontsize=20, # Tamanho da fonte\n",
    "             fontweight='bold', # Espessura da fonte\n",
    "             color='black' # Cor da fonte\n",
    "            )\n",
    "\n",
    "ax.xaxis.set_ticks([2015,2016,2017,2018]) # Ajustando os valores de x\n",
    "ax.tick_params(axis='x',labelsize=14) # Melhorando o visual do eixo x\n",
    "\n",
    "# O Annotate é quem vai permitir que a gente coloque rótulo nos dados\n",
    "for i in np.arange(0,4):\n",
    "    ax.annotate('{:,.0f}'.format(soma_ano.values[i]).replace(',', '.'), # Valores que vão ser mostrados como rótulos, já formatados\n",
    "                (soma_ano.index[i],soma_ano.values[i]), # Posição (x,y que esses valores vão estar)\n",
    "                ha=\"center\",  # Alinhamento horizontal do texto\n",
    "                va=\"top\", # Alinhamento vertical do texto\n",
    "                xytext=(0,+15), # Deslocamento em relação ao ponto que o texto estaria\n",
    "                textcoords=\"offset points\",  # Sistema de coordenadas que o xytext vai ter como referência (nesse caso será em pontos, não em pixels)\n",
    "                fontsize=14, # Tamanho da fonte dos rótulos\n",
    "                fontweight='bold', # Espessura da fonte dos rótulos\n",
    "                color=\"black\" # Cor dos rótulos\n",
    "            )\n",
    "\n",
    "ax.spines['top'].set_visible(False)\n",
    "ax.spines['left'].set_visible(False)\n",
    "ax.spines['right'].set_visible(False)\n",
    "\n",
    "plt.show()"
   ]
  },
  {
   "cell_type": "markdown",
   "metadata": {},
   "source": [
    "**Como resultado final, teremos o gráfico abaixo**"
   ]
  },
  {
   "cell_type": "code",
   "execution_count": 25,
   "metadata": {},
   "outputs": [
    {
     "data": {
      "image/png": "[encoded data removed]",
      "text/plain": [
       "<Figure size 648x288 with 1 Axes>"
      ]
     },
     "metadata": {
      "needs_background": "light"
     },
     "output_type": "display_data"
    }
   ],
   "source": [
    "fig,ax = plt.subplots(\n",
    "            figsize = (9,4) # Tamanho da figura\n",
    "        )\n",
    "\n",
    "soma_ano = base.groupby(\"Ano\")[\"Sales\"].sum() # Valores que vamos usar para criar o nosso gráfico\n",
    "\n",
    "ax.bar(soma_ano.index,soma_ano.values,\n",
    "       color=\"#84ba5b\" # Cor das barras\n",
    "      )\n",
    "\n",
    "ax.set_title(\"VENDAS POR ANO\", # Título do gráfico\n",
    "             fontsize=20, # Tamanho da fonte\n",
    "             fontweight='bold', # Espessura da fonte\n",
    "             color='#00b247' # Cor da fonte\n",
    "            )\n",
    "\n",
    "ax.xaxis.set_ticks([2015,2016,2017,2018]) # Ajustando os valores de x\n",
    "ax.tick_params(axis='x',labelsize=14) # Melhorando o visual do eixo x\n",
    "\n",
    "# O Annotate é quem vai permitir que a gente coloque rótulo nos dados\n",
    "for i in np.arange(0,4):\n",
    "    ax.annotate('{:,.0f}'.format(soma_ano.values[i]).replace(',', '.'), # Valores que vão ser mostrados como rótulos, já formatados\n",
    "                (soma_ano.index[i],soma_ano.values[i]), # Posição (x,y que esses valores vão estar)\n",
    "                ha=\"center\",  # Alinhamento horizontal do texto\n",
    "                va=\"top\", # Alinhamento vertical do texto\n",
    "                xytext=(0,+15), # Deslocamento em relação ao ponto que o texto estaria\n",
    "                textcoords=\"offset points\",  # Sistema de coordenadas que o xytext vai ter como referência (nesse caso será em pontos, não em pixels)\n",
    "                fontsize=14, # Tamanho da fonte dos rótulos\n",
    "                fontweight='bold', # Espessura da fonte dos rótulos\n",
    "                color=\"green\" # Cor dos rótulos\n",
    "            )\n",
    "    \n",
    "ax.set_yticks(np.array([0,790000])) # Diminuindo o tamanho das barras para não cortar o rótulo\n",
    "ax.yaxis.set_visible(False) # Retirando os valores do eixo y\n",
    "\n",
    "ax.spines['top'].set_visible(False) # Retirando os traços do gráfico\n",
    "ax.spines['left'].set_visible(False)\n",
    "ax.spines['right'].set_visible(False)\n",
    "\n",
    "plt.show()"
   ]
  },
  {
   "cell_type": "markdown",
   "metadata": {},
   "source": [
    "# Venda por mês"
   ]
  },
  {
   "cell_type": "markdown",
   "metadata": {},
   "source": [
    "#### Também podemos mostrar essa visão por meses\n",
    "- Para isso, podemos usar o **.month** da biblioteca datetime para criar uma nova coluna apenas com o mês dessa base"
   ]
  },
  {
   "cell_type": "code",
   "execution_count": 26,
   "metadata": {},
   "outputs": [],
   "source": [
    "# Criando uma coluna com o mês\n",
    "\n",
    "base['Mes'] = base['Order Date'].dt.month"
   ]
  },
  {
   "cell_type": "code",
   "execution_count": 27,
   "metadata": {},
   "outputs": [],
   "source": [
    "# Fazendo o groupby agora por mês e ano\n",
    "\n",
    "soma_mes = base.groupby(['Mes','Ano'])['Sales'].sum()"
   ]
  },
  {
   "cell_type": "code",
   "execution_count": 28,
   "metadata": {},
   "outputs": [
    {
     "data": {
      "text/plain": [
       "Mes  Ano \n",
       "1    2015    28828.2540\n",
       "     2016    29347.3864\n",
       "     2017    38048.1840\n",
       "     2018    59767.0910\n",
       "2    2015    12588.4840\n",
       "Name: Sales, dtype: float64"
      ]
     },
     "execution_count": 28,
     "metadata": {},
     "output_type": "execute_result"
    }
   ],
   "source": [
    "# Verificando os valores gerados\n",
    "\n",
    "soma_mes.head()"
   ]
  },
  {
   "cell_type": "markdown",
   "metadata": {},
   "source": [
    "**Com o <font color=\"blue\">.reset_index()</font> conseguimos transformar os índices em colunas e então aplicar todas as propriedades que conhecemos para o DataFrame**"
   ]
  },
  {
   "cell_type": "code",
   "execution_count": 29,
   "metadata": {},
   "outputs": [],
   "source": [
    "# Vamos transformar os índices em colunas\n",
    "soma_mes = soma_mes.reset_index()\n"
   ]
  },
  {
   "cell_type": "code",
   "execution_count": 30,
   "metadata": {},
   "outputs": [
    {
     "data": {
      "text/html": [
       "<div>\n",
       "<style scoped>\n",
       "    .dataframe tbody tr th:only-of-type {\n",
       "        vertical-align: middle;\n",
       "    }\n",
       "\n",
       "    .dataframe tbody tr th {\n",
       "        vertical-align: top;\n",
       "    }\n",
       "\n",
       "    .dataframe thead th {\n",
       "        text-align: right;\n",
       "    }\n",
       "</style>\n",
       "<table border=\"1\" class=\"dataframe\">\n",
       "  <thead>\n",
       "    <tr style=\"text-align: right;\">\n",
       "      <th></th>\n",
       "      <th>Mes</th>\n",
       "      <th>Ano</th>\n",
       "      <th>Sales</th>\n",
       "    </tr>\n",
       "  </thead>\n",
       "  <tbody>\n",
       "    <tr>\n",
       "      <th>0</th>\n",
       "      <td>1</td>\n",
       "      <td>2015</td>\n",
       "      <td>28828.2540</td>\n",
       "    </tr>\n",
       "    <tr>\n",
       "      <th>1</th>\n",
       "      <td>1</td>\n",
       "      <td>2016</td>\n",
       "      <td>29347.3864</td>\n",
       "    </tr>\n",
       "    <tr>\n",
       "      <th>2</th>\n",
       "      <td>1</td>\n",
       "      <td>2017</td>\n",
       "      <td>38048.1840</td>\n",
       "    </tr>\n",
       "    <tr>\n",
       "      <th>3</th>\n",
       "      <td>1</td>\n",
       "      <td>2018</td>\n",
       "      <td>59767.0910</td>\n",
       "    </tr>\n",
       "    <tr>\n",
       "      <th>4</th>\n",
       "      <td>2</td>\n",
       "      <td>2015</td>\n",
       "      <td>12588.4840</td>\n",
       "    </tr>\n",
       "  </tbody>\n",
       "</table>\n",
       "</div>"
      ],
      "text/plain": [
       "   Mes   Ano       Sales\n",
       "0    1  2015  28828.2540\n",
       "1    1  2016  29347.3864\n",
       "2    1  2017  38048.1840\n",
       "3    1  2018  59767.0910\n",
       "4    2  2015  12588.4840"
      ]
     },
     "execution_count": 30,
     "metadata": {},
     "output_type": "execute_result"
    }
   ],
   "source": [
    "# Visualizando a base novamente\n",
    "\n",
    "soma_mes.head()"
   ]
  },
  {
   "cell_type": "code",
   "execution_count": 31,
   "metadata": {},
   "outputs": [
    {
     "data": {
      "text/plain": [
       "array([28828.254 , 12588.484 , 54027.692 , 24710.016 , 29520.49  ,\n",
       "       29181.3346, 35194.558 , 37349.2655, 65956.3998, 34561.947 ,\n",
       "       64369.4565, 63568.3107])"
      ]
     },
     "execution_count": 31,
     "metadata": {},
     "output_type": "execute_result"
    }
   ],
   "source": [
    "soma_mes[soma_mes.Ano == 2015].Sales.values"
   ]
  },
  {
   "cell_type": "markdown",
   "metadata": {},
   "source": [
    "**Vamos usar o gráfico que fizemos na aula anterior para ir criando esse gráfico**"
   ]
  },
  {
   "cell_type": "code",
   "execution_count": 32,
   "metadata": {},
   "outputs": [
    {
     "data": {
      "image/png": "[encoded data removed]",
      "text/plain": [
       "<Figure size 648x288 with 1 Axes>"
      ]
     },
     "metadata": {
      "needs_background": "light"
     },
     "output_type": "display_data"
    }
   ],
   "source": [
    "# Criando o gráfico de mês com o matplotlib\n",
    "fig,ax = plt.subplots(\n",
    "            figsize = (9,4) # Tamanho da figura\n",
    "        )\n",
    "\n",
    "ax.bar(soma_mes[soma_mes.Ano == 2015].Mes.values, soma_mes[soma_mes.Ano == 2015].Sales.values,\n",
    "       color=\"#84ba5b\" # Cor das barras\n",
    "      )\n",
    "\n",
    "plt.show()"
   ]
  },
  {
   "cell_type": "markdown",
   "metadata": {},
   "source": [
    "**Agora vamos adicionar a barra do ano de 2016**\n",
    "- Vamos adicionar um gráfico de barras com os dados de 2016"
   ]
  },
  {
   "cell_type": "code",
   "execution_count": 33,
   "metadata": {},
   "outputs": [
    {
     "data": {
      "image/png": "[encoded data removed]",
      "text/plain": [
       "<Figure size 648x288 with 1 Axes>"
      ]
     },
     "metadata": {
      "needs_background": "light"
     },
     "output_type": "display_data"
    }
   ],
   "source": [
    "fig,ax = plt.subplots(\n",
    "            figsize = (9,4) # Tamanho da figura\n",
    "        )\n",
    "\n",
    "ax.bar(soma_mes[soma_mes.Ano == 2015].Mes.values, soma_mes[soma_mes.Ano == 2015].Sales.values,\n",
    "       color=\"#84ba5b\", # Cor das barras\n",
    "      \n",
    "      ) \n",
    "ax.bar(soma_mes[soma_mes.Ano == 2016].Mes.values,soma_mes[soma_mes.Ano == 2016].Sales.values,\n",
    "       color=\"red\", # Cor das barras\n",
    "      \n",
    "        \n",
    "      )\n",
    "\n",
    "\n",
    "plt.show()"
   ]
  },
  {
   "cell_type": "markdown",
   "metadata": {},
   "source": [
    "**E então, deslocar as barras**\n",
    "- Para isso, vamos usar o mesmo raciocínio do width que usamos na aula anterior\n",
    "    - Para diferenciar os dados, também podemos usar o `label` para informar qual é cada um dos gráficos"
   ]
  },
  {
   "cell_type": "code",
   "execution_count": 34,
   "metadata": {},
   "outputs": [
    {
     "data": {
      "image/png": "[encoded data removed]",
      "text/plain": [
       "<Figure size 648x288 with 1 Axes>"
      ]
     },
     "metadata": {
      "needs_background": "light"
     },
     "output_type": "display_data"
    }
   ],
   "source": [
    "fig,ax = plt.subplots(\n",
    "            figsize = (9,4) # Tamanho da figura\n",
    "        )\n",
    "\n",
    "ax.bar(soma_mes[soma_mes.Ano == 2015].Mes.values -0.4/2,\n",
    "       soma_mes[soma_mes.Ano == 2015].Sales.values,\n",
    "       color=\"#84ba5b\", # Cor das barras\n",
    "       label=2016, \n",
    "       width =0.4\n",
    "      ) \n",
    "ax.bar(soma_mes[soma_mes.Ano == 2016].Mes.values +0.4/2,\n",
    "       soma_mes[soma_mes.Ano == 2016].Sales.values,\n",
    "       color=\"red\", # Cor das barras\n",
    "       label=2016, # Label dos dados\n",
    "        width =0.4\n",
    "      )\n",
    "\n",
    "\n",
    "plt.show()"
   ]
  },
  {
   "cell_type": "markdown",
   "metadata": {},
   "source": [
    "**Podemos agora adicionar todas as barras**"
   ]
  },
  {
   "cell_type": "code",
   "execution_count": 35,
   "metadata": {},
   "outputs": [
    {
     "data": {
      "image/png": "[encoded data removed]",
      "text/plain": [
       "<Figure size 648x288 with 1 Axes>"
      ]
     },
     "metadata": {
      "needs_background": "light"
     },
     "output_type": "display_data"
    }
   ],
   "source": [
    "fig,ax = plt.subplots(\n",
    "            figsize = (9,4) # Tamanho da figura\n",
    "        )\n",
    "\n",
    "### VAMOS AJUSTAR ESSA PARTE DO CÓDIGO ADICIONANDO AS PARTES DO TAMANHO DAS BARRAS\n",
    "wid = 0.3\n",
    "\n",
    "ax.bar(soma_mes[soma_mes.Ano == 2015].Mes.values-wid/2, # <- DESLOCANDO A BARRA PARA A ESQUERDA\n",
    "       soma_mes[soma_mes.Ano == 2015].Sales.values,\n",
    "       color=\"#00c698\", # Cor das barras\n",
    "       label=2015, # Label dos dados\n",
    "       width=wid # Largura das barras\n",
    "      )\n",
    "ax.bar(soma_mes[soma_mes.Ano == 2016].Mes.values+wid/2, # <- DESLOCANDO A BARRA PARA A DIREITA\n",
    "       soma_mes[soma_mes.Ano == 2016].Sales.values,\n",
    "       color=\"red\", \n",
    "       label=2016,\n",
    "       width=wid \n",
    "      )\n",
    "\n",
    "ax.legend()\n",
    "\n",
    "plt.show()"
   ]
  },
  {
   "cell_type": "markdown",
   "metadata": {},
   "source": [
    "**E vamos colocar rótulo apenas em 2018 para não poluir muito o gráfico**"
   ]
  },
  {
   "cell_type": "code",
   "execution_count": 36,
   "metadata": {},
   "outputs": [
    {
     "data": {
      "image/png": "[encoded data removed]",
      "text/plain": [
       "<Figure size 1152x288 with 1 Axes>"
      ]
     },
     "metadata": {
      "needs_background": "light"
     },
     "output_type": "display_data"
    }
   ],
   "source": [
    "fig,ax = plt.subplots(\n",
    "            figsize = (16,4) # Tamanho da figura\n",
    "        )\n",
    "\n",
    "wid = 0.2 # Tamanho das barras\n",
    "\n",
    "ax.bar(soma_mes[soma_mes.Ano == 2015].Mes.values-wid-wid/2, # Ajuste da posição das barras\n",
    "       soma_mes[soma_mes.Ano == 2015].Sales.values,\n",
    "       color=\"#00c698\", # Cor das barras\n",
    "       label=2015, # Label dos dados\n",
    "       width=wid # Largura das barras\n",
    "      )\n",
    "ax.bar(soma_mes[soma_mes.Ano == 2016].Mes.values-wid/2, # Ajuste da posição das barras\n",
    "       soma_mes[soma_mes.Ano == 2016].Sales.values,\n",
    "       color=\"red\", \n",
    "       label=2016,\n",
    "       width=wid \n",
    "      )\n",
    "\n",
    "# Adicionando o restante das barras\n",
    "ax.bar(soma_mes[soma_mes.Ano == 2017].Mes.values+wid/2, # Ajuste da posição das barras\n",
    "       soma_mes[soma_mes.Ano == 2017].Sales.values,\n",
    "       color=\"orange\", \n",
    "       label=2017,\n",
    "       width=wid \n",
    "      )\n",
    "ax.bar(soma_mes[soma_mes.Ano == 2018].Mes.values+wid+wid/2, # Ajuste da posição das barras\n",
    "       soma_mes[soma_mes.Ano == 2018].Sales.values,\n",
    "       color=\"#0069c0\", \n",
    "       label=2018,\n",
    "       width=wid \n",
    "      )\n",
    "ax.legend()\n",
    "\n",
    "# Adicionando o rótulo dos dados para 2018\n",
    "for i in np.arange(0,12):\n",
    "    ax.annotate('{:,.0f}k'.format(soma_mes[soma_mes.Ano == 2018].Sales.values[i]), # Valores que vão ser mostrados como rótulos, já formatados\n",
    "                (soma_mes[soma_mes.Ano == 2018].Mes.values[i]+wid+wid/2,soma_mes[soma_mes.Ano == 2018].Sales.values[i]), # Posição (x,y que esses valores vão estar)\n",
    "                ha=\"center\",  # Alinhamento horizontal do texto\n",
    "                va=\"top\", # Alinhamento vertical do texto\n",
    "                xytext=(5,12), # Deslocamento em relação ao ponto que o texto estaria\n",
    "                textcoords=\"offset points\",  # Sistema de coordenadas que o xytext vai ter como referência (nesse caso será em pontos, não em pixels)\n",
    "                fontsize=10, # Tamanho da fonte dos rótulos\n",
    "                fontweight='bold', # Espessura da fonte dos rótulos\n",
    "                color=\"#0069c0\" # Cor dos rótulos\n",
    "            )\n",
    "    \n",
    "    \n",
    "plt.show()"
   ]
  },
  {
   "cell_type": "markdown",
   "metadata": {},
   "source": [
    "**Melhorando o visual retirando as bordas e ajustando o texto do eixo x**"
   ]
  },
  {
   "cell_type": "code",
   "execution_count": 37,
   "metadata": {},
   "outputs": [
    {
     "data": {
      "image/png": "[encoded data removed]",
      "text/plain": [
       "<Figure size 1152x288 with 1 Axes>"
      ]
     },
     "metadata": {
      "needs_background": "light"
     },
     "output_type": "display_data"
    }
   ],
   "source": [
    "fig,ax = plt.subplots(\n",
    "            figsize = (16,4) # Tamanho da figura\n",
    "        )\n",
    "\n",
    "wid = 0.2 # Tamanho das barras\n",
    "\n",
    "ax.bar(soma_mes[soma_mes.Ano == 2015].Mes.values-wid-wid/2, # Ajuste da posição das barras\n",
    "       soma_mes[soma_mes.Ano == 2015].Sales.values,\n",
    "       color=\"#00c698\", # Cor das barras\n",
    "       label=2015, # Label dos dados\n",
    "       width=wid # Largura das barras\n",
    "      )\n",
    "ax.bar(soma_mes[soma_mes.Ano == 2016].Mes.values-wid/2, # Ajuste da posição das barras\n",
    "       soma_mes[soma_mes.Ano == 2016].Sales.values,\n",
    "       color=\"red\", \n",
    "       label=2016,\n",
    "       width=wid \n",
    "      )\n",
    "\n",
    "# Adicionando o restante das barras\n",
    "ax.bar(soma_mes[soma_mes.Ano == 2017].Mes.values+wid/2, # Ajuste da posição das barras\n",
    "       soma_mes[soma_mes.Ano == 2017].Sales.values,\n",
    "       color=\"orange\", \n",
    "       label=2017,\n",
    "       width=wid \n",
    "      )\n",
    "ax.bar(soma_mes[soma_mes.Ano == 2018].Mes.values+wid+wid/2, # Ajuste da posição das barras\n",
    "       soma_mes[soma_mes.Ano == 2018].Sales.values,\n",
    "       color=\"#0069c0\", \n",
    "       label=2018,\n",
    "       width=wid \n",
    "      )\n",
    "ax.legend()\n",
    "\n",
    "# Adicionando o rótulo dos dados para 2018\n",
    "for i in np.arange(0,12):\n",
    "    ax.annotate('{:,.0f}k'.format(soma_mes[soma_mes.Ano == 2018].Sales.values[i]/1000) , # Valores que vão ser mostrados como rótulos, já formatados fazendo a divisão /1000 para arredondar\n",
    "                (soma_mes[soma_mes.Ano == 2018].Mes.values[i]+wid+wid/2,soma_mes[soma_mes.Ano == 2018].Sales.values[i]), # Posição (x,y que esses valores vão estar)\n",
    "                ha=\"center\",  # Alinhamento horizontal do texto\n",
    "                va=\"top\", # Alinhamento vertical do texto\n",
    "                xytext=(5,12), # Deslocamento em relação ao ponto que o texto estaria\n",
    "                textcoords=\"offset points\",  # Sistema de coordenadas que o xytext vai ter como referência (nesse caso será em pontos, não em pixels)\n",
    "                fontsize=10, # Tamanho da fonte dos rótulos\n",
    "                fontweight='bold', # Espessura da fonte dos rótulos\n",
    "                color=\"#0069c0\" # Cor dos rótulos\n",
    "            )\n",
    "    \n",
    "plt.show()"
   ]
  },
  {
   "cell_type": "markdown",
   "metadata": {},
   "source": [
    "**Como resultado final, teremos o gráfico abaixo**"
   ]
  },
  {
   "cell_type": "code",
   "execution_count": 38,
   "metadata": {},
   "outputs": [
    {
     "data": {
      "image/png": "[encoded data removed]",
      "text/plain": [
       "<Figure size 1152x288 with 1 Axes>"
      ]
     },
     "metadata": {
      "needs_background": "light"
     },
     "output_type": "display_data"
    }
   ],
   "source": [
    "fig,ax = plt.subplots(\n",
    "            figsize = (16,4) # Tamanho da figura\n",
    "        )\n",
    "\n",
    "ax.bar(soma_mes[soma_mes.Ano == 2015].Mes.values-wid-wid/2, # Ajuste da posição das barras\n",
    "       soma_mes[soma_mes.Ano == 2015].Sales.values,\n",
    "       color=\"#00c698\", # Cor das barras\n",
    "       label=2015, # Label dos dados\n",
    "       width=wid # Largura das barras\n",
    "      )\n",
    "ax.bar(soma_mes[soma_mes.Ano == 2016].Mes.values-wid/2, # Ajuste da posição das barras\n",
    "       soma_mes[soma_mes.Ano == 2016].Sales.values,\n",
    "       color=\"red\", \n",
    "       label=2016,\n",
    "       width=wid \n",
    "      )\n",
    "\n",
    "# Adicionando o restante das barras\n",
    "ax.bar(soma_mes[soma_mes.Ano == 2017].Mes.values+wid/2, # Ajuste da posição das barras\n",
    "       soma_mes[soma_mes.Ano == 2017].Sales.values,\n",
    "       color=\"orange\", \n",
    "       label=2017,\n",
    "       width=wid \n",
    "      )\n",
    "ax.bar(soma_mes[soma_mes.Ano == 2018].Mes.values+wid+wid/2, # Ajuste da posição das barras\n",
    "       soma_mes[soma_mes.Ano == 2018].Sales.values,\n",
    "       color=\"#0069c0\", \n",
    "       label=2018,\n",
    "       width=wid \n",
    "      )\n",
    "ax.legend()\n",
    "\n",
    "# Adicionando o rótulo dos dados para 2018\n",
    "for i in np.arange(0,12):\n",
    "    ax.annotate('{:,.0f}k'.format(soma_mes[soma_mes.Ano == 2018].Sales.values[i]/1000), # Valores que vão ser mostrados como rótulos, já formatados\n",
    "                (soma_mes[soma_mes.Ano == 2018].Mes.values[i]+wid+wid/2,soma_mes[soma_mes.Ano == 2018].Sales.values[i]), # Posição (x,y que esses valores vão estar)\n",
    "                ha=\"center\",  # Alinhamento horizontal do texto\n",
    "                va=\"top\", # Alinhamento vertical do texto\n",
    "                xytext=(5,12), # Deslocamento em relação ao ponto que o texto estaria\n",
    "                textcoords=\"offset points\",  # Sistema de coordenadas que o xytext vai ter como referência (nesse caso será em pontos, não em pixels)\n",
    "                fontsize=10, # Tamanho da fonte dos rótulos\n",
    "                fontweight='bold', # Espessura da fonte dos rótulos\n",
    "                color=\"#0069c0\" # Cor dos rótulos\n",
    "            )\n",
    "    \n",
    "ax.yaxis.set_visible(False) # Retirando os valores do eixo y\n",
    "\n",
    "ax.spines['top'].set_visible(False) # Retirando os traços do gráfico\n",
    "ax.spines['left'].set_visible(False)\n",
    "ax.spines['right'].set_visible(False)\n",
    "\n",
    "ax.xaxis.set_ticks(np.arange(1,13)) # Ajustando os valores de x\n",
    "ax.set_xticklabels(['Jan','Fev','Mar','Abr','Mai','Jun','Jul','Ago','Set','Out','Nov','Dez'], color='black') # colocando rotulos no eixo X\n",
    "ax.tick_params(axis='x',labelsize=15) # Melhorando o visual do eixo x\n",
    "    \n",
    "plt.show()"
   ]
  },
  {
   "cell_type": "markdown",
   "metadata": {},
   "source": [
    "### 4. <font color=\"blue\"> Qual foi a categoria mais vendida? </font>\n",
    "Precisamos primeiro entender a informação de categoria"
   ]
  },
  {
   "cell_type": "code",
   "execution_count": 39,
   "metadata": {},
   "outputs": [
    {
     "data": {
      "text/plain": [
       "Category\n",
       "Furniture          728658.5757\n",
       "Office Supplies    705422.3340\n",
       "Technology         827455.8730\n",
       "Name: Sales, dtype: float64"
      ]
     },
     "execution_count": 39,
     "metadata": {},
     "output_type": "execute_result"
    }
   ],
   "source": [
    "# Podemos fazer um groupby da categoria\n",
    "\n",
    "base.groupby(['Category'])['Sales'].sum()"
   ]
  },
  {
   "cell_type": "markdown",
   "metadata": {},
   "source": [
    "**Como estamos falando de 4 anos diferentes, seria interessante entender como foram essas categorias em cada um dos anos**"
   ]
  },
  {
   "cell_type": "code",
   "execution_count": 40,
   "metadata": {},
   "outputs": [],
   "source": [
    "# Agrupando por ano e categoria\n",
    "\n",
    "categoria = base.groupby(['Category','Ano'])['Sales'].sum()\n"
   ]
  },
  {
   "cell_type": "markdown",
   "metadata": {},
   "source": [
    "**Uma forma de visualizar melhor essas informações é fazer um gráfico de barras com esses dados, bem semelhante ao que fizemos acima**"
   ]
  },
  {
   "cell_type": "code",
   "execution_count": 41,
   "metadata": {},
   "outputs": [],
   "source": [
    "# Criando agora a base de categorias como fizemos anteriormente\n",
    "\n",
    "categoria = categoria.reset_index()\n"
   ]
  },
  {
   "cell_type": "code",
   "execution_count": 42,
   "metadata": {},
   "outputs": [
    {
     "data": {
      "text/html": [
       "<div>\n",
       "<style scoped>\n",
       "    .dataframe tbody tr th:only-of-type {\n",
       "        vertical-align: middle;\n",
       "    }\n",
       "\n",
       "    .dataframe tbody tr th {\n",
       "        vertical-align: top;\n",
       "    }\n",
       "\n",
       "    .dataframe thead th {\n",
       "        text-align: right;\n",
       "    }\n",
       "</style>\n",
       "<table border=\"1\" class=\"dataframe\">\n",
       "  <thead>\n",
       "    <tr style=\"text-align: right;\">\n",
       "      <th></th>\n",
       "      <th>Category</th>\n",
       "      <th>Ano</th>\n",
       "      <th>Sales</th>\n",
       "    </tr>\n",
       "  </thead>\n",
       "  <tbody>\n",
       "    <tr>\n",
       "      <th>0</th>\n",
       "      <td>Furniture</td>\n",
       "      <td>2015</td>\n",
       "      <td>156477.8811</td>\n",
       "    </tr>\n",
       "    <tr>\n",
       "      <th>1</th>\n",
       "      <td>Furniture</td>\n",
       "      <td>2016</td>\n",
       "      <td>164053.8674</td>\n",
       "    </tr>\n",
       "    <tr>\n",
       "      <th>2</th>\n",
       "      <td>Furniture</td>\n",
       "      <td>2017</td>\n",
       "      <td>195813.0400</td>\n",
       "    </tr>\n",
       "    <tr>\n",
       "      <th>3</th>\n",
       "      <td>Furniture</td>\n",
       "      <td>2018</td>\n",
       "      <td>212313.7872</td>\n",
       "    </tr>\n",
       "    <tr>\n",
       "      <th>4</th>\n",
       "      <td>Office Supplies</td>\n",
       "      <td>2015</td>\n",
       "      <td>149512.8200</td>\n",
       "    </tr>\n",
       "    <tr>\n",
       "      <th>5</th>\n",
       "      <td>Office Supplies</td>\n",
       "      <td>2016</td>\n",
       "      <td>133124.4070</td>\n",
       "    </tr>\n",
       "    <tr>\n",
       "      <th>6</th>\n",
       "      <td>Office Supplies</td>\n",
       "      <td>2017</td>\n",
       "      <td>182417.5660</td>\n",
       "    </tr>\n",
       "    <tr>\n",
       "      <th>7</th>\n",
       "      <td>Office Supplies</td>\n",
       "      <td>2018</td>\n",
       "      <td>240367.5410</td>\n",
       "    </tr>\n",
       "    <tr>\n",
       "      <th>8</th>\n",
       "      <td>Technology</td>\n",
       "      <td>2015</td>\n",
       "      <td>173865.5070</td>\n",
       "    </tr>\n",
       "    <tr>\n",
       "      <th>9</th>\n",
       "      <td>Technology</td>\n",
       "      <td>2016</td>\n",
       "      <td>162257.7310</td>\n",
       "    </tr>\n",
       "    <tr>\n",
       "      <th>10</th>\n",
       "      <td>Technology</td>\n",
       "      <td>2017</td>\n",
       "      <td>221961.9440</td>\n",
       "    </tr>\n",
       "    <tr>\n",
       "      <th>11</th>\n",
       "      <td>Technology</td>\n",
       "      <td>2018</td>\n",
       "      <td>269370.6910</td>\n",
       "    </tr>\n",
       "  </tbody>\n",
       "</table>\n",
       "</div>"
      ],
      "text/plain": [
       "           Category   Ano        Sales\n",
       "0         Furniture  2015  156477.8811\n",
       "1         Furniture  2016  164053.8674\n",
       "2         Furniture  2017  195813.0400\n",
       "3         Furniture  2018  212313.7872\n",
       "4   Office Supplies  2015  149512.8200\n",
       "5   Office Supplies  2016  133124.4070\n",
       "6   Office Supplies  2017  182417.5660\n",
       "7   Office Supplies  2018  240367.5410\n",
       "8        Technology  2015  173865.5070\n",
       "9        Technology  2016  162257.7310\n",
       "10       Technology  2017  221961.9440\n",
       "11       Technology  2018  269370.6910"
      ]
     },
     "execution_count": 42,
     "metadata": {},
     "output_type": "execute_result"
    }
   ],
   "source": [
    "# Visualizando \n",
    "\n",
    "categoria"
   ]
  },
  {
   "cell_type": "code",
   "execution_count": 43,
   "metadata": {},
   "outputs": [
    {
     "data": {
      "text/plain": [
       "array([2015, 2016, 2017, 2018], dtype=int64)"
      ]
     },
     "execution_count": 43,
     "metadata": {},
     "output_type": "execute_result"
    }
   ],
   "source": [
    "categoria[categoria.Category == 'Furniture'].Ano.values"
   ]
  },
  {
   "cell_type": "markdown",
   "metadata": {},
   "source": [
    "**Utilizando a mesma lógica do gráfico anterior**"
   ]
  },
  {
   "cell_type": "code",
   "execution_count": 44,
   "metadata": {},
   "outputs": [
    {
     "ename": "SyntaxError",
     "evalue": "invalid syntax (Temp/ipykernel_15776/3668836732.py, line 15)",
     "output_type": "error",
     "traceback": [
      "\u001b[1;36m  File \u001b[1;32m\"C:\\Users\\chuck\\AppData\\Local\\Temp/ipykernel_15776/3668836732.py\"\u001b[1;36m, line \u001b[1;32m15\u001b[0m\n\u001b[1;33m    categoria[categoria.Category == 'Office Supplies'].Sales.values,\u001b[0m\n\u001b[1;37m    ^\u001b[0m\n\u001b[1;31mSyntaxError\u001b[0m\u001b[1;31m:\u001b[0m invalid syntax\n"
     ]
    }
   ],
   "source": [
    "# Vamos utilizar o mesmo código do gráfico anterior para exibir por categorias\n",
    "\n",
    "fig,ax = plt.subplots(\n",
    "            figsize = (16,4) # Tamanho da figura\n",
    "        )\n",
    "\n",
    "ax.bar(categoria[categoria.Category == 'Furniture'].Ano.values, # Ajuste da posição das barras\n",
    "       categoria[categoria.Category == 'Furniture'].Sales.values,\n",
    "       color=\"#00c698\", # Cor das barras\n",
    "       label='Furniture', # Label dos dados\n",
    "       width=wid # Largura das barras\n",
    "      )\n",
    "\n",
    "ax.bar(categoria[categoria.Category == 'Office Supplies'].Ano.values-wid # colocando as colunas em ordem usar wid - pra esquerda e + pra direita, \n",
    "       categoria[categoria.Category == 'Office Supplies'].Sales.values,\n",
    "       color=\"#00a9b5\", \n",
    "       label='Office Supplies',\n",
    "       width=wid\n",
    "      )\n",
    "\n",
    "      \n",
    "ax.legend()\n",
    "\n",
    "plt.show()"
   ]
  },
  {
   "cell_type": "markdown",
   "metadata": {},
   "source": [
    "**Como resultado final, teremos o gráfico abaixo**"
   ]
  },
  {
   "cell_type": "code",
   "execution_count": 45,
   "metadata": {},
   "outputs": [
    {
     "data": {
      "image/png": "[encoded data removed]",
      "text/plain": [
       "<Figure size 1152x288 with 1 Axes>"
      ]
     },
     "metadata": {
      "needs_background": "light"
     },
     "output_type": "display_data"
    }
   ],
   "source": [
    "fig,ax = plt.subplots(\n",
    "            figsize = (16,4)\n",
    "        )\n",
    "\n",
    "wid = 0.2 \n",
    "\n",
    "ax.bar(categoria[categoria.Category == 'Furniture'].Ano.values-wid, # Como temos 3 colunas, vamos deslocar a largura da coluna inteira\n",
    "       categoria[categoria.Category == 'Furniture'].Sales.values,\n",
    "       color=\"#00c698\", \n",
    "       label='Furniture', # As legendas agora serão as categorias\n",
    "       width=wid\n",
    "      )\n",
    "\n",
    "ax.bar(categoria[categoria.Category == 'Office Supplies'].Ano.values, \n",
    "       categoria[categoria.Category == 'Office Supplies'].Sales.values,\n",
    "       color=\"#00a9b5\", \n",
    "       label='Office Supplies', \n",
    "       width=wid\n",
    "      )\n",
    "\n",
    "ax.bar(categoria[categoria.Category == 'Technology'].Ano.values+wid, \n",
    "       categoria[categoria.Category == 'Technology'].Sales.values,\n",
    "       color=\"#008ac5\", \n",
    "       label='Technology', \n",
    "       width=wid\n",
    "      )\n",
    "\n",
    "ax.legend()\n",
    "\n",
    "for i in np.arange(0,4):\n",
    "    ax.annotate('{:,.0f}k'.format(categoria[categoria.Category == 'Furniture'].Sales.values[i]/1000), \n",
    "                (categoria[categoria.Category == 'Furniture'].Ano.values[i]-wid,categoria[categoria.Category == 'Furniture'].Sales.values[i]), \n",
    "                ha=\"center\", va=\"top\", xytext=(0,15), textcoords=\"offset points\", \n",
    "                fontsize=12, fontweight='bold', color=\"#00c698\")\n",
    "    ax.annotate('{:,.0f}k'.format(categoria[categoria.Category == 'Office Supplies'].Sales.values[i]/1000), \n",
    "                (categoria[categoria.Category == 'Office Supplies'].Ano.values[i],categoria[categoria.Category == 'Office Supplies'].Sales.values[i]), \n",
    "                ha=\"center\", va=\"top\", xytext=(0,15), textcoords=\"offset points\", \n",
    "                fontsize=12, fontweight='bold', color=\"#00a9b5\")\n",
    "    ax.annotate('{:,.0f}k'.format(categoria[categoria.Category == 'Technology'].Sales.values[i]/1000), \n",
    "                (categoria[categoria.Category == 'Technology'].Ano.values[i]+wid,categoria[categoria.Category == 'Technology'].Sales.values[i]), \n",
    "                ha=\"center\", va=\"top\", xytext=(0,15), textcoords=\"offset points\", \n",
    "                fontsize=12, fontweight='bold', color=\"#008ac5\")   \n",
    "    \n",
    "ax.set_yticks(np.array([0,350000]))\n",
    "ax.yaxis.set_visible(False) \n",
    "\n",
    "ax.spines['top'].set_visible(False) \n",
    "ax.spines['left'].set_visible(False)\n",
    "ax.spines['right'].set_visible(False)\n",
    "\n",
    "ax.xaxis.set_ticks(np.arange(2015,2019)) \n",
    "ax.tick_params(axis='x',labelsize=12) \n",
    "\n",
    "plt.show()"
   ]
  },
  {
   "cell_type": "markdown",
   "metadata": {},
   "source": [
    "### 4. <font color=\"blue\"> Qual o item mais vendido? </font>\n",
    "Vamos seguir exatamente a mesma lógica da categoria"
   ]
  },
  {
   "cell_type": "markdown",
   "metadata": {},
   "source": [
    "**Podemos fazer a tabela considerando esses top itens**\n",
    "- Para pegar uma base, podemos usar o `.head()` que já conhecemos\n",
    "- Podemos também usar o `.sort_values()` para definirmos se a base será crescente ou descrescente"
   ]
  },
  {
   "cell_type": "code",
   "execution_count": 50,
   "metadata": {},
   "outputs": [
    {
     "data": {
      "text/html": [
       "<div>\n",
       "<style scoped>\n",
       "    .dataframe tbody tr th:only-of-type {\n",
       "        vertical-align: middle;\n",
       "    }\n",
       "\n",
       "    .dataframe tbody tr th {\n",
       "        vertical-align: top;\n",
       "    }\n",
       "\n",
       "    .dataframe thead th {\n",
       "        text-align: right;\n",
       "    }\n",
       "</style>\n",
       "<table border=\"1\" class=\"dataframe\">\n",
       "  <thead>\n",
       "    <tr style=\"text-align: right;\">\n",
       "      <th></th>\n",
       "      <th>Product Name</th>\n",
       "      <th>Sales</th>\n",
       "    </tr>\n",
       "  </thead>\n",
       "  <tbody>\n",
       "    <tr>\n",
       "      <th>404</th>\n",
       "      <td>Canon imageCLASS 2200 Advanced Copier</td>\n",
       "      <td>61599.824</td>\n",
       "    </tr>\n",
       "    <tr>\n",
       "      <th>649</th>\n",
       "      <td>Fellowes PB500 Electric Punch Plastic Comb Bin...</td>\n",
       "      <td>27453.384</td>\n",
       "    </tr>\n",
       "    <tr>\n",
       "      <th>444</th>\n",
       "      <td>Cisco TelePresence System EX90 Videoconferenci...</td>\n",
       "      <td>22638.480</td>\n",
       "    </tr>\n",
       "    <tr>\n",
       "      <th>785</th>\n",
       "      <td>HON 5400 Series Task Chairs for Big and Tall</td>\n",
       "      <td>21870.576</td>\n",
       "    </tr>\n",
       "    <tr>\n",
       "      <th>685</th>\n",
       "      <td>GBC DocuBind TL300 Electric Binding System</td>\n",
       "      <td>19823.479</td>\n",
       "    </tr>\n",
       "  </tbody>\n",
       "</table>\n",
       "</div>"
      ],
      "text/plain": [
       "                                          Product Name      Sales\n",
       "404              Canon imageCLASS 2200 Advanced Copier  61599.824\n",
       "649  Fellowes PB500 Electric Punch Plastic Comb Bin...  27453.384\n",
       "444  Cisco TelePresence System EX90 Videoconferenci...  22638.480\n",
       "785       HON 5400 Series Task Chairs for Big and Tall  21870.576\n",
       "685         GBC DocuBind TL300 Electric Binding System  19823.479"
      ]
     },
     "execution_count": 50,
     "metadata": {},
     "output_type": "execute_result"
    }
   ],
   "source": [
    "# Podemos fazer um groupby do item\n",
    "\n",
    "itens = base.groupby('Product Name')['Sales'].sum()\n",
    "itens = itens.reset_index()\n",
    "itens = itens.sort_values('Sales',ascending=False)\n",
    "itens.head()"
   ]
  },
  {
   "cell_type": "markdown",
   "metadata": {},
   "source": [
    "**Uma forma de resolver a quantidade de ítens seria fazer apenas para os top 10 ítens**"
   ]
  },
  {
   "cell_type": "code",
   "execution_count": 53,
   "metadata": {},
   "outputs": [
    {
     "data": {
      "text/html": [
       "<div>\n",
       "<style scoped>\n",
       "    .dataframe tbody tr th:only-of-type {\n",
       "        vertical-align: middle;\n",
       "    }\n",
       "\n",
       "    .dataframe tbody tr th {\n",
       "        vertical-align: top;\n",
       "    }\n",
       "\n",
       "    .dataframe thead th {\n",
       "        text-align: right;\n",
       "    }\n",
       "</style>\n",
       "<table border=\"1\" class=\"dataframe\">\n",
       "  <thead>\n",
       "    <tr style=\"text-align: right;\">\n",
       "      <th></th>\n",
       "      <th>Product Name</th>\n",
       "      <th>Sales</th>\n",
       "    </tr>\n",
       "  </thead>\n",
       "  <tbody>\n",
       "    <tr>\n",
       "      <th>404</th>\n",
       "      <td>Canon imageCLASS 2200 Advanced Copier</td>\n",
       "      <td>61599.824</td>\n",
       "    </tr>\n",
       "    <tr>\n",
       "      <th>649</th>\n",
       "      <td>Fellowes PB500 Electric Punch Plastic Comb Bin...</td>\n",
       "      <td>27453.384</td>\n",
       "    </tr>\n",
       "    <tr>\n",
       "      <th>444</th>\n",
       "      <td>Cisco TelePresence System EX90 Videoconferenci...</td>\n",
       "      <td>22638.480</td>\n",
       "    </tr>\n",
       "    <tr>\n",
       "      <th>785</th>\n",
       "      <td>HON 5400 Series Task Chairs for Big and Tall</td>\n",
       "      <td>21870.576</td>\n",
       "    </tr>\n",
       "    <tr>\n",
       "      <th>685</th>\n",
       "      <td>GBC DocuBind TL300 Electric Binding System</td>\n",
       "      <td>19823.479</td>\n",
       "    </tr>\n",
       "    <tr>\n",
       "      <th>687</th>\n",
       "      <td>GBC Ibimaster 500 Manual ProClick Binding System</td>\n",
       "      <td>19024.500</td>\n",
       "    </tr>\n",
       "    <tr>\n",
       "      <th>804</th>\n",
       "      <td>Hewlett Packard LaserJet 3310 Copier</td>\n",
       "      <td>18839.686</td>\n",
       "    </tr>\n",
       "    <tr>\n",
       "      <th>786</th>\n",
       "      <td>HP Designjet T520 Inkjet Large Format Printer ...</td>\n",
       "      <td>18374.895</td>\n",
       "    </tr>\n",
       "    <tr>\n",
       "      <th>682</th>\n",
       "      <td>GBC DocuBind P400 Electric Binding System</td>\n",
       "      <td>17965.068</td>\n",
       "    </tr>\n",
       "    <tr>\n",
       "      <th>812</th>\n",
       "      <td>High Speed Automatic Electric Letter Opener</td>\n",
       "      <td>17030.312</td>\n",
       "    </tr>\n",
       "  </tbody>\n",
       "</table>\n",
       "</div>"
      ],
      "text/plain": [
       "                                          Product Name      Sales\n",
       "404              Canon imageCLASS 2200 Advanced Copier  61599.824\n",
       "649  Fellowes PB500 Electric Punch Plastic Comb Bin...  27453.384\n",
       "444  Cisco TelePresence System EX90 Videoconferenci...  22638.480\n",
       "785       HON 5400 Series Task Chairs for Big and Tall  21870.576\n",
       "685         GBC DocuBind TL300 Electric Binding System  19823.479\n",
       "687   GBC Ibimaster 500 Manual ProClick Binding System  19024.500\n",
       "804               Hewlett Packard LaserJet 3310 Copier  18839.686\n",
       "786  HP Designjet T520 Inkjet Large Format Printer ...  18374.895\n",
       "682          GBC DocuBind P400 Electric Binding System  17965.068\n",
       "812        High Speed Automatic Electric Letter Opener  17030.312"
      ]
     },
     "execution_count": 53,
     "metadata": {},
     "output_type": "execute_result"
    }
   ],
   "source": [
    "# Os top 10 itens são forma erronea de fazer\n",
    "\n",
    "top_10_itens = itens.head(10)\n",
    "top_10_itens"
   ]
  },
  {
   "cell_type": "code",
   "execution_count": 109,
   "metadata": {},
   "outputs": [
    {
     "data": {
      "text/html": [
       "<div>\n",
       "<style scoped>\n",
       "    .dataframe tbody tr th:only-of-type {\n",
       "        vertical-align: middle;\n",
       "    }\n",
       "\n",
       "    .dataframe tbody tr th {\n",
       "        vertical-align: top;\n",
       "    }\n",
       "\n",
       "    .dataframe thead th {\n",
       "        text-align: right;\n",
       "    }\n",
       "</style>\n",
       "<table border=\"1\" class=\"dataframe\">\n",
       "  <thead>\n",
       "    <tr style=\"text-align: right;\">\n",
       "      <th></th>\n",
       "      <th>Product Name</th>\n",
       "      <th>Sales</th>\n",
       "    </tr>\n",
       "  </thead>\n",
       "  <tbody>\n",
       "    <tr>\n",
       "      <th>404</th>\n",
       "      <td>Canon imageCLASS 2200 Advanced Copier</td>\n",
       "      <td>61599.824</td>\n",
       "    </tr>\n",
       "    <tr>\n",
       "      <th>649</th>\n",
       "      <td>Fellowes PB500 Electric Punch Plastic Comb Bin...</td>\n",
       "      <td>27453.384</td>\n",
       "    </tr>\n",
       "    <tr>\n",
       "      <th>444</th>\n",
       "      <td>Cisco TelePresence System EX90 Videoconferenci...</td>\n",
       "      <td>22638.480</td>\n",
       "    </tr>\n",
       "    <tr>\n",
       "      <th>785</th>\n",
       "      <td>HON 5400 Series Task Chairs for Big and Tall</td>\n",
       "      <td>21870.576</td>\n",
       "    </tr>\n",
       "    <tr>\n",
       "      <th>685</th>\n",
       "      <td>GBC DocuBind TL300 Electric Binding System</td>\n",
       "      <td>19823.479</td>\n",
       "    </tr>\n",
       "    <tr>\n",
       "      <th>687</th>\n",
       "      <td>GBC Ibimaster 500 Manual ProClick Binding System</td>\n",
       "      <td>19024.500</td>\n",
       "    </tr>\n",
       "    <tr>\n",
       "      <th>804</th>\n",
       "      <td>Hewlett Packard LaserJet 3310 Copier</td>\n",
       "      <td>18839.686</td>\n",
       "    </tr>\n",
       "    <tr>\n",
       "      <th>786</th>\n",
       "      <td>HP Designjet T520 Inkjet Large Format Printer ...</td>\n",
       "      <td>18374.895</td>\n",
       "    </tr>\n",
       "    <tr>\n",
       "      <th>682</th>\n",
       "      <td>GBC DocuBind P400 Electric Binding System</td>\n",
       "      <td>17965.068</td>\n",
       "    </tr>\n",
       "    <tr>\n",
       "      <th>812</th>\n",
       "      <td>High Speed Automatic Electric Letter Opener</td>\n",
       "      <td>17030.312</td>\n",
       "    </tr>\n",
       "  </tbody>\n",
       "</table>\n",
       "</div>"
      ],
      "text/plain": [
       "                                          Product Name      Sales\n",
       "404              Canon imageCLASS 2200 Advanced Copier  61599.824\n",
       "649  Fellowes PB500 Electric Punch Plastic Comb Bin...  27453.384\n",
       "444  Cisco TelePresence System EX90 Videoconferenci...  22638.480\n",
       "785       HON 5400 Series Task Chairs for Big and Tall  21870.576\n",
       "685         GBC DocuBind TL300 Electric Binding System  19823.479\n",
       "687   GBC Ibimaster 500 Manual ProClick Binding System  19024.500\n",
       "804               Hewlett Packard LaserJet 3310 Copier  18839.686\n",
       "786  HP Designjet T520 Inkjet Large Format Printer ...  18374.895\n",
       "682          GBC DocuBind P400 Electric Binding System  17965.068\n",
       "812        High Speed Automatic Electric Letter Opener  17030.312"
      ]
     },
     "execution_count": 109,
     "metadata": {},
     "output_type": "execute_result"
    }
   ],
   "source": [
    "# Definindo o top n itens, melhor para usar pois só altera o valor de N\n",
    "\n",
    "n = 10\n",
    "\n",
    "top_n_itens = itens.head(n)\n",
    "top_n_itens"
   ]
  },
  {
   "cell_type": "markdown",
   "metadata": {},
   "source": [
    "**Vamos traçar um gráfico de barras horizontais para mostrar o top 10 itens**\n",
    "- https://matplotlib.org/stable/gallery/lines_bars_and_markers/barh.html#sphx-glr-gallery-lines-bars-and-markers-barh-py\n",
    "- Podemos usar o `ax.invert_yaxis()` para inverter o eixo y"
   ]
  },
  {
   "cell_type": "code",
   "execution_count": 110,
   "metadata": {},
   "outputs": [
    {
     "data": {
      "image/png": "[encoded data removed]",
      "text/plain": [
       "<Figure size 720x720 with 1 Axes>"
      ]
     },
     "metadata": {
      "needs_background": "light"
     },
     "output_type": "display_data"
    }
   ],
   "source": [
    "# fazendo um grafico dos itens, usando grafico vertical\n",
    "\n",
    "fig, ax = plt.subplots(\n",
    "            figsize = (10,10)\n",
    "    )\n",
    "ax.barh(top_n_itens['Product Name'].values, #valores do eixo y\n",
    "        top_n_itens['Sales'].values, align='center',color='orange'\n",
    "       )\n",
    "\n",
    "for i in np.arange(0,n):\n",
    "    ax.annotate('{:,.0f}k'.format(top_n_itens['Sales'].values[i]/1000), # Valores que vão ser mostrados como rótulos, já formatados\n",
    "                (top_n_itens['Sales'].values[i],i), # Posição (x,y que esses valores vão estar)\n",
    "                ha=\"center\",  # Alinhamento horizontal do texto\n",
    "                va=\"top\", # Alinhamento vertical do texto\n",
    "                xytext=(-10,5), # Deslocamento em relação ao ponto que o texto estaria\n",
    "                textcoords=\"offset points\",  # Sistema de coordenadas que o xytext vai ter como referência (nesse caso será em pontos, não em pixels)\n",
    "                fontsize=10, # Tamanho da fonte dos rótulos\n",
    "                fontweight='bold', # Espessura da fonte dos rótulos\n",
    "                color=\"black\" # Cor dos rótulos\n",
    "            )\n",
    "\n",
    "ax.invert_yaxis()\n",
    "ax.set_title('Itens mais vendidos')\n",
    "ax.spines['top'].set_visible(False) \n",
    "ax.spines['left'].set_visible(False)\n",
    "ax.spines['right'].set_visible(False)\n",
    "ax.spines['bottom'].set_visible(False)\n",
    "ax.xaxis.set_visible(False) \n",
    "ax.tick_params(axis='x',labelsize=10) \n"
   ]
  },
  {
   "cell_type": "code",
   "execution_count": 111,
   "metadata": {},
   "outputs": [
    {
     "data": {
      "text/html": [
       "<div>\n",
       "<style scoped>\n",
       "    .dataframe tbody tr th:only-of-type {\n",
       "        vertical-align: middle;\n",
       "    }\n",
       "\n",
       "    .dataframe tbody tr th {\n",
       "        vertical-align: top;\n",
       "    }\n",
       "\n",
       "    .dataframe thead th {\n",
       "        text-align: right;\n",
       "    }\n",
       "</style>\n",
       "<table border=\"1\" class=\"dataframe\">\n",
       "  <thead>\n",
       "    <tr style=\"text-align: right;\">\n",
       "      <th></th>\n",
       "      <th>Row ID</th>\n",
       "      <th>Order ID</th>\n",
       "      <th>Order Date</th>\n",
       "      <th>Ship Date</th>\n",
       "      <th>Ship Mode</th>\n",
       "      <th>Customer ID</th>\n",
       "      <th>Customer Name</th>\n",
       "      <th>Segment</th>\n",
       "      <th>Country</th>\n",
       "      <th>City</th>\n",
       "      <th>State</th>\n",
       "      <th>Postal Code</th>\n",
       "      <th>Region</th>\n",
       "      <th>Product ID</th>\n",
       "      <th>Category</th>\n",
       "      <th>Sub-Category</th>\n",
       "      <th>Product Name</th>\n",
       "      <th>Sales</th>\n",
       "      <th>Ano</th>\n",
       "      <th>Mes</th>\n",
       "    </tr>\n",
       "  </thead>\n",
       "  <tbody>\n",
       "    <tr>\n",
       "      <th>0</th>\n",
       "      <td>1</td>\n",
       "      <td>CA-2017-152156</td>\n",
       "      <td>2017-08-11</td>\n",
       "      <td>2017-11-11</td>\n",
       "      <td>Second Class</td>\n",
       "      <td>CG-12520</td>\n",
       "      <td>Claire Gute</td>\n",
       "      <td>Consumer</td>\n",
       "      <td>United States</td>\n",
       "      <td>Henderson</td>\n",
       "      <td>Kentucky</td>\n",
       "      <td>42420.0</td>\n",
       "      <td>South</td>\n",
       "      <td>FUR-BO-10001798</td>\n",
       "      <td>Furniture</td>\n",
       "      <td>Bookcases</td>\n",
       "      <td>Bush Somerset Collection Bookcase</td>\n",
       "      <td>261.96</td>\n",
       "      <td>2017</td>\n",
       "      <td>8</td>\n",
       "    </tr>\n",
       "  </tbody>\n",
       "</table>\n",
       "</div>"
      ],
      "text/plain": [
       "   Row ID        Order ID Order Date  Ship Date     Ship Mode Customer ID  \\\n",
       "0       1  CA-2017-152156 2017-08-11 2017-11-11  Second Class    CG-12520   \n",
       "\n",
       "  Customer Name   Segment        Country       City     State  Postal Code  \\\n",
       "0   Claire Gute  Consumer  United States  Henderson  Kentucky      42420.0   \n",
       "\n",
       "  Region       Product ID   Category Sub-Category  \\\n",
       "0  South  FUR-BO-10001798  Furniture    Bookcases   \n",
       "\n",
       "                        Product Name   Sales   Ano  Mes  \n",
       "0  Bush Somerset Collection Bookcase  261.96  2017    8  "
      ]
     },
     "execution_count": 111,
     "metadata": {},
     "output_type": "execute_result"
    }
   ],
   "source": [
    "base.head(1)"
   ]
  },
  {
   "cell_type": "markdown",
   "metadata": {},
   "source": [
    "**Agora agrupando por ítem e ano**"
   ]
  },
  {
   "cell_type": "code",
   "execution_count": 112,
   "metadata": {},
   "outputs": [],
   "source": [
    "# Podemos fazer um groupby de item e ano\n",
    "\n",
    "itens_ano = base.groupby(['Product Name','Ano'])['Sales'].sum()\n",
    "itens_ano = itens_ano.reset_index()\n"
   ]
  },
  {
   "cell_type": "code",
   "execution_count": 123,
   "metadata": {},
   "outputs": [
    {
     "data": {
      "text/html": [
       "<div>\n",
       "<style scoped>\n",
       "    .dataframe tbody tr th:only-of-type {\n",
       "        vertical-align: middle;\n",
       "    }\n",
       "\n",
       "    .dataframe tbody tr th {\n",
       "        vertical-align: top;\n",
       "    }\n",
       "\n",
       "    .dataframe thead th {\n",
       "        text-align: right;\n",
       "    }\n",
       "</style>\n",
       "<table border=\"1\" class=\"dataframe\">\n",
       "  <thead>\n",
       "    <tr style=\"text-align: right;\">\n",
       "      <th></th>\n",
       "      <th>Product Name</th>\n",
       "      <th>Ano</th>\n",
       "      <th>Sales</th>\n",
       "    </tr>\n",
       "  </thead>\n",
       "  <tbody>\n",
       "    <tr>\n",
       "      <th>1163</th>\n",
       "      <td>Canon imageCLASS 2200 Advanced Copier</td>\n",
       "      <td>2017</td>\n",
       "      <td>25899.926</td>\n",
       "    </tr>\n",
       "    <tr>\n",
       "      <th>1164</th>\n",
       "      <td>Canon imageCLASS 2200 Advanced Copier</td>\n",
       "      <td>2018</td>\n",
       "      <td>35699.898</td>\n",
       "    </tr>\n",
       "  </tbody>\n",
       "</table>\n",
       "</div>"
      ],
      "text/plain": [
       "                               Product Name   Ano      Sales\n",
       "1163  Canon imageCLASS 2200 Advanced Copier  2017  25899.926\n",
       "1164  Canon imageCLASS 2200 Advanced Copier  2018  35699.898"
      ]
     },
     "execution_count": 123,
     "metadata": {},
     "output_type": "execute_result"
    }
   ],
   "source": [
    "# Para visualizar algum item dos top itens\n",
    "itens_ano[itens_ano['Product Name'] == top_n_itens.iloc[0,0]]"
   ]
  },
  {
   "cell_type": "markdown",
   "metadata": {},
   "source": [
    "**Como vamos criar esse gráfico? Como saber quais itens não aparecem em todos os anos?**"
   ]
  },
  {
   "cell_type": "markdown",
   "metadata": {},
   "source": [
    "### Juntando bases no pandas"
   ]
  },
  {
   "cell_type": "markdown",
   "metadata": {},
   "source": [
    "**O <font color='blue'>.merge()</font> irá juntar duas bases**\n",
    "- Para isso, devemos passar:\n",
    "    - base 1\n",
    "    - base 2\n",
    "    - how: forma que iremos fazer essa junção das bases\n",
    "        - inner: o que tiver em comum entre as 2 bases (base 1 E base 2)\n",
    "        - outer: tudo o que tiver nas 2 bases (base 1 OU base 2)\n",
    "        - left: tudo o que tem na PRIMEIRA base, juntando com o que tiver na segunda\n",
    "        - right: tudo o que tem na SEGUNDA base, juntando com o que tiver na primeira\n",
    "    - on: colunar que vamos usar para fazer a junção da base"
   ]
  },
  {
   "cell_type": "code",
   "execution_count": 124,
   "metadata": {},
   "outputs": [],
   "source": [
    "# Criando 2 dataframes\n",
    "dic1 = {\n",
    "    \"nomes\": ['Nome1','Nome2','Nome3'],\n",
    "    \"valores\": [1,2,3]\n",
    "}\n",
    "\n",
    "base_dic1 = pd.DataFrame(dic1)\n",
    "\n",
    "dic2 = {\n",
    "    \"nomes\": ['Nome1','Nome2','Nome4'],\n",
    "    \"valores\": [9,8,7]\n",
    "}\n",
    "\n",
    "base_dic2 = pd.DataFrame(dic2)"
   ]
  },
  {
   "cell_type": "code",
   "execution_count": 125,
   "metadata": {},
   "outputs": [
    {
     "data": {
      "text/html": [
       "<div>\n",
       "<style scoped>\n",
       "    .dataframe tbody tr th:only-of-type {\n",
       "        vertical-align: middle;\n",
       "    }\n",
       "\n",
       "    .dataframe tbody tr th {\n",
       "        vertical-align: top;\n",
       "    }\n",
       "\n",
       "    .dataframe thead th {\n",
       "        text-align: right;\n",
       "    }\n",
       "</style>\n",
       "<table border=\"1\" class=\"dataframe\">\n",
       "  <thead>\n",
       "    <tr style=\"text-align: right;\">\n",
       "      <th></th>\n",
       "      <th>nomes</th>\n",
       "      <th>valores_x</th>\n",
       "      <th>valores_y</th>\n",
       "    </tr>\n",
       "  </thead>\n",
       "  <tbody>\n",
       "    <tr>\n",
       "      <th>0</th>\n",
       "      <td>Nome1</td>\n",
       "      <td>1.0</td>\n",
       "      <td>9.0</td>\n",
       "    </tr>\n",
       "    <tr>\n",
       "      <th>1</th>\n",
       "      <td>Nome2</td>\n",
       "      <td>2.0</td>\n",
       "      <td>8.0</td>\n",
       "    </tr>\n",
       "    <tr>\n",
       "      <th>2</th>\n",
       "      <td>Nome3</td>\n",
       "      <td>3.0</td>\n",
       "      <td>NaN</td>\n",
       "    </tr>\n",
       "    <tr>\n",
       "      <th>3</th>\n",
       "      <td>Nome4</td>\n",
       "      <td>NaN</td>\n",
       "      <td>7.0</td>\n",
       "    </tr>\n",
       "  </tbody>\n",
       "</table>\n",
       "</div>"
      ],
      "text/plain": [
       "   nomes  valores_x  valores_y\n",
       "0  Nome1        1.0        9.0\n",
       "1  Nome2        2.0        8.0\n",
       "2  Nome3        3.0        NaN\n",
       "3  Nome4        NaN        7.0"
      ]
     },
     "metadata": {},
     "output_type": "display_data"
    }
   ],
   "source": [
    "base_merge = pd.merge(\n",
    "    base_dic1, # <- primeira base\n",
    "    base_dic2, # <- segunda base\n",
    "    how='outer', # <- tipo de junção que vamos fazer\n",
    "    on=\"nomes\" # <- coluna que vamos usar para fazer essa junção das bases\n",
    ") \n",
    "\n",
    "display(base_merge)"
   ]
  },
  {
   "cell_type": "code",
   "execution_count": 126,
   "metadata": {},
   "outputs": [
    {
     "data": {
      "text/html": [
       "<div>\n",
       "<style scoped>\n",
       "    .dataframe tbody tr th:only-of-type {\n",
       "        vertical-align: middle;\n",
       "    }\n",
       "\n",
       "    .dataframe tbody tr th {\n",
       "        vertical-align: top;\n",
       "    }\n",
       "\n",
       "    .dataframe thead th {\n",
       "        text-align: right;\n",
       "    }\n",
       "</style>\n",
       "<table border=\"1\" class=\"dataframe\">\n",
       "  <thead>\n",
       "    <tr style=\"text-align: right;\">\n",
       "      <th></th>\n",
       "      <th>Product Name</th>\n",
       "      <th>Sales</th>\n",
       "    </tr>\n",
       "  </thead>\n",
       "  <tbody>\n",
       "    <tr>\n",
       "      <th>404</th>\n",
       "      <td>Canon imageCLASS 2200 Advanced Copier</td>\n",
       "      <td>61599.824</td>\n",
       "    </tr>\n",
       "    <tr>\n",
       "      <th>649</th>\n",
       "      <td>Fellowes PB500 Electric Punch Plastic Comb Bin...</td>\n",
       "      <td>27453.384</td>\n",
       "    </tr>\n",
       "    <tr>\n",
       "      <th>444</th>\n",
       "      <td>Cisco TelePresence System EX90 Videoconferenci...</td>\n",
       "      <td>22638.480</td>\n",
       "    </tr>\n",
       "    <tr>\n",
       "      <th>785</th>\n",
       "      <td>HON 5400 Series Task Chairs for Big and Tall</td>\n",
       "      <td>21870.576</td>\n",
       "    </tr>\n",
       "    <tr>\n",
       "      <th>685</th>\n",
       "      <td>GBC DocuBind TL300 Electric Binding System</td>\n",
       "      <td>19823.479</td>\n",
       "    </tr>\n",
       "    <tr>\n",
       "      <th>687</th>\n",
       "      <td>GBC Ibimaster 500 Manual ProClick Binding System</td>\n",
       "      <td>19024.500</td>\n",
       "    </tr>\n",
       "    <tr>\n",
       "      <th>804</th>\n",
       "      <td>Hewlett Packard LaserJet 3310 Copier</td>\n",
       "      <td>18839.686</td>\n",
       "    </tr>\n",
       "    <tr>\n",
       "      <th>786</th>\n",
       "      <td>HP Designjet T520 Inkjet Large Format Printer ...</td>\n",
       "      <td>18374.895</td>\n",
       "    </tr>\n",
       "    <tr>\n",
       "      <th>682</th>\n",
       "      <td>GBC DocuBind P400 Electric Binding System</td>\n",
       "      <td>17965.068</td>\n",
       "    </tr>\n",
       "    <tr>\n",
       "      <th>812</th>\n",
       "      <td>High Speed Automatic Electric Letter Opener</td>\n",
       "      <td>17030.312</td>\n",
       "    </tr>\n",
       "  </tbody>\n",
       "</table>\n",
       "</div>"
      ],
      "text/plain": [
       "                                          Product Name      Sales\n",
       "404              Canon imageCLASS 2200 Advanced Copier  61599.824\n",
       "649  Fellowes PB500 Electric Punch Plastic Comb Bin...  27453.384\n",
       "444  Cisco TelePresence System EX90 Videoconferenci...  22638.480\n",
       "785       HON 5400 Series Task Chairs for Big and Tall  21870.576\n",
       "685         GBC DocuBind TL300 Electric Binding System  19823.479\n",
       "687   GBC Ibimaster 500 Manual ProClick Binding System  19024.500\n",
       "804               Hewlett Packard LaserJet 3310 Copier  18839.686\n",
       "786  HP Designjet T520 Inkjet Large Format Printer ...  18374.895\n",
       "682          GBC DocuBind P400 Electric Binding System  17965.068\n",
       "812        High Speed Automatic Electric Letter Opener  17030.312"
      ]
     },
     "execution_count": 126,
     "metadata": {},
     "output_type": "execute_result"
    }
   ],
   "source": [
    "# Temos a nossa base de top itens\n",
    "top_n_itens"
   ]
  },
  {
   "cell_type": "markdown",
   "metadata": {},
   "source": [
    "**Como podemos cruzar a base com todos os anos de 2015 a 2018?**\n",
    "- Basta transformar as datas em um DataFrame e usar o merge para fazer essa união"
   ]
  },
  {
   "cell_type": "code",
   "execution_count": 127,
   "metadata": {},
   "outputs": [
    {
     "data": {
      "text/html": [
       "<div>\n",
       "<style scoped>\n",
       "    .dataframe tbody tr th:only-of-type {\n",
       "        vertical-align: middle;\n",
       "    }\n",
       "\n",
       "    .dataframe tbody tr th {\n",
       "        vertical-align: top;\n",
       "    }\n",
       "\n",
       "    .dataframe thead th {\n",
       "        text-align: right;\n",
       "    }\n",
       "</style>\n",
       "<table border=\"1\" class=\"dataframe\">\n",
       "  <thead>\n",
       "    <tr style=\"text-align: right;\">\n",
       "      <th></th>\n",
       "      <th>Ano</th>\n",
       "    </tr>\n",
       "  </thead>\n",
       "  <tbody>\n",
       "    <tr>\n",
       "      <th>0</th>\n",
       "      <td>2018</td>\n",
       "    </tr>\n",
       "    <tr>\n",
       "      <th>1</th>\n",
       "      <td>2017</td>\n",
       "    </tr>\n",
       "    <tr>\n",
       "      <th>2</th>\n",
       "      <td>2016</td>\n",
       "    </tr>\n",
       "    <tr>\n",
       "      <th>3</th>\n",
       "      <td>2015</td>\n",
       "    </tr>\n",
       "  </tbody>\n",
       "</table>\n",
       "</div>"
      ],
      "text/plain": [
       "    Ano\n",
       "0  2018\n",
       "1  2017\n",
       "2  2016\n",
       "3  2015"
      ]
     },
     "execution_count": 127,
     "metadata": {},
     "output_type": "execute_result"
    }
   ],
   "source": [
    "df_datas = pd.DataFrame([2018,2017,2016,2015])\n",
    "df_datas.columns = ['Ano']\n",
    "df_datas"
   ]
  },
  {
   "cell_type": "markdown",
   "metadata": {},
   "source": [
    "**Só que pra conseguir unir as bases, precisamos ter uma coluna em comum entre elas**\n",
    "- Então podemos, nas duas bases, criar uma coluna chamada `uniao` (ou qualquer outro nome) com o mesmo valor"
   ]
  },
  {
   "cell_type": "code",
   "execution_count": 134,
   "metadata": {},
   "outputs": [],
   "source": [
    "n = 10\n",
    "\n",
    "top_n_itens = itens.head(n)\n"
   ]
  },
  {
   "cell_type": "code",
   "execution_count": 135,
   "metadata": {},
   "outputs": [],
   "source": [
    "df_datas['uniao'] = 'unir'\n",
    "itens['uniao'] = 'unir'"
   ]
  },
  {
   "cell_type": "code",
   "execution_count": 136,
   "metadata": {},
   "outputs": [
    {
     "data": {
      "text/html": [
       "<div>\n",
       "<style scoped>\n",
       "    .dataframe tbody tr th:only-of-type {\n",
       "        vertical-align: middle;\n",
       "    }\n",
       "\n",
       "    .dataframe tbody tr th {\n",
       "        vertical-align: top;\n",
       "    }\n",
       "\n",
       "    .dataframe thead th {\n",
       "        text-align: right;\n",
       "    }\n",
       "</style>\n",
       "<table border=\"1\" class=\"dataframe\">\n",
       "  <thead>\n",
       "    <tr style=\"text-align: right;\">\n",
       "      <th></th>\n",
       "      <th>Product Name</th>\n",
       "      <th>Sales</th>\n",
       "      <th>uniao</th>\n",
       "    </tr>\n",
       "  </thead>\n",
       "  <tbody>\n",
       "    <tr>\n",
       "      <th>404</th>\n",
       "      <td>Canon imageCLASS 2200 Advanced Copier</td>\n",
       "      <td>61599.824</td>\n",
       "      <td>unir</td>\n",
       "    </tr>\n",
       "    <tr>\n",
       "      <th>649</th>\n",
       "      <td>Fellowes PB500 Electric Punch Plastic Comb Bin...</td>\n",
       "      <td>27453.384</td>\n",
       "      <td>unir</td>\n",
       "    </tr>\n",
       "    <tr>\n",
       "      <th>444</th>\n",
       "      <td>Cisco TelePresence System EX90 Videoconferenci...</td>\n",
       "      <td>22638.480</td>\n",
       "      <td>unir</td>\n",
       "    </tr>\n",
       "    <tr>\n",
       "      <th>785</th>\n",
       "      <td>HON 5400 Series Task Chairs for Big and Tall</td>\n",
       "      <td>21870.576</td>\n",
       "      <td>unir</td>\n",
       "    </tr>\n",
       "    <tr>\n",
       "      <th>685</th>\n",
       "      <td>GBC DocuBind TL300 Electric Binding System</td>\n",
       "      <td>19823.479</td>\n",
       "      <td>unir</td>\n",
       "    </tr>\n",
       "    <tr>\n",
       "      <th>687</th>\n",
       "      <td>GBC Ibimaster 500 Manual ProClick Binding System</td>\n",
       "      <td>19024.500</td>\n",
       "      <td>unir</td>\n",
       "    </tr>\n",
       "    <tr>\n",
       "      <th>804</th>\n",
       "      <td>Hewlett Packard LaserJet 3310 Copier</td>\n",
       "      <td>18839.686</td>\n",
       "      <td>unir</td>\n",
       "    </tr>\n",
       "    <tr>\n",
       "      <th>786</th>\n",
       "      <td>HP Designjet T520 Inkjet Large Format Printer ...</td>\n",
       "      <td>18374.895</td>\n",
       "      <td>unir</td>\n",
       "    </tr>\n",
       "    <tr>\n",
       "      <th>682</th>\n",
       "      <td>GBC DocuBind P400 Electric Binding System</td>\n",
       "      <td>17965.068</td>\n",
       "      <td>unir</td>\n",
       "    </tr>\n",
       "    <tr>\n",
       "      <th>812</th>\n",
       "      <td>High Speed Automatic Electric Letter Opener</td>\n",
       "      <td>17030.312</td>\n",
       "      <td>unir</td>\n",
       "    </tr>\n",
       "  </tbody>\n",
       "</table>\n",
       "</div>"
      ],
      "text/plain": [
       "                                          Product Name      Sales uniao\n",
       "404              Canon imageCLASS 2200 Advanced Copier  61599.824  unir\n",
       "649  Fellowes PB500 Electric Punch Plastic Comb Bin...  27453.384  unir\n",
       "444  Cisco TelePresence System EX90 Videoconferenci...  22638.480  unir\n",
       "785       HON 5400 Series Task Chairs for Big and Tall  21870.576  unir\n",
       "685         GBC DocuBind TL300 Electric Binding System  19823.479  unir\n",
       "687   GBC Ibimaster 500 Manual ProClick Binding System  19024.500  unir\n",
       "804               Hewlett Packard LaserJet 3310 Copier  18839.686  unir\n",
       "786  HP Designjet T520 Inkjet Large Format Printer ...  18374.895  unir\n",
       "682          GBC DocuBind P400 Electric Binding System  17965.068  unir\n",
       "812        High Speed Automatic Electric Letter Opener  17030.312  unir"
      ]
     },
     "execution_count": 136,
     "metadata": {},
     "output_type": "execute_result"
    }
   ],
   "source": [
    "top_n_itens"
   ]
  },
  {
   "cell_type": "markdown",
   "metadata": {},
   "source": [
    "**Agora que temos uma coluna que conseguimos relacionar, podemos fazer o merge das bases**"
   ]
  },
  {
   "cell_type": "code",
   "execution_count": 138,
   "metadata": {},
   "outputs": [
    {
     "data": {
      "text/html": [
       "<div>\n",
       "<style scoped>\n",
       "    .dataframe tbody tr th:only-of-type {\n",
       "        vertical-align: middle;\n",
       "    }\n",
       "\n",
       "    .dataframe tbody tr th {\n",
       "        vertical-align: top;\n",
       "    }\n",
       "\n",
       "    .dataframe thead th {\n",
       "        text-align: right;\n",
       "    }\n",
       "</style>\n",
       "<table border=\"1\" class=\"dataframe\">\n",
       "  <thead>\n",
       "    <tr style=\"text-align: right;\">\n",
       "      <th></th>\n",
       "      <th>Product Name</th>\n",
       "      <th>Sales</th>\n",
       "      <th>uniao</th>\n",
       "      <th>Ano</th>\n",
       "    </tr>\n",
       "  </thead>\n",
       "  <tbody>\n",
       "    <tr>\n",
       "      <th>0</th>\n",
       "      <td>Canon imageCLASS 2200 Advanced Copier</td>\n",
       "      <td>61599.824</td>\n",
       "      <td>unir</td>\n",
       "      <td>2018</td>\n",
       "    </tr>\n",
       "    <tr>\n",
       "      <th>1</th>\n",
       "      <td>Canon imageCLASS 2200 Advanced Copier</td>\n",
       "      <td>61599.824</td>\n",
       "      <td>unir</td>\n",
       "      <td>2017</td>\n",
       "    </tr>\n",
       "    <tr>\n",
       "      <th>2</th>\n",
       "      <td>Canon imageCLASS 2200 Advanced Copier</td>\n",
       "      <td>61599.824</td>\n",
       "      <td>unir</td>\n",
       "      <td>2016</td>\n",
       "    </tr>\n",
       "    <tr>\n",
       "      <th>3</th>\n",
       "      <td>Canon imageCLASS 2200 Advanced Copier</td>\n",
       "      <td>61599.824</td>\n",
       "      <td>unir</td>\n",
       "      <td>2015</td>\n",
       "    </tr>\n",
       "    <tr>\n",
       "      <th>4</th>\n",
       "      <td>Fellowes PB500 Electric Punch Plastic Comb Bin...</td>\n",
       "      <td>27453.384</td>\n",
       "      <td>unir</td>\n",
       "      <td>2018</td>\n",
       "    </tr>\n",
       "    <tr>\n",
       "      <th>5</th>\n",
       "      <td>Fellowes PB500 Electric Punch Plastic Comb Bin...</td>\n",
       "      <td>27453.384</td>\n",
       "      <td>unir</td>\n",
       "      <td>2017</td>\n",
       "    </tr>\n",
       "    <tr>\n",
       "      <th>6</th>\n",
       "      <td>Fellowes PB500 Electric Punch Plastic Comb Bin...</td>\n",
       "      <td>27453.384</td>\n",
       "      <td>unir</td>\n",
       "      <td>2016</td>\n",
       "    </tr>\n",
       "    <tr>\n",
       "      <th>7</th>\n",
       "      <td>Fellowes PB500 Electric Punch Plastic Comb Bin...</td>\n",
       "      <td>27453.384</td>\n",
       "      <td>unir</td>\n",
       "      <td>2015</td>\n",
       "    </tr>\n",
       "    <tr>\n",
       "      <th>8</th>\n",
       "      <td>Cisco TelePresence System EX90 Videoconferenci...</td>\n",
       "      <td>22638.480</td>\n",
       "      <td>unir</td>\n",
       "      <td>2018</td>\n",
       "    </tr>\n",
       "    <tr>\n",
       "      <th>9</th>\n",
       "      <td>Cisco TelePresence System EX90 Videoconferenci...</td>\n",
       "      <td>22638.480</td>\n",
       "      <td>unir</td>\n",
       "      <td>2017</td>\n",
       "    </tr>\n",
       "    <tr>\n",
       "      <th>10</th>\n",
       "      <td>Cisco TelePresence System EX90 Videoconferenci...</td>\n",
       "      <td>22638.480</td>\n",
       "      <td>unir</td>\n",
       "      <td>2016</td>\n",
       "    </tr>\n",
       "    <tr>\n",
       "      <th>11</th>\n",
       "      <td>Cisco TelePresence System EX90 Videoconferenci...</td>\n",
       "      <td>22638.480</td>\n",
       "      <td>unir</td>\n",
       "      <td>2015</td>\n",
       "    </tr>\n",
       "    <tr>\n",
       "      <th>12</th>\n",
       "      <td>HON 5400 Series Task Chairs for Big and Tall</td>\n",
       "      <td>21870.576</td>\n",
       "      <td>unir</td>\n",
       "      <td>2018</td>\n",
       "    </tr>\n",
       "    <tr>\n",
       "      <th>13</th>\n",
       "      <td>HON 5400 Series Task Chairs for Big and Tall</td>\n",
       "      <td>21870.576</td>\n",
       "      <td>unir</td>\n",
       "      <td>2017</td>\n",
       "    </tr>\n",
       "    <tr>\n",
       "      <th>14</th>\n",
       "      <td>HON 5400 Series Task Chairs for Big and Tall</td>\n",
       "      <td>21870.576</td>\n",
       "      <td>unir</td>\n",
       "      <td>2016</td>\n",
       "    </tr>\n",
       "  </tbody>\n",
       "</table>\n",
       "</div>"
      ],
      "text/plain": [
       "                                         Product Name      Sales uniao   Ano\n",
       "0               Canon imageCLASS 2200 Advanced Copier  61599.824  unir  2018\n",
       "1               Canon imageCLASS 2200 Advanced Copier  61599.824  unir  2017\n",
       "2               Canon imageCLASS 2200 Advanced Copier  61599.824  unir  2016\n",
       "3               Canon imageCLASS 2200 Advanced Copier  61599.824  unir  2015\n",
       "4   Fellowes PB500 Electric Punch Plastic Comb Bin...  27453.384  unir  2018\n",
       "5   Fellowes PB500 Electric Punch Plastic Comb Bin...  27453.384  unir  2017\n",
       "6   Fellowes PB500 Electric Punch Plastic Comb Bin...  27453.384  unir  2016\n",
       "7   Fellowes PB500 Electric Punch Plastic Comb Bin...  27453.384  unir  2015\n",
       "8   Cisco TelePresence System EX90 Videoconferenci...  22638.480  unir  2018\n",
       "9   Cisco TelePresence System EX90 Videoconferenci...  22638.480  unir  2017\n",
       "10  Cisco TelePresence System EX90 Videoconferenci...  22638.480  unir  2016\n",
       "11  Cisco TelePresence System EX90 Videoconferenci...  22638.480  unir  2015\n",
       "12       HON 5400 Series Task Chairs for Big and Tall  21870.576  unir  2018\n",
       "13       HON 5400 Series Task Chairs for Big and Tall  21870.576  unir  2017\n",
       "14       HON 5400 Series Task Chairs for Big and Tall  21870.576  unir  2016"
      ]
     },
     "execution_count": 138,
     "metadata": {},
     "output_type": "execute_result"
    }
   ],
   "source": [
    "produto_ano = pd.merge(\n",
    "    top_n_itens, # <- primeira base\n",
    "    df_datas, # <- segunda base\n",
    "    how='outer', # <- tipo de junção que vamos fazer\n",
    "    on=\"uniao\" # <- coluna que vamos usar para fazer essa junção das bases\n",
    ") \n",
    "\n",
    "produto_ano.head(15)"
   ]
  },
  {
   "cell_type": "markdown",
   "metadata": {},
   "source": [
    "#### Agora podemos voltar para a base itens_ano e fazer a junção com essa base acima"
   ]
  },
  {
   "cell_type": "code",
   "execution_count": 139,
   "metadata": {},
   "outputs": [
    {
     "data": {
      "text/html": [
       "<div>\n",
       "<style scoped>\n",
       "    .dataframe tbody tr th:only-of-type {\n",
       "        vertical-align: middle;\n",
       "    }\n",
       "\n",
       "    .dataframe tbody tr th {\n",
       "        vertical-align: top;\n",
       "    }\n",
       "\n",
       "    .dataframe thead th {\n",
       "        text-align: right;\n",
       "    }\n",
       "</style>\n",
       "<table border=\"1\" class=\"dataframe\">\n",
       "  <thead>\n",
       "    <tr style=\"text-align: right;\">\n",
       "      <th></th>\n",
       "      <th>Product Name</th>\n",
       "      <th>Ano</th>\n",
       "      <th>Sales</th>\n",
       "    </tr>\n",
       "  </thead>\n",
       "  <tbody>\n",
       "    <tr>\n",
       "      <th>0</th>\n",
       "      <td>\"While you Were Out\" Message Book, One Form pe...</td>\n",
       "      <td>2018</td>\n",
       "      <td>25.228</td>\n",
       "    </tr>\n",
       "    <tr>\n",
       "      <th>1</th>\n",
       "      <td>#10 Gummed Flap White Envelopes, 100/Box</td>\n",
       "      <td>2016</td>\n",
       "      <td>6.608</td>\n",
       "    </tr>\n",
       "    <tr>\n",
       "      <th>2</th>\n",
       "      <td>#10 Gummed Flap White Envelopes, 100/Box</td>\n",
       "      <td>2017</td>\n",
       "      <td>24.780</td>\n",
       "    </tr>\n",
       "    <tr>\n",
       "      <th>3</th>\n",
       "      <td>#10 Gummed Flap White Envelopes, 100/Box</td>\n",
       "      <td>2018</td>\n",
       "      <td>9.912</td>\n",
       "    </tr>\n",
       "    <tr>\n",
       "      <th>4</th>\n",
       "      <td>#10 Self-Seal White Envelopes</td>\n",
       "      <td>2017</td>\n",
       "      <td>86.502</td>\n",
       "    </tr>\n",
       "    <tr>\n",
       "      <th>...</th>\n",
       "      <td>...</td>\n",
       "      <td>...</td>\n",
       "      <td>...</td>\n",
       "    </tr>\n",
       "    <tr>\n",
       "      <th>5269</th>\n",
       "      <td>invisibleSHIELD by ZAGG Smudge-Free Screen Pro...</td>\n",
       "      <td>2018</td>\n",
       "      <td>205.086</td>\n",
       "    </tr>\n",
       "    <tr>\n",
       "      <th>5270</th>\n",
       "      <td>netTALK DUO VoIP Telephone Service</td>\n",
       "      <td>2015</td>\n",
       "      <td>335.936</td>\n",
       "    </tr>\n",
       "    <tr>\n",
       "      <th>5271</th>\n",
       "      <td>netTALK DUO VoIP Telephone Service</td>\n",
       "      <td>2016</td>\n",
       "      <td>230.956</td>\n",
       "    </tr>\n",
       "    <tr>\n",
       "      <th>5272</th>\n",
       "      <td>netTALK DUO VoIP Telephone Service</td>\n",
       "      <td>2017</td>\n",
       "      <td>377.928</td>\n",
       "    </tr>\n",
       "    <tr>\n",
       "      <th>5273</th>\n",
       "      <td>netTALK DUO VoIP Telephone Service</td>\n",
       "      <td>2018</td>\n",
       "      <td>167.968</td>\n",
       "    </tr>\n",
       "  </tbody>\n",
       "</table>\n",
       "<p>5274 rows × 3 columns</p>\n",
       "</div>"
      ],
      "text/plain": [
       "                                           Product Name   Ano    Sales\n",
       "0     \"While you Were Out\" Message Book, One Form pe...  2018   25.228\n",
       "1              #10 Gummed Flap White Envelopes, 100/Box  2016    6.608\n",
       "2              #10 Gummed Flap White Envelopes, 100/Box  2017   24.780\n",
       "3              #10 Gummed Flap White Envelopes, 100/Box  2018    9.912\n",
       "4                         #10 Self-Seal White Envelopes  2017   86.502\n",
       "...                                                 ...   ...      ...\n",
       "5269  invisibleSHIELD by ZAGG Smudge-Free Screen Pro...  2018  205.086\n",
       "5270                 netTALK DUO VoIP Telephone Service  2015  335.936\n",
       "5271                 netTALK DUO VoIP Telephone Service  2016  230.956\n",
       "5272                 netTALK DUO VoIP Telephone Service  2017  377.928\n",
       "5273                 netTALK DUO VoIP Telephone Service  2018  167.968\n",
       "\n",
       "[5274 rows x 3 columns]"
      ]
     },
     "metadata": {},
     "output_type": "display_data"
    }
   ],
   "source": [
    "display(itens_ano)"
   ]
  },
  {
   "cell_type": "code",
   "execution_count": 140,
   "metadata": {},
   "outputs": [
    {
     "data": {
      "text/html": [
       "<div>\n",
       "<style scoped>\n",
       "    .dataframe tbody tr th:only-of-type {\n",
       "        vertical-align: middle;\n",
       "    }\n",
       "\n",
       "    .dataframe tbody tr th {\n",
       "        vertical-align: top;\n",
       "    }\n",
       "\n",
       "    .dataframe thead th {\n",
       "        text-align: right;\n",
       "    }\n",
       "</style>\n",
       "<table border=\"1\" class=\"dataframe\">\n",
       "  <thead>\n",
       "    <tr style=\"text-align: right;\">\n",
       "      <th></th>\n",
       "      <th>Product Name</th>\n",
       "      <th>Sales_x</th>\n",
       "      <th>uniao</th>\n",
       "      <th>Ano</th>\n",
       "      <th>Sales_y</th>\n",
       "    </tr>\n",
       "  </thead>\n",
       "  <tbody>\n",
       "    <tr>\n",
       "      <th>0</th>\n",
       "      <td>Canon imageCLASS 2200 Advanced Copier</td>\n",
       "      <td>61599.824</td>\n",
       "      <td>unir</td>\n",
       "      <td>2018</td>\n",
       "      <td>35699.898</td>\n",
       "    </tr>\n",
       "    <tr>\n",
       "      <th>1</th>\n",
       "      <td>Canon imageCLASS 2200 Advanced Copier</td>\n",
       "      <td>61599.824</td>\n",
       "      <td>unir</td>\n",
       "      <td>2017</td>\n",
       "      <td>25899.926</td>\n",
       "    </tr>\n",
       "    <tr>\n",
       "      <th>2</th>\n",
       "      <td>Canon imageCLASS 2200 Advanced Copier</td>\n",
       "      <td>61599.824</td>\n",
       "      <td>unir</td>\n",
       "      <td>2016</td>\n",
       "      <td>NaN</td>\n",
       "    </tr>\n",
       "    <tr>\n",
       "      <th>3</th>\n",
       "      <td>Canon imageCLASS 2200 Advanced Copier</td>\n",
       "      <td>61599.824</td>\n",
       "      <td>unir</td>\n",
       "      <td>2015</td>\n",
       "      <td>NaN</td>\n",
       "    </tr>\n",
       "    <tr>\n",
       "      <th>4</th>\n",
       "      <td>Fellowes PB500 Electric Punch Plastic Comb Bin...</td>\n",
       "      <td>27453.384</td>\n",
       "      <td>unir</td>\n",
       "      <td>2018</td>\n",
       "      <td>7371.742</td>\n",
       "    </tr>\n",
       "  </tbody>\n",
       "</table>\n",
       "</div>"
      ],
      "text/plain": [
       "                                        Product Name    Sales_x uniao   Ano  \\\n",
       "0              Canon imageCLASS 2200 Advanced Copier  61599.824  unir  2018   \n",
       "1              Canon imageCLASS 2200 Advanced Copier  61599.824  unir  2017   \n",
       "2              Canon imageCLASS 2200 Advanced Copier  61599.824  unir  2016   \n",
       "3              Canon imageCLASS 2200 Advanced Copier  61599.824  unir  2015   \n",
       "4  Fellowes PB500 Electric Punch Plastic Comb Bin...  27453.384  unir  2018   \n",
       "\n",
       "     Sales_y  \n",
       "0  35699.898  \n",
       "1  25899.926  \n",
       "2        NaN  \n",
       "3        NaN  \n",
       "4   7371.742  "
      ]
     },
     "execution_count": 140,
     "metadata": {},
     "output_type": "execute_result"
    }
   ],
   "source": [
    "itens_ano_grafico = pd.merge(\n",
    "    produto_ano,\n",
    "    itens_ano,\n",
    "    how='left',\n",
    "    on=['Product Name','Ano']\n",
    ")\n",
    "        \n",
    "itens_ano_grafico.head()"
   ]
  },
  {
   "cell_type": "markdown",
   "metadata": {},
   "source": [
    "**Agora podemos usar esses dados para traçar o gráfico**"
   ]
  },
  {
   "cell_type": "code",
   "execution_count": 144,
   "metadata": {},
   "outputs": [
    {
     "data": {
      "text/plain": [
       "array([35699.898,  7371.742,       nan,  7220.094, 10943.278,   760.98 ,\n",
       "        9239.846,       nan,  7077.148,       nan])"
      ]
     },
     "execution_count": 144,
     "metadata": {},
     "output_type": "execute_result"
    }
   ],
   "source": [
    "itens_ano_grafico[itens_ano_grafico.Ano == 2018]['Sales_y'].values"
   ]
  },
  {
   "cell_type": "code",
   "execution_count": 146,
   "metadata": {},
   "outputs": [
    {
     "data": {
      "image/png": "[encoded data removed]",
      "text/plain": [
       "<Figure size 1152x864 with 1 Axes>"
      ]
     },
     "metadata": {
      "needs_background": "light"
     },
     "output_type": "display_data"
    }
   ],
   "source": [
    "# Vamos criar o gráfico baseado nesse DataFrame que acabamos de criar\n",
    "fig,ax = plt.subplots(\n",
    "            figsize = (16,12)\n",
    "        )\n",
    "\n",
    "hgt = 0.2\n",
    "\n",
    "qtd_itens = len(top_n_itens)\n",
    "\n",
    "ax.barh(itens_ano_grafico[itens_ano_grafico.Ano == 2018]['Product Name'].values, #Valores de y\n",
    "        itens_ano_grafico[itens_ano_grafico.Ano == 2018]['Sales_y'].values, # Valores de x \n",
    "        align='center'\n",
    "       )\n",
    "\n",
    "ax.invert_yaxis()\n",
    "\n",
    "\n",
    "plt.show()"
   ]
  },
  {
   "cell_type": "markdown",
   "metadata": {},
   "source": [
    "**Como resultado final, teremos o gráfico abaixo**"
   ]
  },
  {
   "cell_type": "code",
   "execution_count": 159,
   "metadata": {},
   "outputs": [
    {
     "data": {
      "image/png": "[encoded data removed]",
      "text/plain": [
       "<Figure size 1152x864 with 1 Axes>"
      ]
     },
     "metadata": {
      "needs_background": "light"
     },
     "output_type": "display_data"
    }
   ],
   "source": [
    "# Vamos criar o gráfico baseado nesse DataFrame que acabamos de criar\n",
    "fig,ax = plt.subplots(\n",
    "            figsize = (16,12)\n",
    "        )\n",
    "\n",
    "hgt = 0.2\n",
    "\n",
    "qtd_itens = len(top_n_itens)\n",
    "\n",
    "ax.barh(np.arange(0,qtd_itens)-hgt-hgt/2, #Valores de y\n",
    "        itens_ano_grafico[itens_ano_grafico.Ano == 2018].Sales_y.values, # Valores de x \n",
    "        align='center',\n",
    "        height=hgt, # Comprimento do gráfico\n",
    "        label=2018,\n",
    "        color=\"#0069c0\"\n",
    "       )\n",
    "ax.barh(np.arange(0,qtd_itens)-hgt/2, #Valores de y\n",
    "        itens_ano_grafico[itens_ano_grafico.Ano == 2017].Sales_y.values, # Valores de x \n",
    "        align='center',height=hgt,label=2017,color=\"#008ac5\")\n",
    "ax.barh(np.arange(0,qtd_itens)+hgt/2, #Valores de y\n",
    "        itens_ano_grafico[itens_ano_grafico.Ano == 2016].Sales_y.values, # Valores de x \n",
    "        align='center',height=hgt,label=2016,color=\"#00a9b5\")\n",
    "ax.barh(np.arange(0,qtd_itens)+hgt+hgt/2, #Valores de y\n",
    "        itens_ano_grafico[itens_ano_grafico.Ano == 2015].Sales_y.values, # Valores de x \n",
    "        align='center',height=hgt,label=2015,color=\"#00c698\")\n",
    "\n",
    "ax.invert_yaxis() # Inverter o eixo y (deixando o gráfico do maior para o menor)\n",
    "ax.legend()\n",
    "\n",
    "for i in np.arange(0,qtd_itens):\n",
    "    ax.annotate('{:,.1f}k'.format(itens_ano_grafico[itens_ano_grafico.Ano == 2018].Sales_y.values[i]/1000), \n",
    "                (itens_ano_grafico[itens_ano_grafico.Ano == 2018].Sales_y.values[i],i-hgt-hgt/2), \n",
    "                ha=\"center\", va=\"top\", xytext=(20,6), textcoords=\"offset points\", \n",
    "                fontsize=12, fontweight='bold', color=\"#0069c0\")\n",
    "    \n",
    "ax.yaxis.set_ticks(np.arange(0,qtd_itens)) # Ajustando os valores de x\n",
    "ax.set_yticklabels(top_n_itens[\"Product Name\"]) # Colocando rótulo no meu eixo\n",
    "ax.tick_params(axis='y',labelsize=10) # Melhorando o visual do eixo x\n",
    "\n",
    "ax.xaxis.set_visible(False) \n",
    "\n",
    "ax.spines['top'].set_visible(False) \n",
    "ax.spines['right'].set_visible(False)\n",
    "ax.spines['bottom'].set_visible(False)\n",
    "\n",
    "plt.show()"
   ]
  },
  {
   "cell_type": "markdown",
   "metadata": {},
   "source": [
    "# Resumindo as perguntas do 'NEGÓCIO'"
   ]
  },
  {
   "cell_type": "code",
   "execution_count": 202,
   "metadata": {},
   "outputs": [
    {
     "data": {
      "image/png": "[encoded data removed]",
      "text/plain": [
       "<Figure size 648x288 with 1 Axes>"
      ]
     },
     "metadata": {
      "needs_background": "light"
     },
     "output_type": "display_data"
    }
   ],
   "source": [
    "fig,ax = plt.subplots(\n",
    "            figsize = (9,4) # Tamanho da figura\n",
    "        )\n",
    "\n",
    "soma_ano = base.groupby(\"Ano\")[\"Sales\"].sum() # Valores que vamos usar para criar o nosso gráfico\n",
    "\n",
    "ax.bar(soma_ano.index,soma_ano.values,\n",
    "       color=\"#84ba5b\" # Cor das barras\n",
    "      )\n",
    "\n",
    "ax.set_title(\"VENDAS POR ANO\", # Título do gráfico\n",
    "             fontsize=20, # Tamanho da fonte\n",
    "             fontweight='bold', # Espessura da fonte\n",
    "             color='black' # Cor da fonte\n",
    "            )\n",
    "\n",
    "ax.xaxis.set_ticks([2015,2016,2017,2018]) # Ajustando os valores de x\n",
    "ax.tick_params(axis='x',labelsize=14) # Melhorando o visual do eixo x\n",
    "\n",
    "# O Annotate é quem vai permitir que a gente coloque rótulo nos dados\n",
    "for i in np.arange(0,4):\n",
    "    ax.annotate('{:,.0f}'.format(soma_ano.values[i]).replace(',', '.'), # Valores que vão ser mostrados como rótulos, já formatados\n",
    "                (soma_ano.index[i],soma_ano.values[i]), # Posição (x,y que esses valores vão estar)\n",
    "                ha=\"center\",  # Alinhamento horizontal do texto\n",
    "                va=\"top\", # Alinhamento vertical do texto\n",
    "                xytext=(0,+15), # Deslocamento em relação ao ponto que o texto estaria\n",
    "                textcoords=\"offset points\",  # Sistema de coordenadas que o xytext vai ter como referência (nesse caso será em pontos, não em pixels)\n",
    "                fontsize=14, # Tamanho da fonte dos rótulos\n",
    "                fontweight='bold', # Espessura da fonte dos rótulos\n",
    "                color=\"green\" # Cor dos rótulos\n",
    "            )\n",
    "    \n",
    "ax.set_yticks(np.array([0,790000])) # Diminuindo o tamanho das barras para não cortar o rótulo\n",
    "ax.yaxis.set_visible(False) # Retirando os valores do eixo y\n",
    "\n",
    "ax.spines['top'].set_visible(False) # Retirando os traços do gráfico\n",
    "ax.spines['left'].set_visible(False)\n",
    "ax.spines['right'].set_visible(False)\n",
    "\n",
    "plt.savefig('vendasAno',transparent=True)"
   ]
  },
  {
   "cell_type": "code",
   "execution_count": 201,
   "metadata": {},
   "outputs": [
    {
     "data": {
      "image/png": "[encoded data removed]",
      "text/plain": [
       "<Figure size 1152x288 with 1 Axes>"
      ]
     },
     "metadata": {
      "needs_background": "light"
     },
     "output_type": "display_data"
    }
   ],
   "source": [
    "fig,ax = plt.subplots(\n",
    "            figsize = (16,4) # Tamanho da figura\n",
    "        )\n",
    "ax.set_title(\"VENDAS POR MÊS\", # Título do gráfico\n",
    "             fontsize=20, # Tamanho da fonte\n",
    "             fontweight='bold', # Espessura da fonte\n",
    "             color='black' # Cor da fonte\n",
    "            )\n",
    "\n",
    "ax.bar(soma_mes[soma_mes.Ano == 2015].Mes.values-wid-wid/2, # Ajuste da posição das barras\n",
    "       soma_mes[soma_mes.Ano == 2015].Sales.values,\n",
    "       color=\"#00c698\", # Cor das barras\n",
    "       label=2015, # Label dos dados\n",
    "       width=wid # Largura das barras\n",
    "      )\n",
    "ax.bar(soma_mes[soma_mes.Ano == 2016].Mes.values-wid/2, # Ajuste da posição das barras\n",
    "       soma_mes[soma_mes.Ano == 2016].Sales.values,\n",
    "       color=\"aqua\", \n",
    "       label=2016,\n",
    "       width=wid \n",
    "      )\n",
    "\n",
    "# Adicionando o restante das barras\n",
    "ax.bar(soma_mes[soma_mes.Ano == 2017].Mes.values+wid/2, # Ajuste da posição das barras\n",
    "       soma_mes[soma_mes.Ano == 2017].Sales.values,\n",
    "       color=\"c\", \n",
    "       label=2017,\n",
    "       width=wid \n",
    "      )\n",
    "ax.bar(soma_mes[soma_mes.Ano == 2018].Mes.values+wid+wid/2, # Ajuste da posição das barras\n",
    "       soma_mes[soma_mes.Ano == 2018].Sales.values,\n",
    "       color=\"#0069c0\", \n",
    "       label=2018,\n",
    "       width=wid \n",
    "      )\n",
    "ax.legend()\n",
    "\n",
    "# Adicionando o rótulo dos dados para 2018\n",
    "for i in np.arange(0,12):\n",
    "    ax.annotate('{:,.0f}k'.format(soma_mes[soma_mes.Ano == 2018].Sales.values[i]/1000), # Valores que vão ser mostrados como rótulos, já formatados\n",
    "                (soma_mes[soma_mes.Ano == 2018].Mes.values[i]+wid+wid/2,soma_mes[soma_mes.Ano == 2018].Sales.values[i]), # Posição (x,y que esses valores vão estar)\n",
    "                ha=\"center\",  # Alinhamento horizontal do texto\n",
    "                va=\"top\", # Alinhamento vertical do texto\n",
    "                xytext=(5,12), # Deslocamento em relação ao ponto que o texto estaria\n",
    "                textcoords=\"offset points\",  # Sistema de coordenadas que o xytext vai ter como referência (nesse caso será em pontos, não em pixels)\n",
    "                fontsize=10, # Tamanho da fonte dos rótulos\n",
    "                fontweight='bold', # Espessura da fonte dos rótulos\n",
    "                color=\"#0069c0\" # Cor dos rótulos\n",
    "            )\n",
    "    \n",
    "ax.yaxis.set_visible(False) # Retirando os valores do eixo y\n",
    "\n",
    "ax.spines['top'].set_visible(False) # Retirando os traços do gráfico\n",
    "ax.spines['left'].set_visible(False)\n",
    "ax.spines['right'].set_visible(False)\n",
    "\n",
    "ax.xaxis.set_ticks(np.arange(1,13)) # Ajustando os valores de x\n",
    "ax.set_xticklabels(['Jan','Fev','Mar','Abr','Mai','Jun','Jul','Ago','Set','Out','Nov','Dez'], color='black') # colocando rotulos no eixo X\n",
    "ax.tick_params(axis='x',labelsize=15) # Melhorando o visual do eixo x\n",
    "    \n",
    "plt.savefig('VendasMes',transparent=True)"
   ]
  },
  {
   "cell_type": "code",
   "execution_count": 200,
   "metadata": {},
   "outputs": [
    {
     "data": {
      "image/png": "[encoded data removed]",
      "text/plain": [
       "<Figure size 1152x288 with 1 Axes>"
      ]
     },
     "metadata": {
      "needs_background": "light"
     },
     "output_type": "display_data"
    }
   ],
   "source": [
    "fig,ax = plt.subplots(\n",
    "            figsize = (16,4)\n",
    "        )\n",
    "\n",
    "ax.set_title(\"VENDAS POR CATEGORIA\", # Título do gráfico\n",
    "             fontsize=20, # Tamanho da fonte\n",
    "             fontweight='bold', # Espessura da fonte\n",
    "             color='black' # Cor da fonte\n",
    "            )\n",
    "\n",
    "wid = 0.2 \n",
    "\n",
    "ax.bar(categoria[categoria.Category == 'Furniture'].Ano.values-wid, # Como temos 3 colunas, vamos deslocar a largura da coluna inteira\n",
    "       categoria[categoria.Category == 'Furniture'].Sales.values,\n",
    "       color=\"#00c698\", \n",
    "       label='Furniture', # As legendas agora serão as categorias\n",
    "       width=wid\n",
    "      )\n",
    "\n",
    "ax.bar(categoria[categoria.Category == 'Office Supplies'].Ano.values, \n",
    "       categoria[categoria.Category == 'Office Supplies'].Sales.values,\n",
    "       color=\"#00a9b5\", \n",
    "       label='Office Supplies', \n",
    "       width=wid\n",
    "      )\n",
    "\n",
    "ax.bar(categoria[categoria.Category == 'Technology'].Ano.values+wid, \n",
    "       categoria[categoria.Category == 'Technology'].Sales.values,\n",
    "       color=\"#008ac5\", \n",
    "       label='Technology', \n",
    "       width=wid\n",
    "      )\n",
    "\n",
    "ax.legend()\n",
    "\n",
    "for i in np.arange(0,4):\n",
    "    ax.annotate('{:,.0f}k'.format(categoria[categoria.Category == 'Furniture'].Sales.values[i]/1000), \n",
    "                (categoria[categoria.Category == 'Furniture'].Ano.values[i]-wid,categoria[categoria.Category == 'Furniture'].Sales.values[i]), \n",
    "                ha=\"center\", va=\"top\", xytext=(0,15), textcoords=\"offset points\", \n",
    "                fontsize=12, fontweight='bold', color=\"#00c698\")\n",
    "    ax.annotate('{:,.0f}k'.format(categoria[categoria.Category == 'Office Supplies'].Sales.values[i]/1000), \n",
    "                (categoria[categoria.Category == 'Office Supplies'].Ano.values[i],categoria[categoria.Category == 'Office Supplies'].Sales.values[i]), \n",
    "                ha=\"center\", va=\"top\", xytext=(0,15), textcoords=\"offset points\", \n",
    "                fontsize=12, fontweight='bold', color=\"#00a9b5\")\n",
    "    ax.annotate('{:,.0f}k'.format(categoria[categoria.Category == 'Technology'].Sales.values[i]/1000), \n",
    "                (categoria[categoria.Category == 'Technology'].Ano.values[i]+wid,categoria[categoria.Category == 'Technology'].Sales.values[i]), \n",
    "                ha=\"center\", va=\"top\", xytext=(0,15), textcoords=\"offset points\", \n",
    "                fontsize=12, fontweight='bold', color=\"#008ac5\")   \n",
    "    \n",
    "ax.set_yticks(np.array([0,350000]))\n",
    "ax.yaxis.set_visible(False) \n",
    "\n",
    "ax.spines['top'].set_visible(False) \n",
    "ax.spines['left'].set_visible(False)\n",
    "ax.spines['right'].set_visible(False)\n",
    "\n",
    "ax.xaxis.set_ticks(np.arange(2015,2019)) \n",
    "ax.tick_params(axis='x',labelsize=12) \n",
    "\n",
    "plt.show()"
   ]
  },
  {
   "cell_type": "code",
   "execution_count": 199,
   "metadata": {},
   "outputs": [
    {
     "data": {
      "image/png": "[encoded data removed]",
      "text/plain": [
       "<Figure size 720x720 with 1 Axes>"
      ]
     },
     "metadata": {
      "needs_background": "light"
     },
     "output_type": "display_data"
    }
   ],
   "source": [
    "ax.set_title(\"TOP ITENS\", # Título do gráfico\n",
    "             fontsize=20, # Tamanho da fonte\n",
    "             fontweight='bold', # Espessura da fonte\n",
    "             color='#00b247' # Cor da fonte\n",
    "            )\n",
    "\n",
    "fig, ax = plt.subplots(\n",
    "            figsize = (10,10)\n",
    "    )\n",
    "\n",
    "\n",
    "ax.barh(top_n_itens['Product Name'].values, #valores do eixo y\n",
    "        top_n_itens['Sales'].values, align='center',color='c'\n",
    "       )\n",
    "\n",
    "for i in np.arange(0,n):\n",
    "    ax.annotate('{:,.0f}k'.format(top_n_itens['Sales'].values[i]/1000), # Valores que vão ser mostrados como rótulos, já formatados\n",
    "                (top_n_itens['Sales'].values[i],i), # Posição (x,y que esses valores vão estar)\n",
    "                ha=\"center\",  # Alinhamento horizontal do texto\n",
    "                va=\"top\", # Alinhamento vertical do texto\n",
    "                xytext=(-10,5), # Deslocamento em relação ao ponto que o texto estaria\n",
    "                textcoords=\"offset points\",  # Sistema de coordenadas que o xytext vai ter como referência (nesse caso será em pontos, não em pixels)\n",
    "                fontsize=10, # Tamanho da fonte dos rótulos\n",
    "                fontweight='bold', # Espessura da fonte dos rótulos\n",
    "                color=\"black\" # Cor dos rótulos\n",
    "            )\n",
    "\n",
    "ax.invert_yaxis()\n",
    "ax.set_title('TOP ITENS',fontsize=20)\n",
    "\n",
    "ax.spines['top'].set_visible(False) \n",
    "ax.spines['left'].set_visible(False)\n",
    "ax.spines['right'].set_visible(False)\n",
    "ax.spines['bottom'].set_visible(False)\n",
    "ax.xaxis.set_visible(False) \n",
    "ax.tick_params(axis='x',labelsize=10) \n",
    "\n",
    "\n",
    "plt.tight_layout() # Serve para tirar a imagem do tamanho correto sem cortar os nomes\n",
    "plt.savefig('top itens',transparent=True) # para tirar a imagem do grafico\n",
    "\n",
    "\n"
   ]
  },
  {
   "cell_type": "code",
   "execution_count": 203,
   "metadata": {},
   "outputs": [
    {
     "data": {
      "image/png": "[encoded data removed]",
      "text/plain": [
       "<Figure size 1152x864 with 1 Axes>"
      ]
     },
     "metadata": {
      "needs_background": "light"
     },
     "output_type": "display_data"
    }
   ],
   "source": [
    "\n",
    "fig,ax = plt.subplots(\n",
    "            figsize = (16,12)\n",
    "        )\n",
    "\n",
    "ax.set_title(\"ITENS X ANOS\", # Título do gráfico\n",
    "             fontsize=20, # Tamanho da fonte\n",
    "             fontweight='bold', # Espessura da fonte\n",
    "             color='black' # Cor da fonte\n",
    "            )\n",
    "\n",
    "\n",
    "hgt = 0.2\n",
    "\n",
    "qtd_itens = len(top_n_itens)\n",
    "\n",
    "ax.barh(np.arange(0,qtd_itens)-hgt-hgt/2, #Valores de y\n",
    "        itens_ano_grafico[itens_ano_grafico.Ano == 2018].Sales_y.values, # Valores de x \n",
    "        align='center',\n",
    "        height=hgt, # Comprimento do gráfico\n",
    "        label=2018,\n",
    "        color=\"#0069c0\"\n",
    "       )\n",
    "ax.barh(np.arange(0,qtd_itens)-hgt/2, #Valores de y\n",
    "        itens_ano_grafico[itens_ano_grafico.Ano == 2017].Sales_y.values, # Valores de x \n",
    "        align='center',height=hgt,label=2017,color=\"#008ac5\")\n",
    "ax.barh(np.arange(0,qtd_itens)+hgt/2, #Valores de y\n",
    "        itens_ano_grafico[itens_ano_grafico.Ano == 2016].Sales_y.values, # Valores de x \n",
    "        align='center',height=hgt,label=2016,color=\"#00a9b5\")\n",
    "ax.barh(np.arange(0,qtd_itens)+hgt+hgt/2, #Valores de y\n",
    "        itens_ano_grafico[itens_ano_grafico.Ano == 2015].Sales_y.values, # Valores de x \n",
    "        align='center',height=hgt,label=2015,color=\"#00c698\")\n",
    "\n",
    "ax.invert_yaxis() # Inverter o eixo y (deixando o gráfico do maior para o menor)\n",
    "ax.legend()\n",
    "\n",
    "for i in np.arange(0,qtd_itens):\n",
    "    ax.annotate('{:,.1f}k'.format(itens_ano_grafico[itens_ano_grafico.Ano == 2018].Sales_y.values[i]/1000), \n",
    "                (itens_ano_grafico[itens_ano_grafico.Ano == 2018].Sales_y.values[i],i-hgt-hgt/2), \n",
    "                ha=\"center\", va=\"top\", xytext=(20,6), textcoords=\"offset points\", \n",
    "                fontsize=12, fontweight='bold', color=\"#0069c0\")\n",
    "    \n",
    "ax.yaxis.set_ticks(np.arange(0,qtd_itens)) # Ajustando os valores de x\n",
    "ax.set_yticklabels(top_n_itens[\"Product Name\"]) # Colocando rótulo no meu eixo\n",
    "ax.tick_params(axis='y',labelsize=10) # Melhorando o visual do eixo x\n",
    "\n",
    "ax.xaxis.set_visible(False) \n",
    "\n",
    "ax.spines['top'].set_visible(False) \n",
    "ax.spines['right'].set_visible(False)\n",
    "ax.spines['bottom'].set_visible(False)\n",
    "\n",
    "plt.show()"
   ]
  },
  {
   "cell_type": "markdown",
   "metadata": {},
   "source": [
    "### EXTRA: E se quisermos outros tipos de gráficos?"
   ]
  },
  {
   "cell_type": "code",
   "execution_count": 195,
   "metadata": {},
   "outputs": [
    {
     "data": {
      "image/png": "[encoded data removed]",
      "text/plain": [
       "<Figure size 1152x288 with 1 Axes>"
      ]
     },
     "metadata": {
      "needs_background": "light"
     },
     "output_type": "display_data"
    }
   ],
   "source": [
    "fig,ax = plt.subplots(\n",
    "            figsize = (16,4) # Tamanho da figura\n",
    "        )\n",
    "ax.set_title(\"VENDAS POR MÊS\", # Título do gráfico\n",
    "             fontsize=20, # Tamanho da fonte\n",
    "             fontweight='bold', # Espessura da fonte\n",
    "             color='black' # Cor da fonte\n",
    "            )\n",
    "\n",
    "ax.plot(soma_mes[soma_mes.Ano == 2015].Mes.values-wid-wid/2, # Ajuste da posição das barras\n",
    "       soma_mes[soma_mes.Ano == 2015].Sales.values,\n",
    "       color=\"#00c698\", # Cor das barras\n",
    "       label=2015 # Label dos dados\n",
    " \n",
    "      )\n",
    "ax.plot(soma_mes[soma_mes.Ano == 2016].Mes.values-wid/2, # Ajuste da posição das barras\n",
    "       soma_mes[soma_mes.Ano == 2016].Sales.values,\n",
    "       color=\"aqua\", \n",
    "       label=2016\n",
    "      )\n",
    "\n",
    "# Adicionando o restante das barras\n",
    "ax.plot(soma_mes[soma_mes.Ano == 2017].Mes.values+wid/2, # Ajuste da posição das barras\n",
    "       soma_mes[soma_mes.Ano == 2017].Sales.values,\n",
    "       color=\"c\", \n",
    "       label=2017\n",
    "    \n",
    "      )\n",
    "ax.plot(soma_mes[soma_mes.Ano == 2018].Mes.values+wid+wid/2, # Ajuste da posição das barras\n",
    "       soma_mes[soma_mes.Ano == 2018].Sales.values,\n",
    "       color=\"#0069c0\", \n",
    "       label=2018\n",
    " \n",
    "      )\n",
    "ax.legend()\n",
    "\n",
    "# Adicionando o rótulo dos dados para 2018\n",
    "for i in np.arange(0,12):\n",
    "    ax.annotate('{:,.0f}k'.format(soma_mes[soma_mes.Ano == 2018].Sales.values[i]/1000), # Valores que vão ser mostrados como rótulos, já formatados\n",
    "                (soma_mes[soma_mes.Ano == 2018].Mes.values[i]+wid+wid/2,soma_mes[soma_mes.Ano == 2018].Sales.values[i]), # Posição (x,y que esses valores vão estar)\n",
    "                ha=\"center\",  # Alinhamento horizontal do texto\n",
    "                va=\"top\", # Alinhamento vertical do texto\n",
    "                xytext=(5,12), # Deslocamento em relação ao ponto que o texto estaria\n",
    "                textcoords=\"offset points\",  # Sistema de coordenadas que o xytext vai ter como referência (nesse caso será em pontos, não em pixels)\n",
    "                fontsize=10, # Tamanho da fonte dos rótulos\n",
    "                fontweight='bold', # Espessura da fonte dos rótulos\n",
    "                color=\"#0069c0\" # Cor dos rótulos\n",
    "            )\n",
    "    \n",
    "ax.yaxis.set_visible(False) # Retirando os valores do eixo y\n",
    "\n",
    "ax.spines['top'].set_visible(False) # Retirando os traços do gráfico\n",
    "ax.spines['left'].set_visible(False)\n",
    "ax.spines['right'].set_visible(False)\n",
    "\n",
    "ax.xaxis.set_ticks(np.arange(1,13)) # Ajustando os valores de x\n",
    "ax.set_xticklabels(['Jan','Fev','Mar','Abr','Mai','Jun','Jul','Ago','Set','Out','Nov','Dez'], color='black') # colocando rotulos no eixo X\n",
    "ax.tick_params(axis='x',labelsize=15) # Melhorando o visual do eixo x\n",
    "    \n",
    "plt.show()"
   ]
  }
 ],
 "metadata": {
  "kernelspec": {
   "display_name": "Python 3 (ipykernel)",
   "language": "python",
   "name": "python3"
  },
  "language_info": {
   "codemirror_mode": {
    "name": "ipython",
    "version": 3
   },
   "file_extension": ".py",
   "mimetype": "text/x-python",
   "name": "python",
   "nbconvert_exporter": "python",
   "pygments_lexer": "ipython3",
   "version": "3.9.7"
  }
 },
 "nbformat": 4,
 "nbformat_minor": 4
}
